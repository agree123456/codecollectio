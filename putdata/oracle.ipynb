{
 "cells": [
  {
   "cell_type": "code",
   "execution_count": 7,
   "metadata": {},
   "outputs": [],
   "source": [
    "import numpy as np \n",
    "import pandas as pd \n",
    "import matplotlib.pyplot as plt \n",
    "import os, glob\n",
    "import cx_Oracle\n"
   ]
  },
  {
   "cell_type": "code",
   "execution_count": 18,
   "metadata": {},
   "outputs": [],
   "source": [
    "# cx_Oracle 모듈을 사용하여 Oracle 데이터베이스에 연결합니다.\n",
    "# makedsn() 함수를 사용하여 데이터베이스의 호스트, 포트, SID 정보를 담은 데이터소스 이름(DSN)을 생성합니다.\n",
    "dsn = cx_Oracle.makedsn('localhost',1521,'xe')\n",
    "# connect() 함수를 사용하여 데이터베이스에 연결합니다. 이때, 사용자 이름과 비밀번호, DSN을 인자로 전달합니다.\n",
    "conn = cx_Oracle.connect('ORA_USER','1234',dsn)\n",
    "# cursor() 함수를 사용하여 데이터베이스 커서를 생성합니다.\n",
    "cur = conn.cursor()"
   ]
  },
  {
   "cell_type": "code",
   "execution_count": 21,
   "metadata": {},
   "outputs": [
    {
     "name": "stdout",
     "output_type": "stream",
     "text": [
      "Oracle DB 연결 성공\n"
     ]
    }
   ],
   "source": [
    "# db연결확인 \n",
    "if conn:\n",
    "    print(\"Oracle DB 연결 성공\")\n",
    "else:\n",
    "    print(\"Oracle DB 연결 실패\")\n",
    "    exit(100)"
   ]
  },
  {
   "cell_type": "code",
   "execution_count": null,
   "metadata": {},
   "outputs": [],
   "source": [
    "#path 변수에 csv 파일이 저장된 경로를 지정합니다.\n",
    "path = r'C:\\education\\dashin\\save_data'\n",
    "#glob.glob() 함수를 사용하여 해당 경로에서 모든 csv 파일을 찾습니다.\n",
    "all_fils = glob.glob (os.path.join(path,'*.csv'))\n",
    "# '종목코드' 영어로 : ticker\n",
    "for file in all_fils:\n",
    "    filenames =  file.split('\\\\')[-1]\n",
    "    #folder명에서 종목코드 추출\n",
    "    jocode = file.split('\\\\')[-1].split('_')[0]\n",
    "    jocode_ = jocode[1:]\n",
    "    #찾은 csv 파일을 하나씩 읽어와 st_df라는 DataFrame에 저장합니다.\n",
    "    st_df = pd.read_csv(file)\n",
    "    # st_df DataFrame에서 '종목코드' 열을 생성하고, 해당 종목코드를 저장합니다.\n",
    "    st_df['종목코드'] = jocode_\n",
    "    df_list = st_df.values.tolist()\n",
    "    # DB에 넣을때  몇개의 컬럼인지 \n",
    "    cur.executemany(\"INSERT INTO exxx VALUES (:1,:2,:3,:4,:5,:6,:7,:8,:9)\",\n",
    "             df_list, batcherrors = True)\n",
    "    #cur.execute() 함수를 사용하여 데이터베이스에 변경 사항을 커밋합니다.\n",
    "    cur.execute(\"commit\")\n",
    "    #cur.close() 함수를 사용하여 데이터베이스 연결을 종료합니다.\n",
    "    cur.close()\n",
    "# 들어간 갯수 확인\n",
    "cur.execute('select count(*) from exxx ')\n",
    "cur.fetchone()    \n"
   ]
  }
 ],
 "metadata": {
  "kernelspec": {
   "display_name": "ml-dev",
   "language": "python",
   "name": "python3"
  },
  "language_info": {
   "codemirror_mode": {
    "name": "ipython",
    "version": 3
   },
   "file_extension": ".py",
   "mimetype": "text/x-python",
   "name": "python",
   "nbconvert_exporter": "python",
   "pygments_lexer": "ipython3",
   "version": "3.10.13"
  }
 },
 "nbformat": 4,
 "nbformat_minor": 2
}
