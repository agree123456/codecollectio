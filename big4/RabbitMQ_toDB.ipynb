{
 "cells": [
  {
   "cell_type": "markdown",
   "metadata": {},
   "source": [
    "---\n",
    "### RabbitMQ 서버 및 MariaDB에 연결하는 코드\n",
    "---"
   ]
  },
  {
   "cell_type": "code",
   "execution_count": 25,
   "metadata": {},
   "outputs": [],
   "source": [
    "# 모듈 임포트\n",
    "import pika\n",
    "import mysql.connector\n",
    "\n",
    "import sys\n",
    "import time"
   ]
  },
  {
   "cell_type": "code",
   "execution_count": 16,
   "metadata": {},
   "outputs": [],
   "source": [
    "# 콜백 함수\n",
    "def callback(ch, method, properties, body):\n",
    "    message = body.decode('utf-8')\n",
    "    print(\" [x] Received %r\" % message)\n",
    "    \n",
    "    # MariaDB에 연결\n",
    "    conn = mysql.connector.connect(\n",
    "        host=\"34.64.63.23\",\n",
    "        user=\"big17\",\n",
    "        password=\"1234\",\n",
    "        database=\"trading\"\n",
    "    )\n",
    "    \n",
    "    # 커서 생성\n",
    "    cursor = conn.cursor()\n",
    "    \n",
    "    # 메시지를 DB에 저장\n",
    "    sql = \"\"\n",
    "    val = (message, )\n",
    "    # SQL문 실행\n",
    "    cursor.execute(message)\n",
    "    \n",
    "    # 커서 커밋 및 확인\n",
    "    conn.commit()\n",
    "    print(cursor.rowcount, 'record(s) inserted')\n",
    "    \n",
    "    # 연결 종료\n",
    "    cursor.close()\n",
    "    conn.close()"
   ]
  },
  {
   "cell_type": "code",
   "execution_count": 18,
   "metadata": {},
   "outputs": [
    {
     "data": {
      "text/plain": [
       "<METHOD(['channel_number=1', 'frame_type=1', \"method=<Queue.DeclareOk(['consumer_count=0', 'message_count=0', 'queue=test'])>\"])>"
      ]
     },
     "execution_count": 18,
     "metadata": {},
     "output_type": "execute_result"
    }
   ],
   "source": [
    "# RabbitMQ 설정\n",
    "credentials = pika.PlainCredentials('big17', '1234')\n",
    "parameters = pika.ConnectionParameters(\n",
    "      host='34.64.63.23'\n",
    "    , port=5672\n",
    "    , virtual_host='/'\n",
    "    , credentials=credentials\n",
    ")\n",
    "connection = pika.BlockingConnection(parameters)\n",
    "\n",
    "channel = connection.channel()\n",
    "channel.queue_declare(queue='test')\n",
    "\n",
    "# Queue에서 메시지를 받을 준비\n",
    "channel.basic_consume(\n",
    "      queue='test'\n",
    "    , on_message_callback=callback\n",
    "    , auto_ack=True\n",
    ")\n",
    "print(\" [*] Waiting for messages. To exit press CTRL+C\")\n",
    "channel.start_consuming()"
   ]
  },
  {
   "cell_type": "markdown",
   "metadata": {},
   "source": [
    "---\n",
    "### Producer 코드\n",
    "---\n",
    "작업을 생성하고 큐에 추가하는 코드"
   ]
  },
  {
   "cell_type": "code",
   "execution_count": 23,
   "metadata": {},
   "outputs": [
    {
     "data": {
      "text/plain": [
       "<METHOD(['channel_number=1', 'frame_type=1', \"method=<Queue.DeclareOk(['consumer_count=0', 'message_count=0', 'queue=job_queue'])>\"])>"
      ]
     },
     "execution_count": 23,
     "metadata": {},
     "output_type": "execute_result"
    }
   ],
   "source": [
    "# RabbitMQ 서버에 연결\n",
    "credentials = pika.PlainCredentials('big17', '1234')\n",
    "parameters = pika.ConnectionParameters(\n",
    "      host='34.64.63.23'\n",
    "    , port=5672\n",
    "    , virtual_host='/'\n",
    "    , credentials=credentials\n",
    ")\n",
    "connection = pika.BlockingConnection(parameters)\n",
    "channel = connection.channel()\n",
    "\n",
    "# 'job_queue'(예시)라는 이름의 큐를 선언\n",
    "channel.queue_declare(queue='job_queue', durable=True)"
   ]
  },
  {
   "cell_type": "code",
   "execution_count": 26,
   "metadata": {},
   "outputs": [
    {
     "name": "stdout",
     "output_type": "stream",
     "text": [
      " [x] Sent '--f=c:\\\\Users\\\\SHLee\\\\AppData\\\\Roaming\\\\jupyter\\\\runtime\\\\kernel-v2-319963SiIZll0qGeJ.json'\n"
     ]
    }
   ],
   "source": [
    "# 큐에 작업 추가\n",
    "message = ' '.join(sys.argv[1:]) # 메시지 내용 설정\n",
    "channel.basic_publish(\n",
    "      exchange='' # 교환명(도큐 읽어보니까 비워도 됩니다. -승현)\n",
    "    , routing_key='job_queue' # 라우팅 키(QUEUE_NAME)\n",
    "    , body=message # 큐에 싣는 메시지\n",
    "    , properties=pika.BasicProperties(delivery_mode=2) # 메시지를 영구적으로 만듭니다.\n",
    ")\n",
    "print(\" [x] Sent %r\" % message)\n",
    "\n",
    "# 연결 종료\n",
    "connection.close()"
   ]
  },
  {
   "cell_type": "markdown",
   "metadata": {},
   "source": [
    "---\n",
    "### Consumer 코드\n",
    "---\n",
    "큐에서 작업을 받아 처리하는 코드"
   ]
  },
  {
   "cell_type": "code",
   "execution_count": 27,
   "metadata": {},
   "outputs": [],
   "source": [
    "# 콜백 함수\n",
    "def callback(ch, method, properties, body):\n",
    "    print(\" [x] Received %r\" % body.decode('utf-8'))\n",
    "    time.sleep(body.count(b'.')) # 메시지 내용에 따라 처리 시간을 달리함\n",
    "    print(\" [x] Done\")\n",
    "    ch.basic.ack(delivery_tag=method.delivery_tag)"
   ]
  },
  {
   "cell_type": "code",
   "execution_count": null,
   "metadata": {},
   "outputs": [],
   "source": [
    "# RabbitMQ 서버에 연결\n",
    "credentials = pika.PlainCredentials('big17', '1234')\n",
    "parameters = pika.ConnectionParameters(\n",
    "      host='34.64.63.23'\n",
    "    , port=5672\n",
    "    , virtual_host='/'\n",
    "    , credentials=credentials\n",
    ")\n",
    "connection = pika.BlockingConnection(parameters)\n",
    "channel = connection.channel()\n",
    "\n",
    "# 'job_queue'(예시)라는 이름의 큐를 선언\n",
    "channel.queue_declare(queue='job_queue', durable=True)\n",
    "\n",
    "# 한번의 하나의 메시지만 처리하도록 요청\n",
    "channel.basic_qos(prefetch_count=1)\n",
    "\n",
    "# 메시지 처리\n",
    "channel.basic_consume(\n",
    "    queue='job_queue'\n",
    "  , on_message_callback=callback\n",
    "  , auto_ack=True\n",
    ")\n",
    "\n",
    "# 처리 준비 완료 메시지 출력\n",
    "# 놔두면 무한 대기합니다. 테스트만 할거면 적당한 시점에 컨트롤+C 해서 강제종료하세요.\n",
    "print(\" [*] Waiting for messages. To exit press CTRL+C\")\n",
    "channel.start_consuming()"
   ]
  },
  {
   "cell_type": "code",
   "execution_count": null,
   "metadata": {},
   "outputs": [],
   "source": []
  }
 ],
 "metadata": {
  "kernelspec": {
   "display_name": "dl-dev",
   "language": "python",
   "name": "python3"
  },
  "language_info": {
   "codemirror_mode": {
    "name": "ipython",
    "version": 3
   },
   "file_extension": ".py",
   "mimetype": "text/x-python",
   "name": "python",
   "nbconvert_exporter": "python",
   "pygments_lexer": "ipython3",
   "version": "3.10.13"
  }
 },
 "nbformat": 4,
 "nbformat_minor": 2
}
