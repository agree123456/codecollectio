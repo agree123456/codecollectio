{
 "cells": [
  {
   "cell_type": "code",
   "execution_count": 1,
   "metadata": {
    "id": "9gzHsDpiuRdX"
   },
   "outputs": [],
   "source": [
    "import threading\n",
    "import numpy as np\n",
    "import pandas as pd\n",
    "import matplotlib.pyplot as plt\n",
    "plt.switch_backend('agg')\n",
    "\n",
    "import os\n",
    "os.environ['TF_CPP_MIN_LOG_LEVEL'] = '2'\n",
    "\n",
    "# 0: 모든 로그를 출력합니다. (기본값)\n",
    "# 1: INFO 로그를 제외하고 출력합니다.\n",
    "# 2: WARNING 로그를 제외하고 출력합니다.\n",
    "# 3: ERROR 로그를 제외하고 출력합니다.\n",
    "\n",
    "import logging\n",
    "logging.getLogger('tensorflow').setLevel(logging.ERROR)  # TensorFlow 로그 중 ERROR 수준만 출력\n",
    "import abc\n",
    "import collections\n",
    "import threading\n",
    "import time\n",
    "import datetime\n",
    "import json\n",
    "import numpy as np\n",
    "from tqdm.notebook import tqdm\n",
    "import sys\n",
    "\n",
    "from mplfinance.original_flavor import candlestick_ohlc\n",
    "\n",
    "import warnings\n",
    "warnings.filterwarnings('ignore')"
   ]
  },
  {
   "cell_type": "code",
   "execution_count": 2,
   "metadata": {
    "colab": {
     "base_uri": "https://localhost:8080/",
     "height": 35
    },
    "executionInfo": {
     "elapsed": 9,
     "status": "ok",
     "timestamp": 1709355688349,
     "user": {
      "displayName": "sh s",
      "userId": "13494081880557974424"
     },
     "user_tz": -540
    },
    "id": "Y3-DeNYFW0aL",
    "outputId": "5322a871-c0cf-4dea-9a85-e0a0a43e1e4f"
   },
   "outputs": [
    {
     "data": {
      "text/plain": [
       "'2.13.0'"
      ]
     },
     "execution_count": 2,
     "metadata": {},
     "output_type": "execute_result"
    }
   ],
   "source": [
    "import tensorflow as tf\n",
    "os.environ['TF_CPP_MIN_LOG_LEVEL'] = '1'\n",
    "logging.getLogger('tensorflow').setLevel(logging.FATAL)  # TensorFlow 로그를 완전히 억제\n",
    "tf.get_logger().setLevel('FATAL')\n",
    "\n",
    "from tensorflow.keras.models import Model\n",
    "from tensorflow.keras.layers import Input, Dense, LSTM, Conv1D,BatchNormalization, Dropout, MaxPooling1D, Flatten\n",
    "from tensorflow.keras.optimizers import Adam\n",
    "\n",
    "tf.__version__"
   ]
  },
  {
   "cell_type": "code",
   "execution_count": 3,
   "metadata": {
    "id": "SOsToWoaZdXx"
   },
   "outputs": [],
   "source": [
    "# 날짜, 시간 관련 문자열 형식\n",
    "FORMAT_DATE = \"%Y%m%d\"\n",
    "FORMAT_DATETIME = \"%Y%m%d%H%M%S\"\n",
    "\n",
    "def get_time_str():\n",
    "    return datetime.datetime.fromtimestamp(\n",
    "        int(time.time())).strftime(FORMAT_DATETIME)\n",
    "\n",
    "def sigmoid(x):\n",
    "    x = max(min(x, 10), -10)\n",
    "    return 1. / (1. + np.exp(-x))\n",
    "\n",
    "def softmax(x):\n",
    "    e_x = np.exp(x - np.max(x))  # 오버플로우 방지를 위해 x에서 최댓값을 뺌\n",
    "    return e_x / e_x.sum(axis=0)  # 각 요소를 요소의 합으로 나누어 softmax 계산\n",
    "\n",
    "# 로거 이름\n",
    "LOGGER_NAME = 'rltrader'\n",
    "# 경로 설정\n",
    "__file__='./'       \n",
    "BASE_DIR = os.environ.get('RLTRADER_BASE', os.path.abspath(os.path.join(__file__)))\n"
   ]
  },
  {
   "cell_type": "markdown",
   "metadata": {
    "id": "Yb217dL_dmea"
   },
   "source": [
    "## 드라이브에서 데이터 불러오기\n"
   ]
  },
  {
   "cell_type": "code",
   "execution_count": 4,
   "metadata": {
    "id": "unVHYSfSeYMo"
   },
   "outputs": [],
   "source": [
    "CHART_DATA_COLUMNS = ['datetime', 'open', 'high', 'low', 'close', 'volume']\n",
    "class load_data:\n",
    "    #csv파일에 있는 데이터는 이미 전처리 완료되어 있음\n",
    "    def __init__(self):\n",
    "        self.chart_data = None\n",
    "        self.train_data = None\n",
    "\n",
    "    def read_csv(self, code=None, start_day=None, end_day=None):\n",
    "        df = pd.read_csv(f'{code}_전처리_20230703_20230728_최종_스케일링.csv')\n",
    "        df = df[(df['datetime'] > start_day) & (df['datetime'] < end_day)]\n",
    "        chart_data = df[CHART_DATA_COLUMNS]\n",
    "        train_data = df.drop(['datetime', 'open', 'high', 'low', 'close'], axis=1)\n",
    "        return chart_data, train_data\n",
    "\n",
    "    def read_test(self, code=None):\n",
    "        df = pd.read_csv(f'./{code}test12월.csv')\n",
    "        chart_data = df[CHART_DATA_COLUMNS]\n",
    "        train_data = df.drop(['datetime', 'open', 'high', 'low', 'close'], axis=1)\n",
    "        return chart_data, train_data"
   ]
  },
  {
   "cell_type": "markdown",
   "metadata": {
    "id": "xkRkq500eo_W"
   },
   "source": [
    "## 강화학습 Environment 클래스\n",
    "###   agent에게 현재 차트 정보 전달하는 클래스"
   ]
  },
  {
   "cell_type": "code",
   "execution_count": 5,
   "metadata": {
    "id": "jZQgqLjcehco"
   },
   "outputs": [],
   "source": [
    "class Environment:\n",
    "    PRICE_IDX = 4  # 차트데이터에서 종가의 위치\n",
    "\n",
    "    def __init__(self, chart_data=None):\n",
    "        self.chart_data = chart_data\n",
    "        self.observation = None  #에이전트에게 전달한 (분봉,일봉) 차트정보\n",
    "        self.idx = -1\n",
    "\n",
    "    def reset(self):  #관찰 초기화 처음으로 이동\n",
    "        self.observation = None\n",
    "        self.idx = -1\n",
    "\n",
    "    def observe(self):  #다음 관찰\n",
    "        if len(self.chart_data) > (self.idx + 1):\n",
    "            self.idx += 1\n",
    "            self.observation = self.chart_data.iloc[self.idx]\n",
    "            return self.observation\n",
    "        return None\n",
    "\n",
    "    def get_price(self):  #현재 종가 반환\n",
    "        if self.observation is not None:\n",
    "            return self.observation.iloc[self.PRICE_IDX]\n",
    "        return None"
   ]
  },
  {
   "cell_type": "markdown",
   "metadata": {
    "id": "Uq45fVsk-kC2"
   },
   "source": [
    "## Agent 클래스\n",
    "### 예측값으로 매수 매도 결정 , 거래액수 결정, 상태갱신\n"
   ]
  },
  {
   "cell_type": "code",
   "execution_count": 6,
   "metadata": {
    "id": "uTXjzcRtgTJj"
   },
   "outputs": [],
   "source": [
    "\n",
    "class Agent:\n",
    "    # 에이전트 상태가 구성하는 값 개수\n",
    "    # 주식 보유 비율, 손익률, 주당 매수 단가 대비 주가 등락률\n",
    "    STATE_DIM = 3\n",
    "\n",
    "    # 매매 수수료 및 세금\n",
    "    TRADING_CHARGE = 0.00015  # 거래 수수료 0.015% +\n",
    "    TRADING_TAX = 0.0018  # 거래세 0.18%\n",
    "    TRADING_HOGA = 0.0017  # 호가 0.17%\n",
    "\n",
    "    # 행동\n",
    "    ACTION_BUY = 0  # 매수\n",
    "    ACTION_SELL = 1  # 매도\n",
    "    ACTION_HOLD = 2  # 관망\n",
    "    # 인공 신경망에서 확률을 구할 행동들\n",
    "    ACTIONS = [ACTION_BUY, ACTION_SELL, ACTION_HOLD]\n",
    "    NUM_ACTIONS = len(ACTIONS) #3  # 인공 신경망에서 고려할 출력값의 개수\n",
    "\n",
    "    def __init__(self, environment, initial_balance, min_trading_price, max_trading_price):\n",
    "        # 현재 주식 가격을 가져오기 위해 환경 참조\n",
    "        self.environment = environment   #Environment(chart_data) 클래스\n",
    "        self.initial_balance = initial_balance  # 초기 자본금\n",
    "\n",
    "        self.min_trading_price = min_trading_price # 최소 단일 매매 금액\n",
    "        self.max_trading_price = max_trading_price # 최대 단일 매매 금액\n",
    "\n",
    "        # Agent 클래스의 속성\n",
    "        self.balance = initial_balance  # 현재 현금 잔고\n",
    "        self.num_stocks = 0  # 보유 주식 수\n",
    "        self.portfolio_value = 0 # 포트폴리오 가치: balance + num_stocks * {현재 주식 가격}\n",
    "\n",
    "        self.num_buy = 0  # 매수 횟수\n",
    "        self.num_sell = 0  # 매도 횟수\n",
    "        self.num_hold = 0  # 관망 횟수\n",
    "\n",
    "        # Agent 클래스의 상태  STATE_DIM=3\n",
    "        self.ratio_hold = 0  # 주식 보유 비율 (내자산에서 주식으로 들고있는 비율 주식수*종가 /pv)\n",
    "        self.profitloss = 0  # 손익률\n",
    "        self.avg_buy_price = 0  # 주당 매수 단가\n",
    "\n",
    "    def reset(self):  #다음 에피소드를 위해 초기화\n",
    "        self.balance = self.initial_balance\n",
    "        self.num_stocks = 0\n",
    "        self.portfolio_value = self.initial_balance\n",
    "        self.num_buy = 0\n",
    "        self.num_sell = 0\n",
    "        self.num_hold = 0\n",
    "        self.ratio_hold = 0\n",
    "        self.profitloss = 0\n",
    "        self.avg_buy_price = 0\n",
    "\n",
    "        #에이전트의 상태 반환  train_data에 추가됨\n",
    "    def get_states(self):\n",
    "        self.ratio_hold = self.num_stocks * self.environment.get_price() \\\n",
    "            / self.portfolio_value\n",
    "        return (\n",
    "            self.ratio_hold,\n",
    "            self.profitloss,\n",
    "            (self.environment.get_price() / self.avg_buy_price) - 1 \\\n",
    "                if self.avg_buy_price > 0 else 0\n",
    "        )\n",
    "\n",
    "    def decide_action(self, pred_value, pred_policy, epsilon):\n",
    "        confidence = 0.\n",
    "\n",
    "        pred = pred_policy\n",
    "        if pred is None:\n",
    "            pred = pred_value\n",
    "\n",
    "        if pred is None:\n",
    "            epsilon = 1     #정책, 가치 순으로 값이 없으면 탐험\n",
    "        else:\n",
    "            #매수,매도,관망의 예측값이 모두 같은 경우 탐험\n",
    "            maxpred = np.max(pred)\n",
    "            if (pred == maxpred).all():\n",
    "                epsilon = 1\n",
    "\n",
    "        # 탐험 결정\n",
    "        if np.random.rand() < epsilon:\n",
    "            exploration = True\n",
    "            action = np.random.randint(self.NUM_ACTIONS)  #탐험일경우 무작위 행동\n",
    "        else:\n",
    "            exploration = False\n",
    "            action = np.argmax(pred)\n",
    "\n",
    "        confidence = .5\n",
    "        if pred_policy is not None:\n",
    "            confidence = pred[action]\n",
    "        elif pred_value is not None:\n",
    "            confidence = sigmoid(pred[action])\n",
    "\n",
    "        return action, confidence, exploration\n",
    "\n",
    "    def validate_action(self, action):\n",
    "        if action == Agent.ACTION_BUY:\n",
    "            # 적어도 1주를 살 수 있는지 확인\n",
    "            if self.balance < self.environment.get_price()*(1+self.TRADING_HOGA) * (1 + self.TRADING_CHARGE):\n",
    "                return False\n",
    "        elif action == Agent.ACTION_SELL:\n",
    "            # 주식 잔고가 있는지 확인\n",
    "            if self.num_stocks <= 0:\n",
    "                return False\n",
    "        return True\n",
    "\n",
    "    def decide_trading_unit(self, confidence):\n",
    "        if np.isnan(confidence):\n",
    "            return self.min_trading_price\n",
    "        added_trading_price = max(min(int(confidence * (self.max_trading_price - self.min_trading_price))\n",
    "                                      ,self.max_trading_price-self.min_trading_price), 0)\n",
    "        trading_price = self.min_trading_price + added_trading_price\n",
    "        return max(int(trading_price / self.environment.get_price()), 1)  #구매할 주식수 리턴\n",
    "\n",
    "    def act(self, action, confidence):\n",
    "        if not self.validate_action(action):\n",
    "            action = Agent.ACTION_HOLD\n",
    "\n",
    "        # 환경에서 현재 가격 얻기\n",
    "        curr_price = self.environment.get_price()\n",
    "\n",
    "        # 매수\n",
    "        if action == Agent.ACTION_BUY:\n",
    "            # 매수할 단위를 판단\n",
    "            trading_unit = self.decide_trading_unit(confidence)\n",
    "            balance = (\n",
    "                self.balance - curr_price *(1+self.TRADING_HOGA)*(1 + self.TRADING_CHARGE) * trading_unit\n",
    "            )\n",
    "            # 보유 현금이 모자랄 경우 보유 현금으로 가능한 만큼 최대한 매수\n",
    "            if balance < 0:\n",
    "                trading_unit = min(\n",
    "                    int(self.balance / (curr_price *(1+self.TRADING_HOGA) * (1 + self.TRADING_CHARGE))),\n",
    "                    int(self.max_trading_price / curr_price)\n",
    "                )\n",
    "            # 수수료를 적용하여 총 매수 금액 산정\n",
    "            invest_amount = curr_price *(1+self.TRADING_HOGA) * (1 + self.TRADING_CHARGE) * trading_unit\n",
    "            if invest_amount > 0:\n",
    "                self.avg_buy_price = \\\n",
    "                    (self.avg_buy_price * self.num_stocks + (curr_price *(1+self.TRADING_HOGA) * (1 + self.TRADING_CHARGE) )* trading_unit) \\\n",
    "                        / (self.num_stocks + trading_unit)  # 주당 매수 단가 갱신\n",
    "                self.balance -= invest_amount  # 보유 현금을 갱신\n",
    "                self.num_stocks += trading_unit  # 보유 주식 수를 갱신\n",
    "                self.num_buy += 1  # 매수 횟수 증가\n",
    "\n",
    "        # 매도\n",
    "        elif action == Agent.ACTION_SELL:\n",
    "            # 매도할 단위를 판단\n",
    "            trading_unit = self.decide_trading_unit(confidence)\n",
    "            # 보유 주식이 모자랄 경우 가능한 만큼 최대한 매도\n",
    "            trading_unit = min(trading_unit, self.num_stocks)  #trading_unit은 num_stock보다 작거나 같다.\n",
    "            # 매도\n",
    "            invest_amount = curr_price*(1-self.TRADING_HOGA) * (1 - (self.TRADING_TAX + self.TRADING_CHARGE)) * trading_unit\n",
    "            if invest_amount > 0:\n",
    "                # 주당 매수 단가 갱신\n",
    "                self.avg_buy_price = \\\n",
    "                    (self.avg_buy_price * self.num_stocks - (curr_price*(1-self.TRADING_HOGA) * (1 - (self.TRADING_TAX + self.TRADING_CHARGE))) * trading_unit) \\\n",
    "                        / (self.num_stocks - trading_unit) \\\n",
    "                            if self.num_stocks > trading_unit else 0\n",
    "                self.num_stocks -= trading_unit  # 보유 주식 수를 갱신\n",
    "                self.balance += invest_amount  # 보유 현금을 갱신\n",
    "                self.num_sell += 1  # 매도 횟수 증가\n",
    "\n",
    "        # 관망\n",
    "        elif action == Agent.ACTION_HOLD:\n",
    "            self.num_hold += 1  # 관망 횟수 증가\n",
    "\n",
    "        # 포트폴리오 가치 갱신\n",
    "        self.portfolio_value = self.balance + curr_price * self.num_stocks\n",
    "        self.profitloss = self.portfolio_value / self.initial_balance - 1\n",
    "        return self.profitloss\n"
   ]
  },
  {
   "cell_type": "markdown",
   "metadata": {
    "id": "wFUJaGIItpbu"
   },
   "source": [
    "## 결과 시각화 Visualizer 함수\n",
    "### 차트 , agent, value,policy, pv"
   ]
  },
  {
   "cell_type": "code",
   "execution_count": 7,
   "metadata": {
    "id": "UI4s51xRqjcU"
   },
   "outputs": [],
   "source": [
    "class Visualizer:\n",
    "    COLORS = ['r', 'b', 'g']  #매수, 매도, 관망\n",
    "\n",
    "    def __init__(self):\n",
    "        self.canvas = None\n",
    "        # 캔버스 같은 역할을 하는 Matplotlib의 Figure 클래스 객체\n",
    "        self.fig = None\n",
    "        # 차트를 그리기 위한 Matplotlib의 Axes 클래스 객체\n",
    "        self.axes = None\n",
    "        self.title = ''  # 그림 제목\n",
    "        self.x = []\n",
    "        self.xticks = []\n",
    "        self.xlabels = []\n",
    "\n",
    "    def prepare(self, chart_data, title):\n",
    "        self.title = title\n",
    "        with lock:\n",
    "            # 캔버스를 초기화하고 5개의 차트를 그릴 준비\n",
    "            self.fig, self.axes = plt.subplots(\n",
    "                nrows=5, ncols=1, facecolor='w', sharex=True, figsize=(50, 15))\n",
    "\n",
    "            for ax in self.axes:\n",
    "                # 보기 어려운 과학적 표기 비활성화\n",
    "                ax.get_xaxis().get_major_formatter() \\\n",
    "                    .set_scientific(False)\n",
    "                ax.get_yaxis().get_major_formatter() \\\n",
    "                    .set_scientific(False)\n",
    "                # y axis 위치 오른쪽으로 변경\n",
    "                ax.yaxis.tick_right()\n",
    "            # 차트 1. 일봉 차트\n",
    "            self.axes[0].set_ylabel('Env.')  # y 축 레이블 표시\n",
    "            x = np.arange(len(chart_data))\n",
    "            # open, high, low, close 순서로된 2차원 배열\n",
    "            ohlc = np.hstack((\n",
    "                x.reshape(-1, 1), np.array(chart_data)[:, 1:-1]))\n",
    "            # 양봉은 빨간색으로 음봉은 파란색으로 표시\n",
    "            candlestick_ohlc(self.axes[0], ohlc, colorup='r', colordown='b')\n",
    "            # 거래량 가시화\n",
    "            ax = self.axes[0].twinx()\n",
    "            volume = np.array(chart_data)[:, -1].tolist()\n",
    "            ax.bar(x, volume, color='b', alpha=0.3)\n",
    "            # x축 설정\n",
    "            self.x = np.arange(len(chart_data['datetime']))\n",
    "            self.xticks = chart_data.index[[0, -1]]\n",
    "            self.xlabels = chart_data.iloc[[0, -1]]['datetime']\n",
    "\n",
    "    def plot(self, epoch_str=None, num_epoches=None, epsilon=None,\n",
    "            action_list=None, actions=None, num_stocks=None,\n",
    "            outvals_value=[], outvals_policy=[], exps=None,\n",
    "            initial_balance=None, pvs=None):\n",
    "        with lock:\n",
    "            actions = np.array(actions)  # 에이전트의 행동 배열\n",
    "            # 가치 신경망의 출력 배열\n",
    "            outvals_value = np.array(outvals_value)\n",
    "            # 정책 신경망의 출력 배열\n",
    "            outvals_policy = np.array(outvals_policy)\n",
    "            # 초기 자본금 배열\n",
    "            pvs_base = np.zeros(len(actions)) + initial_balance\n",
    "\n",
    "            # 차트 2. 에이전트 상태 (행동, 보유 주식 수)\n",
    "            for action, color in zip(action_list, self.COLORS):\n",
    "                for i in self.x[actions == action]:\n",
    "                    # 배경 색으로 행동 표시\n",
    "                    self.axes[1].axvline(i, color=color, alpha=0.1)\n",
    "            self.axes[1].plot(self.x, num_stocks, '-k')  # 보유 주식 수 그리기\n",
    "\n",
    "            # 차트 3. 가치 신경망\n",
    "            if len(outvals_value) > 0:\n",
    "                max_actions = np.argmax(outvals_value, axis=1)\n",
    "                for action, color in zip(action_list, self.COLORS):\n",
    "                    # 배경 그리기\n",
    "                    for idx in self.x:\n",
    "                        if max_actions[idx] == action:\n",
    "                            self.axes[2].axvline(idx, color=color, alpha=0.1)\n",
    "                    # 가치 신경망 출력 그리기\n",
    "                    self.axes[2].plot(self.x, outvals_value[:, action],\n",
    "                        color=color, linestyle='-')\n",
    "\n",
    "            # 차트 4. 정책 신경망\n",
    "            # 탐험을 노란색 배경으로 그리기\n",
    "            for exp_idx in exps:\n",
    "                self.axes[3].axvline(exp_idx, color='y')\n",
    "            # 행동을 배경으로 그리기\n",
    "            _outvals = outvals_policy if len(outvals_policy) > 0 else outvals_value\n",
    "            for idx, outval in zip(self.x, _outvals):\n",
    "                color = 'white'\n",
    "                if np.isnan(outval.max()):\n",
    "                    continue\n",
    "                if outval.argmax() == Agent.ACTION_BUY:\n",
    "                    color = self.COLORS[0]  # 매수 빨간색\n",
    "                elif outval.argmax() == Agent.ACTION_SELL:\n",
    "                    color = self.COLORS[1]  # 매도 파란색\n",
    "                elif outval.argmax() == Agent.ACTION_HOLD:\n",
    "                    color = self.COLORS[2]  # 관망 초록색\n",
    "                self.axes[3].axvline(idx, color=color, alpha=0.1)\n",
    "            # 정책 신경망의 출력 그리기\n",
    "            if len(outvals_policy) > 0:\n",
    "                for action, color in zip(action_list, self.COLORS):\n",
    "                    self.axes[3].plot(\n",
    "                        self.x, outvals_policy[:, action],\n",
    "                        color=color, linestyle='-')\n",
    "\n",
    "            # 차트 5. 포트폴리오 가치\n",
    "            self.axes[4].axhline(\n",
    "                initial_balance, linestyle='-', color='gray')  #시작금액 기준선\n",
    "            self.axes[4].fill_between(self.x, pvs, pvs_base,\n",
    "                where=pvs > pvs_base, facecolor='r', alpha=0.1) #수익\n",
    "            self.axes[4].fill_between(self.x, pvs, pvs_base,\n",
    "                where=pvs < pvs_base, facecolor='b', alpha=0.1) #손해\n",
    "            self.axes[4].plot(self.x, pvs, '-k')\n",
    "            self.axes[4].xaxis.set_ticks(self.xticks)\n",
    "            self.axes[4].xaxis.set_ticklabels(self.xlabels)\n",
    "\n",
    "            # 에포크 및 탐험 비율\n",
    "            self.fig.suptitle(f'{self.title}\\nEPOCH:{epoch_str}/{num_epoches} EPSILON:{epsilon:.2f}')\n",
    "            # 캔버스 레이아웃 조정\n",
    "            self.fig.tight_layout()\n",
    "            self.fig.subplots_adjust(top=0.85)\n",
    "\n",
    "    def clear(self, xlim):\n",
    "        with lock:\n",
    "            _axes = self.axes.tolist()\n",
    "            for ax in _axes[1:]:\n",
    "                ax.cla()  # 그린 차트 지우기\n",
    "                ax.relim()  # limit를 초기화\n",
    "                ax.autoscale()  # 스케일 재설정\n",
    "            # y축 레이블 재설정\n",
    "            self.axes[1].set_ylabel('Agent')\n",
    "            self.axes[2].set_ylabel('V')\n",
    "            self.axes[3].set_ylabel('P')\n",
    "            self.axes[4].set_ylabel('PV')\n",
    "            for ax in _axes:\n",
    "                ax.set_xlim(xlim)  # x축 limit 재설정\n",
    "                ax.get_xaxis().get_major_formatter() \\\n",
    "                    .set_scientific(False)  # x축의 과학적 표기 비활성화\n",
    "                ax.get_yaxis().get_major_formatter() \\\n",
    "                    .set_scientific(False)  # y축의 과학적 표기 비활성화\n",
    "                # x축 간격을 일정하게 설정\n",
    "                ax.ticklabel_format(useOffset=False)\n",
    "\n",
    "    def save(self, path):\n",
    "        with lock:\n",
    "            self.fig.savefig(path)\n"
   ]
  },
  {
   "cell_type": "markdown",
   "metadata": {
    "id": "-SUkTjgQ-ycs"
   },
   "source": [
    "## 신경망 Network 클래스\n",
    "### train_data+agent_state를 넣어서 policy_pred, value_pred를 구하는 클래스"
   ]
  },
  {
   "cell_type": "code",
   "execution_count": 8,
   "metadata": {
    "id": "ZgvjY5Vr-xnx"
   },
   "outputs": [],
   "source": [
    "class Network:\n",
    "    lock = threading.Lock()\n",
    "\n",
    "    def __init__(self, input_dim=0, output_dim=0, lr=0.001,\n",
    "                shared_network=None, activation='sigmoid', loss='mse'):\n",
    "        self.input_dim = input_dim\n",
    "        self.output_dim = output_dim\n",
    "        self.lr = lr\n",
    "        self.shared_network = shared_network\n",
    "        self.activation = activation\n",
    "        self.loss = loss\n",
    "        self.model = None\n",
    "\n",
    "    def predict(self, sample):\n",
    "        with self.lock:\n",
    "            pred = self.model.predict_on_batch(sample).flatten()\n",
    "            return pred\n",
    "\n",
    "    def train_on_batch(self, x, y):\n",
    "        loss = 0.\n",
    "        with self.lock:\n",
    "            history = self.model.fit(x, y, epochs=10, verbose=False)\n",
    "            loss += np.sum(history.history['loss'])\n",
    "        return loss\n",
    "\n",
    "    def save_model(self, model_path):\n",
    "        if model_path is not None and self.model is not None:\n",
    "            self.model.save_weights(model_path, overwrite=True)\n",
    "\n",
    "    def load_model(self, model_path):\n",
    "        if model_path is not None:\n",
    "            self.model.load_weights(model_path)\n",
    "\n",
    "    @classmethod\n",
    "    def get_shared_network(cls, net='lstm', num_steps=1, input_dim=0, output_dim=0):\n",
    "        # output_dim은 pytorch에서 필요\n",
    "        if net == 'lstm':\n",
    "            return LSTMNetwork.get_network_head(Input((num_steps, input_dim)))\n",
    "        elif net == 'cnn':\n",
    "            return CNN.get_network_head(Input((num_steps, input_dim)))\n",
    "\n",
    "class LSTMNetwork(Network):\n",
    "    def __init__(self, *args, num_steps=1, **kwargs):\n",
    "        super().__init__(*args, **kwargs)\n",
    "        self.num_steps = num_steps\n",
    "        inp = None\n",
    "        output = None\n",
    "        if self.shared_network is None:\n",
    "            inp = Input((self.num_steps, self.input_dim))\n",
    "            output = self.get_network_head(inp).output\n",
    "        else:\n",
    "            inp = self.shared_network.input\n",
    "            output = self.shared_network.output\n",
    "        output = Dense(\n",
    "            self.output_dim, activation=self.activation,\n",
    "            kernel_initializer='random_normal')(output)\n",
    "        self.model = Model(inp, output)\n",
    "        self.model.compile(\n",
    "            optimizer=Adam(learning_rate=self.lr), loss=self.loss)\n",
    "\n",
    "    @staticmethod\n",
    "    def get_network_head(inp):\n",
    "        output = LSTM(256, dropout=0.1, return_sequences=True,\n",
    "                    kernel_initializer='random_normal')(inp)\n",
    "        output = BatchNormalization()(output)\n",
    "        output = LSTM(128, dropout=0.1, return_sequences=True,\n",
    "                    kernel_initializer='random_normal')(output)\n",
    "        output = BatchNormalization()(output)\n",
    "        output = LSTM(64, dropout=0.1, return_sequences=True,\n",
    "                    kernel_initializer='random_normal')(output)\n",
    "        output = BatchNormalization()(output)\n",
    "        output = LSTM(32, dropout=0.1, kernel_initializer='random_normal')(output)\n",
    "        output = BatchNormalization()(output)\n",
    "        return Model(inp, output)\n",
    "\n",
    "    def train_on_batch(self, x, y):\n",
    "        x = np.array(x).reshape((-1, self.num_steps, self.input_dim))\n",
    "        return super().train_on_batch(x, y)\n",
    "\n",
    "    def predict(self, sample):\n",
    "        sample = np.array(sample).reshape((1, self.num_steps, self.input_dim))\n",
    "        return super().predict(sample)\n",
    "\n",
    "\n",
    "class CNN(Network):\n",
    "    def __init__(self, *args, num_steps=1, **kwargs):\n",
    "        super().__init__(*args, **kwargs)\n",
    "        self.num_steps = num_steps\n",
    "        inp = None\n",
    "        output = None\n",
    "        if self.shared_network is None:\n",
    "            inp = Input((self.num_steps, self.input_dim, 1))\n",
    "            output = self.get_network_head(inp).output\n",
    "        else:\n",
    "            inp = self.shared_network.input\n",
    "            output = self.shared_network.output\n",
    "        output = Dense(\n",
    "            self.output_dim, activation=self.activation,\n",
    "            kernel_initializer='random_normal')(output)\n",
    "        self.model = Model(inp, output)\n",
    "        self.model.compile(\n",
    "            optimizer=Adam(learning_rate=self.lr), loss=self.loss)\n",
    "\n",
    "    @staticmethod\n",
    "    def get_network_head(inp):\n",
    "        output = Conv1D(256, kernel_size=5,\n",
    "            padding='same', activation='sigmoid',\n",
    "            kernel_initializer='random_normal')(inp)\n",
    "        output = BatchNormalization()(output)\n",
    "        output = MaxPooling1D(pool_size=2, padding='same')(output)\n",
    "        output = Dropout(0.1)(output)\n",
    "        output = Conv1D(64, kernel_size=5,\n",
    "            padding='same', activation='sigmoid',\n",
    "            kernel_initializer='random_normal')(output)\n",
    "        output = BatchNormalization()(output)\n",
    "        output = MaxPooling1D(pool_size=2, padding='same')(output)\n",
    "        output = Dropout(0.1)(output)\n",
    "        output = Conv1D(32, kernel_size=5,\n",
    "            padding='same', activation='sigmoid',\n",
    "            kernel_initializer='random_normal')(output)\n",
    "        output = BatchNormalization()(output)\n",
    "        output = MaxPooling1D(pool_size=2, padding='same')(output)\n",
    "        output = Dropout(0.1)(output)\n",
    "        output = Flatten()(output)\n",
    "        return Model(inp, output)\n",
    "\n",
    "    def train_on_batch(self, x, y):\n",
    "        x = np.array(x).reshape((-1, self.num_steps, self.input_dim, 1))\n",
    "        return super().train_on_batch(x, y)\n",
    "\n",
    "    def predict(self, sample):\n",
    "        sample = np.array(sample).reshape(\n",
    "            (-1, self.num_steps, self.input_dim, 1))\n",
    "        return super().predict(sample)\n"
   ]
  },
  {
   "cell_type": "code",
   "execution_count": 9,
   "metadata": {
    "id": "foAk8Ozk_zyl"
   },
   "outputs": [],
   "source": [
    "logger = logging.getLogger(LOGGER_NAME)\n",
    "\n",
    "class ReinforcementLearner:\n",
    "    __metaclass__ = abc.ABCMeta\n",
    "    lock = threading.Lock()\n",
    "\n",
    "    def __init__(self, rl_method='rl', stock_code=None,\n",
    "                chart_data=None, training_data=None,\n",
    "                min_trading_price=100000, max_trading_price=10000000,\n",
    "                net='lstm', num_steps=1, lr=0.0005,\n",
    "                discount_factor=0.9, num_epoches=1000,\n",
    "                balance=100000000, start_epsilon=1,\n",
    "                value_network=None, policy_network=None,\n",
    "                value_network_activation='linear', policy_network_activation='softmax',\n",
    "                output_path='', reuse_models=True, gen_output=True):\n",
    "        # 인자 확인\n",
    "        assert min_trading_price > 0\n",
    "        assert max_trading_price > 0\n",
    "        assert max_trading_price >= min_trading_price\n",
    "        assert num_steps > 0\n",
    "        assert lr > 0\n",
    "        # 강화학습 설정\n",
    "        self.rl_method = rl_method\n",
    "        self.discount_factor = discount_factor\n",
    "        self.num_epoches = num_epoches\n",
    "        self.start_epsilon = start_epsilon\n",
    "        # 환경 설정\n",
    "        self.stock_code = stock_code\n",
    "        self.chart_data = chart_data\n",
    "        self.environment = Environment(chart_data)\n",
    "        # 에이전트 설정\n",
    "        self.agent = Agent(self.environment, balance, min_trading_price, max_trading_price)\n",
    "        # 학습 데이터\n",
    "        self.training_data = training_data\n",
    "        self.sample = None\n",
    "        self.training_data_idx = -1\n",
    "        # 벡터 크기 = 학습 데이터 벡터 크기 + 에이전트 상태 크기\n",
    "        self.num_features = self.agent.STATE_DIM\n",
    "        if self.training_data is not None:\n",
    "            self.num_features += self.training_data.shape[1]\n",
    "        # 신경망 설정\n",
    "        self.net = net\n",
    "        self.num_steps = num_steps\n",
    "        self.lr = lr\n",
    "        self.value_network = value_network\n",
    "        self.policy_network = policy_network\n",
    "        self.reuse_models = reuse_models\n",
    "        self.value_network_activation = value_network_activation\n",
    "        self.policy_network_activation = policy_network_activation\n",
    "        # 가시화 모듈\n",
    "        self.visualizer = Visualizer()\n",
    "        # 메모리\n",
    "        self.memory_sample = []\n",
    "        self.memory_action = []\n",
    "        self.memory_reward = []\n",
    "        self.memory_value = []\n",
    "        self.memory_policy = []\n",
    "        self.memory_pv = []\n",
    "        self.memory_num_stocks = []\n",
    "        self.memory_exp_idx = []\n",
    "        # 에포크 관련 정보\n",
    "        self.loss = 0.\n",
    "        self.itr_cnt = 0\n",
    "        self.exploration_cnt = 0\n",
    "        self.batch_size = 0\n",
    "        # 로그 등 출력 경로\n",
    "        self.epoch_summary_dir=None\n",
    "        self.output_path = output_path\n",
    "        self.gen_output = gen_output\n",
    "\n",
    "    def init_value_network(self, shared_network=None, loss='mse'):\n",
    "        if self.net == 'lstm':\n",
    "            self.value_network = LSTMNetwork(\n",
    "                input_dim=self.num_features,\n",
    "                output_dim=self.agent.NUM_ACTIONS,\n",
    "                lr=self.lr, num_steps=self.num_steps,\n",
    "                shared_network=shared_network,\n",
    "                activation=self.value_network_activation, loss=loss)\n",
    "        elif self.net == 'cnn':\n",
    "            self.value_network = CNN(\n",
    "                input_dim=self.num_features,\n",
    "                output_dim=self.agent.NUM_ACTIONS,\n",
    "                lr=self.lr, num_steps=self.num_steps,\n",
    "                shared_network=shared_network,\n",
    "                activation=self.value_network_activation, loss=loss)\n",
    "        if self.reuse_models and os.path.exists(self.value_network_path):\n",
    "            self.value_network.load_model(model_path=self.value_network_path)\n",
    "\n",
    "    def init_policy_network(self, shared_network=None, loss='categorical_crossentropy'):\n",
    "        if self.net == 'lstm':\n",
    "            self.policy_network = LSTMNetwork(\n",
    "                input_dim=self.num_features,\n",
    "                output_dim=self.agent.NUM_ACTIONS,\n",
    "                lr=self.lr, num_steps=self.num_steps,\n",
    "                shared_network=shared_network,\n",
    "                activation=self.policy_network_activation, loss=loss)\n",
    "        elif self.net == 'cnn':\n",
    "            self.policy_network = CNN(\n",
    "                input_dim=self.num_features,\n",
    "                output_dim=self.agent.NUM_ACTIONS,\n",
    "                lr=self.lr, num_steps=self.num_steps,\n",
    "                shared_network=shared_network,\n",
    "                activation=self.policy_network_activation, loss=loss)\n",
    "        if self.reuse_models and os.path.exists(self.policy_network_path):\n",
    "            self.policy_network.load_model(model_path=self.policy_network_path)\n",
    "\n",
    "    def reset(self):\n",
    "        self.sample = None\n",
    "        self.training_data_idx = -1\n",
    "        # 환경 초기화\n",
    "        self.environment.reset()\n",
    "        # 에이전트 초기화\n",
    "        self.agent.reset()\n",
    "        # 가시화 초기화\n",
    "        self.visualizer.clear([0, len(self.chart_data)])\n",
    "        # 메모리 초기화\n",
    "        self.memory_sample = []\n",
    "        self.memory_action = []\n",
    "        self.memory_reward = []\n",
    "        self.memory_value = []\n",
    "        self.memory_policy = []\n",
    "        self.memory_pv = []\n",
    "        self.memory_num_stocks = []\n",
    "        self.memory_exp_idx = []\n",
    "        # 에포크 관련 정보 초기화\n",
    "        self.loss = 0.\n",
    "        self.itr_cnt = 0\n",
    "        self.exploration_cnt = 0\n",
    "        self.batch_size = 0\n",
    "\n",
    "    def build_sample(self):\n",
    "        self.environment.observe()\n",
    "        if len(self.training_data) > self.training_data_idx + 1:\n",
    "            self.training_data_idx += 1\n",
    "            self.sample = self.training_data.iloc[self.training_data_idx].tolist()\n",
    "            self.sample.extend(self.agent.get_states())\n",
    "            return self.sample  #train_data 와 현재 agent의 상태\n",
    "        return None\n",
    "\n",
    "    @abc.abstractmethod\n",
    "    def get_batch(self):\n",
    "        pass\n",
    "\n",
    "    def fit(self):\n",
    "        # 배치 학습 데이터 생성\n",
    "        x, y_value, y_policy = self.get_batch()\n",
    "        # 손실 초기화\n",
    "        self.loss = None\n",
    "        if len(x) > 0:\n",
    "            loss = 0\n",
    "            if y_value is not None:\n",
    "                # 가치 신경망 갱신\n",
    "                loss += self.value_network.train_on_batch(x, y_value)\n",
    "            if y_policy is not None:\n",
    "                # 정책 신경망 갱신\n",
    "                loss += self.policy_network.train_on_batch(x, y_policy)\n",
    "            self.loss = loss\n",
    "\n",
    "    def visualize(self, epoch_str, num_epoches, epsilon):\n",
    "        self.memory_action = [Agent.ACTION_HOLD] * (self.num_steps - 1) + self.memory_action\n",
    "        self.memory_num_stocks = [0] * (self.num_steps - 1) + self.memory_num_stocks\n",
    "        if self.value_network is not None:\n",
    "            self.memory_value = [np.array([np.nan] * len(Agent.ACTIONS))] \\\n",
    "                                * (self.num_steps - 1) + self.memory_value\n",
    "        if self.policy_network is not None:\n",
    "            self.memory_policy = [np.array([np.nan] * len(Agent.ACTIONS))] \\\n",
    "                                * (self.num_steps - 1) + self.memory_policy\n",
    "        self.memory_pv = [self.agent.initial_balance] * (self.num_steps - 1) + self.memory_pv\n",
    "        self.visualizer.plot(\n",
    "            epoch_str=epoch_str, num_epoches=num_epoches,\n",
    "            epsilon=epsilon, action_list=Agent.ACTIONS,\n",
    "            actions=self.memory_action,\n",
    "            num_stocks=self.memory_num_stocks,\n",
    "            outvals_value=self.memory_value,\n",
    "            outvals_policy=self.memory_policy,\n",
    "            exps=self.memory_exp_idx,\n",
    "            initial_balance=self.agent.initial_balance,\n",
    "            pvs=self.memory_pv,\n",
    "        )\n",
    "        self.visualizer.save(os.path.join(self.epoch_summary_dir, f'epoch_summary_{epoch_str}.png'))\n",
    "\n",
    "    def run(self, learning=True):\n",
    "        info = (\n",
    "            f'[{self.stock_code}] RL:{self.rl_method} NET:{self.net} '\n",
    "            f'LR:{self.lr} DF:{self.discount_factor} '\n",
    "        )\n",
    "\n",
    "        with self.lock:\n",
    "            logger.debug(info)\n",
    "        # 시작 시간\n",
    "        time_start = time.time()\n",
    "\n",
    "        # 가시화 준비\n",
    "        # 차트 데이터는 변하지 않으므로 미리 가시화\n",
    "        print(f'{self.stock_code}__ 차트데이터 만들기')\n",
    "        self.visualizer.prepare(self.environment.chart_data, info)\n",
    "\n",
    "        # 가시화 결과 저장할 폴더 준비\n",
    "        if self.gen_output:\n",
    "            self.epoch_summary_dir = os.path.join(self.output_path, f'epoch_summary_{self.stock_code}')\n",
    "            if not os.path.isdir(self.epoch_summary_dir):\n",
    "                os.makedirs(self.epoch_summary_dir)\n",
    "            else:\n",
    "                for f in os.listdir(self.epoch_summary_dir):\n",
    "                    os.remove(os.path.join(self.epoch_summary_dir, f))\n",
    "            ##===========================================================================================\n",
    "            if self.value_network_path is not None:\n",
    "                self.epoch_value_network_dir = os.path.join(self.value_network_path, f'epoch_summary_{self.stock_code}_value_network')\n",
    "                if not os.path.isdir(self.epoch_value_network_dir):\n",
    "                    os.makedirs(self.epoch_value_network_dir)\n",
    "                else:\n",
    "                    for f in os.listdir(self.epoch_value_network_dir):\n",
    "                        os.remove(os.path.join(self.epoch_value_network_dir, f))\n",
    "            ##===========================================================================================\n",
    "            if self.policy_network_path is not None:\n",
    "                self.epoch_policy_network_dir = os.path.join(self.policy_network_path, f'epoch_summary_{self.stock_code}_policy_network')\n",
    "                if not os.path.isdir(self.epoch_policy_network_dir):\n",
    "                    os.makedirs(self.epoch_policy_network_dir)\n",
    "                else:\n",
    "                    for f in os.listdir(self.epoch_policy_network_dir):\n",
    "                        os.remove(os.path.join(self.epoch_policy_network_dir, f))\n",
    "\n",
    "\n",
    "        # 학습에 대한 정보 초기화\n",
    "        max_portfolio_value = 0\n",
    "        epoch_win_cnt = 0\n",
    "\n",
    "        # 에포크 반복\n",
    "        for epoch in tqdm(range(self.num_epoches)):\n",
    "\n",
    "            time_start_epoch = time.time()\n",
    "\n",
    "            # step 샘플을 만들기 위한 큐\n",
    "            q_sample = collections.deque(maxlen=self.num_steps) #num_step 크기만큼만 데이터를 저장\n",
    "\n",
    "            # 환경, 에이전트, 신경망, 가시화, 메모리 초기화\n",
    "            self.reset()\n",
    "\n",
    "            # 학습을 진행할 수록 탐험 비율 감소\n",
    "            if learning:\n",
    "                epsilon = self.start_epsilon * (1 - (epoch / (self.num_epoches - 1)))\n",
    "            else:\n",
    "                epsilon = self.start_epsilon\n",
    "\n",
    "            print(f'stock_code : {self.stock_code}__episode : {epoch}__에이전트 거래 시작')\n",
    "            for i in tqdm(range(len(self.training_data)), leave=False):\n",
    "                # 샘플 생성\n",
    "                next_sample = self.build_sample()  #train_data 와 현재 agent의 상태\n",
    "                if next_sample is None:\n",
    "                    break\n",
    "\n",
    "                # num_steps만큼 샘플 저장\n",
    "                q_sample.append(next_sample)\n",
    "                if len(q_sample) < self.num_steps:\n",
    "                    continue\n",
    "\n",
    "                # 가치, 정책 신경망 예측\n",
    "                pred_value = None\n",
    "                pred_policy = None\n",
    "                if self.value_network is not None:\n",
    "                    pred_value = self.value_network.predict(list(q_sample))\n",
    "                if self.policy_network is not None:\n",
    "                    pred_policy = self.policy_network.predict(list(q_sample))\n",
    "                # 신경망 또는 탐험에 의한 행동 결정\n",
    "                action, confidence, exploration = \\\n",
    "                    self.agent.decide_action(pred_value, pred_policy, epsilon)\n",
    "\n",
    "                # 결정한 행동을 수행하고 보상 획득\n",
    "                reward = self.agent.act(action, confidence) #self.profitloss = self.portfolio_value / self.initial_balance - 1\n",
    "\n",
    "                # 행동 및 행동에 대한 결과를 기억\n",
    "                self.memory_sample.append(list(q_sample))\n",
    "                self.memory_action.append(action)   #[매수, 매도, 관망] 중 한개\n",
    "                self.memory_reward.append(reward)\n",
    "                if self.value_network is not None:\n",
    "                    self.memory_value.append(pred_value)\n",
    "                if self.policy_network is not None:\n",
    "                    self.memory_policy.append(pred_policy)\n",
    "                self.memory_pv.append(self.agent.portfolio_value)\n",
    "                self.memory_num_stocks.append(self.agent.num_stocks)\n",
    "                if exploration:\n",
    "                    self.memory_exp_idx.append(self.training_data_idx)\n",
    "\n",
    "                # 반복에 대한 정보 갱신\n",
    "                self.batch_size += 1\n",
    "                self.itr_cnt += 1\n",
    "                self.exploration_cnt += 1 if exploration else 0\n",
    "\n",
    "            # 에포크 종료 후 학습\n",
    "            if learning:\n",
    "                self.fit()\n",
    "\n",
    "            # 에포크 관련 정보 로그 기록\n",
    "            num_epoches_digit = len(str(self.num_epoches))\n",
    "            epoch_str = str(epoch).rjust(num_epoches_digit, '0')\n",
    "            time_end_epoch = time.time()\n",
    "            elapsed_time_epoch = time_end_epoch - time_start_epoch\n",
    "            logger.debug(f'[{self.stock_code}][Epoch {epoch_str}/{self.num_epoches}] '\n",
    "                f'Epsilon:{epsilon:.4f} #Expl.:{self.exploration_cnt}/{self.itr_cnt} '\n",
    "                f'#Buy:{self.agent.num_buy} #Sell:{self.agent.num_sell} #Hold:{self.agent.num_hold} '\n",
    "                f'#Stocks:{self.agent.num_stocks} PV:{self.agent.portfolio_value:,.0f} '\n",
    "                f'Loss:{self.loss:.6f} ET:{elapsed_time_epoch:.4f}')\n",
    "\n",
    "            # 에포크 관련 정보 가시화\n",
    "            if self.gen_output:\n",
    "                    self.visualize(epoch_str, self.num_epoches, epsilon)\n",
    "\n",
    "            # 학습 관련 정보 갱신\n",
    "            max_portfolio_value = max(\n",
    "                max_portfolio_value, self.agent.portfolio_value)\n",
    "            if self.agent.portfolio_value > self.agent.initial_balance:\n",
    "                epoch_win_cnt += 1\n",
    "\n",
    "            # 에피소드로 생성된 모델 저장\n",
    "            if self.value_network is not None and self.value_network_path is not None:\n",
    "                self.value_network.save_model(os.path.join(self.epoch_value_network_dir ,f'value_network_{epoch}.h5'))\n",
    "            if self.policy_network is not None and self.policy_network_path is not None:\n",
    "                self.policy_network.save_model(os.path.join(self.epoch_policy_network_dir ,f'policy_network_{epoch}.h5'))\n",
    "        #=======================================================================================\n",
    "\n",
    "        # 종료 시간\n",
    "        time_end = time.time()\n",
    "        elapsed_time = time_end - time_start\n",
    "\n",
    "        # 학습 관련 정보 로그 기록\n",
    "        with self.lock:\n",
    "            logger.debug(f'[{self.stock_code}] Elapsed Time:{elapsed_time:.4f} '\n",
    "                f'Max PV:{max_portfolio_value:,.0f} #Win:{epoch_win_cnt}')\n",
    "\n",
    "    def save_models(self):\n",
    "        if self.value_network is not None and self.value_network_path is not None:\n",
    "            self.value_network.save_model(self.value_network_path)\n",
    "        if self.policy_network is not None and self.policy_network_path is not None:\n",
    "            self.policy_network.save_model(self.policy_network_path)\n",
    "\n",
    "    def predict(self):\n",
    "        # 에이전트 초기화\n",
    "        self.agent.reset()\n",
    "        info = (\n",
    "            f'[{self.stock_code}] RL:{self.rl_method} NET:{self.net} '\n",
    "            f'LR:{self.lr} DF:{self.discount_factor} '\n",
    "        )\n",
    "        print(self.output_path)\n",
    "        self.epoch_summary_dir = self.output_path\n",
    "        self.visualizer.prepare(self.environment.chart_data, info)\n",
    "        # step 샘플을 만들기 위한 큐\n",
    "        q_sample = collections.deque(maxlen=self.num_steps)\n",
    "        result = []\n",
    "        while True:\n",
    "            # 샘플 생성\n",
    "            next_sample = self.build_sample()\n",
    "            if next_sample is None:\n",
    "                break\n",
    "\n",
    "            # num_steps만큼 샘플 저장\n",
    "            q_sample.append(next_sample)\n",
    "            if len(q_sample) < self.num_steps:\n",
    "                continue\n",
    "\n",
    "            # 가치, 정책 신경망 예측\n",
    "            pred_value = None\n",
    "            pred_policy = None\n",
    "            if self.value_network is not None:\n",
    "                pred_value = self.value_network.predict(list(q_sample))\n",
    "            if self.policy_network is not None:\n",
    "                pred_policy = self.policy_network.predict(list(q_sample))\n",
    "\n",
    "            print(pred_policy,np.argmax(pred_policy))\n",
    "\n",
    "            # 신경망 또는 탐험에 의한 행동 결정\n",
    "            action, confidence, exploration = self.agent.decide_action(pred_value, pred_policy, self.start_epsilon)\n",
    "\n",
    "            # 결정한 행동을 수행하고 보상 획득\n",
    "            reward = self.agent.act(action, confidence) #self.profitloss = self.portfolio_value / self.initial_balance - 1\n",
    "\n",
    "            # 행동 및 행동에 대한 결과를 기억\n",
    "            self.memory_sample.append(list(q_sample))\n",
    "            self.memory_action.append(action)   #[매수, 매도, 관망] 중 한개\n",
    "            self.memory_reward.append(reward)\n",
    "            if self.value_network is not None:\n",
    "                self.memory_value.append(pred_value)\n",
    "            if self.policy_network is not None:\n",
    "                self.memory_policy.append(pred_policy)\n",
    "            self.memory_pv.append(self.agent.portfolio_value)\n",
    "            self.memory_num_stocks.append(self.agent.num_stocks)\n",
    "            if exploration:\n",
    "                self.memory_exp_idx.append(self.training_data_idx)\n",
    "\n",
    "        if self.gen_output:\n",
    "          self.visualize('predict', self.num_epoches, self.start_epsilon)\n",
    "          with open(os.path.join(self.output_path, f'pred_{self.stock_code}.json'), 'w') as f:\n",
    "            print(json.dumps(result), file=f)\n",
    "\n",
    "        return result"
   ]
  },
  {
   "cell_type": "code",
   "execution_count": 10,
   "metadata": {
    "id": "Ec2rCqHnokzz"
   },
   "outputs": [],
   "source": [
    "class DQNLearner(ReinforcementLearner):\n",
    "    def __init__(self, *args, value_network_path=None, **kwargs):\n",
    "        super().__init__(*args, **kwargs)\n",
    "        self.value_network_path = value_network_path\n",
    "        self.init_value_network()\n",
    "\n",
    "    def get_batch(self):\n",
    "        memory = zip(\n",
    "            reversed(self.memory_sample),  #최신 경험부터 역순으로 접근하여 최근의 경험이 중요하게 작동하도록 함\n",
    "            reversed(self.memory_action),  #매수, 매도, 관망\n",
    "            reversed(self.memory_value),   #train data를 신경망으로 예측한 값\n",
    "            reversed(self.memory_reward),  #portfolio_value / self.initial_balance - 1\n",
    "        )\n",
    "        x = np.zeros((len(self.memory_sample), self.num_steps, self.num_features))\n",
    "        y_value = np.zeros((len(self.memory_sample), self.agent.NUM_ACTIONS))\n",
    "        value_max_next = 0\n",
    "        for i, (sample, action, value, reward) in enumerate(memory):\n",
    "            x[i] = sample\n",
    "            r = self.memory_reward[-1] - reward\n",
    "            y_value[i] = value\n",
    "            y_value[i, action] = r + self.discount_factor * value_max_next  #바로전에 가장 좋았던 가치\n",
    "            value_max_next = value.max()\n",
    "        return x, y_value, None"
   ]
  },
  {
   "cell_type": "code",
   "execution_count": 11,
   "metadata": {
    "id": "1NjFGqSXoew8"
   },
   "outputs": [],
   "source": [
    "class ActorCriticLearner(ReinforcementLearner):\n",
    "    def __init__(self, *args, shared_network=None,\n",
    "        value_network_path=None, policy_network_path=None, **kwargs):\n",
    "        super().__init__(*args, **kwargs)\n",
    "        if shared_network is None:\n",
    "            self.shared_network = Network.get_shared_network(\n",
    "                net=self.net, num_steps=self.num_steps,\n",
    "                input_dim=self.num_features,\n",
    "                output_dim=self.agent.NUM_ACTIONS)\n",
    "        else:\n",
    "            self.shared_network = shared_network\n",
    "        print(self.shared_network)\n",
    "        print(value_network_path)\n",
    "        self.value_network_path = value_network_path\n",
    "        self.policy_network_path = policy_network_path\n",
    "        if self.value_network is None:\n",
    "            self.init_value_network(shared_network=self.shared_network)\n",
    "        if self.policy_network is None:\n",
    "            self.init_policy_network(shared_network=self.shared_network)\n",
    "\n",
    "    def get_batch(self):\n",
    "        memory = zip(\n",
    "            reversed(self.memory_sample),\n",
    "            reversed(self.memory_action),\n",
    "            reversed(self.memory_value),\n",
    "            reversed(self.memory_policy),\n",
    "            reversed(self.memory_reward),\n",
    "        )\n",
    "        x = np.zeros((len(self.memory_sample), self.num_steps, self.num_features))\n",
    "        y_value = np.zeros((len(self.memory_sample), self.agent.NUM_ACTIONS))\n",
    "        y_policy = np.zeros((len(self.memory_sample), self.agent.NUM_ACTIONS))\n",
    "        value_max_next = 0\n",
    "        for i, (sample, action, value, policy, reward) in enumerate(memory):\n",
    "            x[i] = sample\n",
    "            r = self.memory_reward[-1] - reward\n",
    "            y_value[i, :] = value\n",
    "            y_value[i, action] = r + self.discount_factor * value_max_next\n",
    "            y_policy[i, :] = policy\n",
    "            y_policy[i, action] = softmax(r)\n",
    "            value_max_next = value.max()\n",
    "        return x, y_value, y_policy\n",
    "\n",
    "\n",
    "class A2CLearner(ActorCriticLearner):\n",
    "    def __init__(self, *args, **kwargs):\n",
    "        super().__init__(*args, **kwargs)\n",
    "\n",
    "    def get_batch(self):\n",
    "        memory = zip(\n",
    "            reversed(self.memory_sample),\n",
    "            reversed(self.memory_action),\n",
    "            reversed(self.memory_value),\n",
    "            reversed(self.memory_policy),\n",
    "            reversed(self.memory_reward),\n",
    "        )\n",
    "        x = np.zeros((len(self.memory_sample), self.num_steps, self.num_features))\n",
    "        y_value = np.zeros((len(self.memory_sample), self.agent.NUM_ACTIONS))\n",
    "        y_policy = np.zeros((len(self.memory_sample), self.agent.NUM_ACTIONS))\n",
    "        value_max_next = 0\n",
    "        reward_next = self.memory_reward[-1]\n",
    "        for i, (sample, action, value, policy, reward) in enumerate(memory):\n",
    "            x[i] = sample\n",
    "            r = reward_next + self.memory_reward[-1] - reward * 2\n",
    "            reward_next = reward\n",
    "            y_value[i, :] = value\n",
    "            y_value[i, action] = np.tanh(r + self.discount_factor * value_max_next)\n",
    "            advantage = y_value[i, action] - y_value[i].mean()\n",
    "            y_policy[i, :] = policy\n",
    "            y_policy[i, action] = softmax(advantage)\n",
    "            value_max_next = value.max()\n",
    "        return x, y_value, y_policy\n",
    "\n",
    "\n",
    "class A3CLearner(ReinforcementLearner):\n",
    "    def __init__(self, *args, list_stock_code=None,\n",
    "        list_chart_data=None, list_training_data=None,\n",
    "        list_min_trading_price=None, list_max_trading_price=None,\n",
    "        value_network_path=None, policy_network_path=None,\n",
    "        **kwargs):\n",
    "        assert len(list_training_data) > 0\n",
    "        super().__init__(*args, **kwargs)\n",
    "        self.num_features += list_training_data[0].shape[1]\n",
    "\n",
    "        # 공유 신경망 생성\n",
    "        self.shared_network = Network.get_shared_network(\n",
    "            net=self.net, num_steps=self.num_steps,\n",
    "            input_dim=self.num_features,\n",
    "            output_dim=self.agent.NUM_ACTIONS)\n",
    "        self.value_network_path = value_network_path\n",
    "        self.policy_network_path = policy_network_path\n",
    "        if self.value_network is None:\n",
    "            self.init_value_network(shared_network=self.shared_network)\n",
    "        if self.policy_network is None:\n",
    "            self.init_policy_network(shared_network=self.shared_network)\n",
    "\n",
    "        # A2CLearner 생성\n",
    "        self.learners = []\n",
    "        for (stock_code, chart_data, training_data,\n",
    "            min_trading_price, max_trading_price) in zip(\n",
    "                list_stock_code, list_chart_data, list_training_data,\n",
    "                list_min_trading_price, list_max_trading_price\n",
    "            ):\n",
    "            learner = A2CLearner(*args,\n",
    "                stock_code=stock_code, chart_data=chart_data,\n",
    "                training_data=training_data,\n",
    "                min_trading_price=min_trading_price,\n",
    "                max_trading_price=max_trading_price,\n",
    "                shared_network=self.shared_network,\n",
    "                value_network=self.value_network,\n",
    "                policy_network=self.policy_network, **kwargs)\n",
    "            self.learners.append(learner)\n",
    "\n",
    "    def run(self, learning=True):\n",
    "        threads = []\n",
    "        for learner in self.learners:\n",
    "            threads.append(threading.Thread(\n",
    "                target=learner.run, daemon=True, kwargs={'learning': learning}\n",
    "            ))\n",
    "        for thread in threads:\n",
    "            thread.start()\n",
    "        for thread in threads:\n",
    "            thread.join()\n",
    "\n",
    "    def predict(self):\n",
    "        threads = []\n",
    "        for learner in self.learners:\n",
    "            threads.append(threading.Thread(\n",
    "                target=learner.predict, daemon=True\n",
    "            ))\n",
    "        for thread in threads:\n",
    "            thread.start()\n",
    "        for thread in threads:\n",
    "            thread.join()"
   ]
  },
  {
   "cell_type": "code",
   "execution_count": 12,
   "metadata": {
    "colab": {
     "base_uri": "https://localhost:8080/",
     "height": 460
    },
    "executionInfo": {
     "elapsed": 4240,
     "status": "ok",
     "timestamp": 1709355731401,
     "user": {
      "displayName": "sh s",
      "userId": "13494081880557974424"
     },
     "user_tz": -540
    },
    "id": "GBAeZKdoTlpv",
    "outputId": "0fe74c85-4257-48ba-eaf2-0a367c81c1b1"
   },
   "outputs": [
    {
     "name": "stdout",
     "output_type": "stream",
     "text": [
      "<keras.src.engine.functional.Functional object at 0x7f6b2005ab20>\n",
      "/tf-pgu/test/3. LSTM-A3C 원숭이 승환쌤/models/20240303023304_A2C_lstm_value\n"
     ]
    },
    {
     "data": {
      "text/html": [
       "<div>\n",
       "<style scoped>\n",
       "    .dataframe tbody tr th:only-of-type {\n",
       "        vertical-align: middle;\n",
       "    }\n",
       "\n",
       "    .dataframe tbody tr th {\n",
       "        vertical-align: top;\n",
       "    }\n",
       "\n",
       "    .dataframe thead th {\n",
       "        text-align: right;\n",
       "    }\n",
       "</style>\n",
       "<table border=\"1\" class=\"dataframe\">\n",
       "  <thead>\n",
       "    <tr style=\"text-align: right;\">\n",
       "      <th></th>\n",
       "      <th>datetime</th>\n",
       "      <th>open</th>\n",
       "      <th>high</th>\n",
       "      <th>low</th>\n",
       "      <th>close</th>\n",
       "      <th>volume</th>\n",
       "    </tr>\n",
       "  </thead>\n",
       "  <tbody>\n",
       "    <tr>\n",
       "      <th>0</th>\n",
       "      <td>2023-07-03 09:01:00</td>\n",
       "      <td>680000</td>\n",
       "      <td>685000</td>\n",
       "      <td>677000</td>\n",
       "      <td>684000</td>\n",
       "      <td>11511</td>\n",
       "    </tr>\n",
       "    <tr>\n",
       "      <th>1</th>\n",
       "      <td>2023-07-03 09:02:00</td>\n",
       "      <td>684000</td>\n",
       "      <td>685000</td>\n",
       "      <td>681000</td>\n",
       "      <td>684000</td>\n",
       "      <td>5894</td>\n",
       "    </tr>\n",
       "    <tr>\n",
       "      <th>2</th>\n",
       "      <td>2023-07-03 09:03:00</td>\n",
       "      <td>684000</td>\n",
       "      <td>686000</td>\n",
       "      <td>681000</td>\n",
       "      <td>685000</td>\n",
       "      <td>2501</td>\n",
       "    </tr>\n",
       "    <tr>\n",
       "      <th>3</th>\n",
       "      <td>2023-07-03 09:04:00</td>\n",
       "      <td>685000</td>\n",
       "      <td>690000</td>\n",
       "      <td>685000</td>\n",
       "      <td>690000</td>\n",
       "      <td>10485</td>\n",
       "    </tr>\n",
       "    <tr>\n",
       "      <th>4</th>\n",
       "      <td>2023-07-03 09:05:00</td>\n",
       "      <td>688000</td>\n",
       "      <td>691000</td>\n",
       "      <td>688000</td>\n",
       "      <td>690000</td>\n",
       "      <td>2543</td>\n",
       "    </tr>\n",
       "    <tr>\n",
       "      <th>...</th>\n",
       "      <td>...</td>\n",
       "      <td>...</td>\n",
       "      <td>...</td>\n",
       "      <td>...</td>\n",
       "      <td>...</td>\n",
       "      <td>...</td>\n",
       "    </tr>\n",
       "    <tr>\n",
       "      <th>5695</th>\n",
       "      <td>2023-07-21 15:16:00</td>\n",
       "      <td>684000</td>\n",
       "      <td>685000</td>\n",
       "      <td>684000</td>\n",
       "      <td>684000</td>\n",
       "      <td>369</td>\n",
       "    </tr>\n",
       "    <tr>\n",
       "      <th>5696</th>\n",
       "      <td>2023-07-21 15:17:00</td>\n",
       "      <td>684000</td>\n",
       "      <td>685000</td>\n",
       "      <td>684000</td>\n",
       "      <td>685000</td>\n",
       "      <td>294</td>\n",
       "    </tr>\n",
       "    <tr>\n",
       "      <th>5697</th>\n",
       "      <td>2023-07-21 15:18:00</td>\n",
       "      <td>685000</td>\n",
       "      <td>685000</td>\n",
       "      <td>684000</td>\n",
       "      <td>685000</td>\n",
       "      <td>262</td>\n",
       "    </tr>\n",
       "    <tr>\n",
       "      <th>5698</th>\n",
       "      <td>2023-07-21 15:19:00</td>\n",
       "      <td>684000</td>\n",
       "      <td>685000</td>\n",
       "      <td>684000</td>\n",
       "      <td>684000</td>\n",
       "      <td>232</td>\n",
       "    </tr>\n",
       "    <tr>\n",
       "      <th>5699</th>\n",
       "      <td>2023-07-21 15:20:00</td>\n",
       "      <td>684000</td>\n",
       "      <td>685000</td>\n",
       "      <td>684000</td>\n",
       "      <td>684000</td>\n",
       "      <td>583</td>\n",
       "    </tr>\n",
       "  </tbody>\n",
       "</table>\n",
       "<p>5700 rows × 6 columns</p>\n",
       "</div>"
      ],
      "text/plain": [
       "                 datetime    open    high     low   close  volume\n",
       "0     2023-07-03 09:01:00  680000  685000  677000  684000   11511\n",
       "1     2023-07-03 09:02:00  684000  685000  681000  684000    5894\n",
       "2     2023-07-03 09:03:00  684000  686000  681000  685000    2501\n",
       "3     2023-07-03 09:04:00  685000  690000  685000  690000   10485\n",
       "4     2023-07-03 09:05:00  688000  691000  688000  690000    2543\n",
       "...                   ...     ...     ...     ...     ...     ...\n",
       "5695  2023-07-21 15:16:00  684000  685000  684000  684000     369\n",
       "5696  2023-07-21 15:17:00  684000  685000  684000  685000     294\n",
       "5697  2023-07-21 15:18:00  685000  685000  684000  685000     262\n",
       "5698  2023-07-21 15:19:00  684000  685000  684000  684000     232\n",
       "5699  2023-07-21 15:20:00  684000  685000  684000  684000     583\n",
       "\n",
       "[5700 rows x 6 columns]"
      ]
     },
     "execution_count": 12,
     "metadata": {},
     "output_type": "execute_result"
    }
   ],
   "source": [
    "# 학습기 파라미터 설정\n",
    "rl='A2C'\n",
    "net='lstm'\n",
    "output_name = f'{\"train\"}_{get_time_str()}_{rl}_{net}'\n",
    "learning = 'train' in ['train', 'update']\n",
    "reuse_models = 'test' in ['test', 'update', 'predict']\n",
    "value_network_name = f'{get_time_str()}_{rl}_{net}_value'\n",
    "policy_network_name = f'{get_time_str()}_{rl}_{net}_policy'\n",
    "start_epsilon = 0.5 if 'train' in ['train', 'update'] else 0\n",
    "num_epoches = 100 if 'train' in ['train', 'update'] else 1\n",
    "num_steps = 1 if 'lstm' in ['lstm', 'cnn'] else 1\n",
    "\n",
    "# 출력 경로 생성\n",
    "output_path = os.path.join(BASE_DIR, 'output', output_name)\n",
    "if not os.path.isdir(output_path):\n",
    "    os.makedirs(output_path)\n",
    "\n",
    "\n",
    "# 모델 경로 준비\n",
    "value_network_path = os.path.join(BASE_DIR, 'models', value_network_name)\n",
    "policy_network_path = os.path.join(BASE_DIR, 'models', policy_network_name)\n",
    "\n",
    "# 로그 기록 설정\n",
    "log_path = os.path.join(output_path, f'{output_name}.log')\n",
    "if os.path.exists(log_path):\n",
    "    os.remove(log_path)\n",
    "logging.basicConfig(format='%(message)s')\n",
    "logger = logging.getLogger(LOGGER_NAME)\n",
    "logger.setLevel(logging.DEBUG)\n",
    "logger.propagate = False\n",
    "stream_handler = logging.StreamHandler(sys.stdout)\n",
    "stream_handler.setLevel(logging.INFO)\n",
    "file_handler = logging.FileHandler(filename=log_path, encoding='utf-8')\n",
    "file_handler.setLevel(logging.DEBUG)\n",
    "logger.addHandler(stream_handler)\n",
    "logger.addHandler(file_handler)\n",
    "\n",
    "common_params = {}\n",
    "list_stock_code = []\n",
    "\n",
    "chart_data, training_data =load_data().read_csv('006400',start_day='2023-07-03',end_day='2023-07-22')\n",
    "assert len(chart_data) >= num_steps\n",
    "\n",
    "# 최소/최대 단일 매매 금액 설정\n",
    "min_trading_price = 5000000\n",
    "max_trading_price = 50000000\n",
    "\n",
    "# 공통 파라미터 설정\n",
    "common_params={ 'rl_method':rl,\n",
    "               'stock_code':'006400',\n",
    "                'chart_data':chart_data,\n",
    "                'training_data':training_data,\n",
    "                'min_trading_price':min_trading_price, 'max_trading_price':max_trading_price,\n",
    "                'net':net,'num_steps':num_steps, 'lr':0.001,\n",
    "                'discount_factor':0.9,\n",
    "                'num_epoches':num_epoches,\n",
    "                'balance':50000000,\n",
    "                'start_epsilon':start_epsilon,\n",
    "                'output_path':output_path,\n",
    "                'reuse_models':reuse_models\n",
    "              }\n",
    "\n",
    "# 강화학습 시작\n",
    "learner_A2C = None\n",
    "\n",
    "learner_A2C = A2CLearner(**{**common_params,\n",
    "                    'value_network_path': value_network_path,\n",
    "                    'policy_network_path': policy_network_path})\n",
    "\n",
    "assert learner_A2C is not None\n",
    "chart_data"
   ]
  },
  {
   "cell_type": "code",
   "execution_count": 13,
   "metadata": {
    "colab": {
     "base_uri": "https://localhost:8080/",
     "height": 947,
     "referenced_widgets": [
      "67d9b19ac89845b6a84147a2b022f046",
      "fc83d31b2d3d41af98cc52892e3c6a47",
      "b32a0e74359e4513925e2e5c36c4a1cc",
      "4a48d212ac8c486aa95a67dc21437e93",
      "087b2145ca284e7ba6c63754fc581092",
      "b189d0d06dea441b84b5557674d80db1",
      "65dc54691aab40cfa3c7c72139121f99",
      "9266b2f19b3440b3a8ec89f892445cf6",
      "83a28a06c06546b89e59667b1e8878ac",
      "7ed932b87b3747ee80c7560171acda0d",
      "3bd1889adc7440fa98f7afbc5c59c17f",
      "e64f32552bcd43769a6cf1a56d53445c",
      "3ee0503b6c834ab383379b22731e8100",
      "9c2abaacfac94dcf8fcdcd850854d4d4",
      "301a42eff7934b95bf88af75445ef012",
      "12bbd50d4ca249fea3f09cf6fe6e84c8",
      "416e682cc4774564b4b7f9462684671d",
      "b320fff8c692460fb9753767efc4ed3b",
      "590c12319b6e4d9496cff501d6ed4348",
      "2c284da2d28645be8bcda61234acbeb2",
      "e45add6cc10440d1886f843f4d56eac6",
      "ce308478a2494a058ebbb5d5701fcb3f",
      "82cb4a7c0f2449ae92bddeeb1fd244e8",
      "c09f64224c8c497eb319105d6a6823eb",
      "e16066f8a6734ba0b5a43d87b54b66fb",
      "0ce223f51b194c02a9cd2472d8d55c5c",
      "d598c6059f3f4dbe88f3c3cd67a75bbf",
      "ea8c875afc2e4a29b1f8d38c64bd3899",
      "a7a59a41fdc940c4ac5e82815712c491",
      "7a92f3f5d8de49d695c08724e225afde",
      "9a02d50f414a472d873f1fb5d9237954",
      "b60bd20268c24a92a1996864f770295c",
      "9d14530191a04b82b6f6e300ab241b15",
      "ff1bb3c1735446a182c7b1394d9142f1",
      "18273679ec404c2883860b302b300380",
      "df159202a3fb45399e0241c9ce26d4f5",
      "88cfbce9546d4a98aec7d8fc1e630288",
      "6c6024c923de47c1a7dad753f2028176",
      "39e541737dba4ffcb2efcd33bb5854b8",
      "1a79d56ce701413197a16785bfffda63",
      "bcec0221f9ad472a91d7833df3e09470",
      "662256219a4047e782b4fc4a65b1b3dc",
      "972937c771bb4cd1b9bdc5f2c482b694",
      "3c29dd2a27ca4484bb4e9a8df5ef7835",
      "16c558935fe4495abda2ce770867481e",
      "45d5f85a95d241939840d1fbfc28a16a",
      "a8736d2fae1b4343a39426aebf322380",
      "348619ef19054af1a2afdacbf2c41dc9",
      "7390f586df1e40998525c701a5c0c727",
      "62c637c3bef4411e83991dbb5f00a9d2",
      "7404ae2fdbfe40fea2fa1f8c902c532e",
      "443f56e135f54bf3b5b486cf524492a3",
      "fc386f422a18455ab9f8c911a4aebe03",
      "c43fd1c6873b437a9ab713707bfe94a1",
      "6c04d439f56849a9a49aff1768e7ad9f",
      "339268e8569849d0aca4944f21838f49",
      "078288f12d734967803786869a57b073",
      "fcb06018729645639117f9485555a55c",
      "c5733a944b6743329135ede6311f37fe",
      "e682f15653764663b3b2e79785f1033b",
      "0994fa0a0081455eafa298a590c05627",
      "d00b640eeefe4708ab3ed8533eb8e989",
      "0ad784116ce14593bb45b94d867c54a4",
      "bff925786c234240917eaeb48545af7e",
      "2eae7af074d54b88909475e42c5a665a",
      "add20b562cad46a3a165476ed4effe98",
      "3d5a122cf0b04c68887cecfbaafc8f3f",
      "7c5e6d1cadea4dc384b1b99bf8684af0",
      "d539fdbbe5be497d9e094beff0f8592a",
      "6ca9b5441d6c44628420f03fc4e81166",
      "a7ea295f7889405a84b2fc415ae19eea",
      "52b9ac664d674096a4bf8d28af9c4f8f",
      "b2648315fa7a42d08405d0b290b72884",
      "ba9efedb05b443c5a192a0861afb791a",
      "bb8f5821c345423394786317c5aba95b",
      "3f10ac3835ad4dc6b41de5b47200cac0",
      "72037bb10de2437a98e83a434ef8f495",
      "8087c2370b664e56ad431069835bb8b1",
      "5153ddd9fe4341cc81fac7a025fbe5bb",
      "53c8aaa925db4dc098a53b3323a295ee",
      "165ca103f5b948749610ed063705b9e7",
      "8674056e2b184b35bb219de6714699bc",
      "48cc814d4b024c258659bfc94f28a927",
      "d0ebf734996247409ce3d9c06751dbea",
      "c7fb76c5686b4cf787aaf2eaed43a201",
      "cc732ae47ea24e47957477ceba24269e",
      "232fb6207a7d486996b9941131f769ec",
      "139b5e88533d4ea2973c15a01ae72085",
      "806c869f82ed4fa09aafbf7b52b7a973",
      "bec1685afb784b3ab7c6ac7df0276ad6",
      "b194c544bc2c4a91adbb1322ed82b508",
      "e4e40292329246b5954c3fdb1d63fe86",
      "c676333758aa4290a00b19b4ebc876a5",
      "72c8c9cc92fb4f5ab6ca851272496879",
      "3f0510fb47864e7c84c06cefea2aebc5",
      "41fa98677fac4390bb36fe03da97f309",
      "f51ebd096db64d1daabee9026158e1c3",
      "124276e2e5a6464db238a7757c535904",
      "3e224a21a0954c459a8f7e51a0886ad0",
      "9d3f6777095343eabd74c2aef68e9f0e",
      "a6452da56b2c47dba0cac174f16f1c95",
      "b25a028c97734864a4cff3ecb5e514a3",
      "87505370760247f2be532a1ff132b299",
      "8554993902a7449da6f3a013b50d243a",
      "f7ceb717fafe4b86a422c73154e88e19",
      "d31efc12e7f04b4590fa1ea95cb370d2",
      "088a3f07386844a998faf0927248d9ce",
      "41320a7d83cc40c68289d052fe4bbbd4",
      "c88dcf618acc47d5a6f3933482077e66",
      "a991b39e37794ade8745430045f0a56d",
      "6256d8cb09ce4418aaed9f4d63b2d418",
      "9f0ae05bc373452793c3c3c2943a636f",
      "4c9849183844474385af7194d7b54584",
      "ed7e5477f34044999db5134ddf705265",
      "06ee61c9c504428c80ef0a728827e98d",
      "d46e0307d5f54b86adf6365a3ea63ba4",
      "dc9ae8610a5a420f80b4ce50176efbcc",
      "25e246bbb8b14c2d903afc48aadd033b",
      "7c5591bc7cef47539ea9fa756e67b49a",
      "c83f6904aece4c0a9ff38f5ad8d1604c",
      "d4e24170d87c40b98ca10e54928e52df"
     ]
    },
    "executionInfo": {
     "elapsed": 177187,
     "status": "error",
     "timestamp": 1709357545852,
     "user": {
      "displayName": "sh s",
      "userId": "13494081880557974424"
     },
     "user_tz": -540
    },
    "id": "WJhkH1qDTxSE",
    "outputId": "d7beee35-14f3-4815-b7f6-2642035e2fd7"
   },
   "outputs": [
    {
     "name": "stdout",
     "output_type": "stream",
     "text": [
      "006400__ 차트데이터 만들기\n"
     ]
    },
    {
     "data": {
      "application/vnd.jupyter.widget-view+json": {
       "model_id": "3f363d0ebcb94cf7bd7c333aaa2ac7c4",
       "version_major": 2,
       "version_minor": 0
      },
      "text/plain": [
       "  0%|          | 0/100 [00:00<?, ?it/s]"
      ]
     },
     "metadata": {},
     "output_type": "display_data"
    },
    {
     "name": "stdout",
     "output_type": "stream",
     "text": [
      "stock_code : 006400__episode : 0__에이전트 거래 시작\n"
     ]
    },
    {
     "data": {
      "application/vnd.jupyter.widget-view+json": {
       "model_id": "",
       "version_major": 2,
       "version_minor": 0
      },
      "text/plain": [
       "  0%|          | 0/5700 [00:00<?, ?it/s]"
      ]
     },
     "metadata": {},
     "output_type": "display_data"
    },
    {
     "name": "stdout",
     "output_type": "stream",
     "text": [
      "stock_code : 006400__episode : 1__에이전트 거래 시작\n"
     ]
    },
    {
     "data": {
      "application/vnd.jupyter.widget-view+json": {
       "model_id": "",
       "version_major": 2,
       "version_minor": 0
      },
      "text/plain": [
       "  0%|          | 0/5700 [00:00<?, ?it/s]"
      ]
     },
     "metadata": {},
     "output_type": "display_data"
    },
    {
     "name": "stdout",
     "output_type": "stream",
     "text": [
      "stock_code : 006400__episode : 2__에이전트 거래 시작\n"
     ]
    },
    {
     "data": {
      "application/vnd.jupyter.widget-view+json": {
       "model_id": "",
       "version_major": 2,
       "version_minor": 0
      },
      "text/plain": [
       "  0%|          | 0/5700 [00:00<?, ?it/s]"
      ]
     },
     "metadata": {},
     "output_type": "display_data"
    },
    {
     "name": "stdout",
     "output_type": "stream",
     "text": [
      "stock_code : 006400__episode : 3__에이전트 거래 시작\n"
     ]
    },
    {
     "data": {
      "application/vnd.jupyter.widget-view+json": {
       "model_id": "",
       "version_major": 2,
       "version_minor": 0
      },
      "text/plain": [
       "  0%|          | 0/5700 [00:00<?, ?it/s]"
      ]
     },
     "metadata": {},
     "output_type": "display_data"
    },
    {
     "name": "stdout",
     "output_type": "stream",
     "text": [
      "stock_code : 006400__episode : 4__에이전트 거래 시작\n"
     ]
    },
    {
     "data": {
      "application/vnd.jupyter.widget-view+json": {
       "model_id": "",
       "version_major": 2,
       "version_minor": 0
      },
      "text/plain": [
       "  0%|          | 0/5700 [00:00<?, ?it/s]"
      ]
     },
     "metadata": {},
     "output_type": "display_data"
    },
    {
     "name": "stdout",
     "output_type": "stream",
     "text": [
      "stock_code : 006400__episode : 5__에이전트 거래 시작\n"
     ]
    },
    {
     "data": {
      "application/vnd.jupyter.widget-view+json": {
       "model_id": "",
       "version_major": 2,
       "version_minor": 0
      },
      "text/plain": [
       "  0%|          | 0/5700 [00:00<?, ?it/s]"
      ]
     },
     "metadata": {},
     "output_type": "display_data"
    },
    {
     "name": "stdout",
     "output_type": "stream",
     "text": [
      "stock_code : 006400__episode : 6__에이전트 거래 시작\n"
     ]
    },
    {
     "data": {
      "application/vnd.jupyter.widget-view+json": {
       "model_id": "",
       "version_major": 2,
       "version_minor": 0
      },
      "text/plain": [
       "  0%|          | 0/5700 [00:00<?, ?it/s]"
      ]
     },
     "metadata": {},
     "output_type": "display_data"
    },
    {
     "name": "stdout",
     "output_type": "stream",
     "text": [
      "stock_code : 006400__episode : 7__에이전트 거래 시작\n"
     ]
    },
    {
     "data": {
      "application/vnd.jupyter.widget-view+json": {
       "model_id": "",
       "version_major": 2,
       "version_minor": 0
      },
      "text/plain": [
       "  0%|          | 0/5700 [00:00<?, ?it/s]"
      ]
     },
     "metadata": {},
     "output_type": "display_data"
    },
    {
     "name": "stdout",
     "output_type": "stream",
     "text": [
      "stock_code : 006400__episode : 8__에이전트 거래 시작\n"
     ]
    },
    {
     "data": {
      "application/vnd.jupyter.widget-view+json": {
       "model_id": "",
       "version_major": 2,
       "version_minor": 0
      },
      "text/plain": [
       "  0%|          | 0/5700 [00:00<?, ?it/s]"
      ]
     },
     "metadata": {},
     "output_type": "display_data"
    },
    {
     "name": "stdout",
     "output_type": "stream",
     "text": [
      "stock_code : 006400__episode : 9__에이전트 거래 시작\n"
     ]
    },
    {
     "data": {
      "application/vnd.jupyter.widget-view+json": {
       "model_id": "",
       "version_major": 2,
       "version_minor": 0
      },
      "text/plain": [
       "  0%|          | 0/5700 [00:00<?, ?it/s]"
      ]
     },
     "metadata": {},
     "output_type": "display_data"
    },
    {
     "name": "stdout",
     "output_type": "stream",
     "text": [
      "stock_code : 006400__episode : 10__에이전트 거래 시작\n"
     ]
    },
    {
     "data": {
      "application/vnd.jupyter.widget-view+json": {
       "model_id": "",
       "version_major": 2,
       "version_minor": 0
      },
      "text/plain": [
       "  0%|          | 0/5700 [00:00<?, ?it/s]"
      ]
     },
     "metadata": {},
     "output_type": "display_data"
    },
    {
     "name": "stdout",
     "output_type": "stream",
     "text": [
      "stock_code : 006400__episode : 11__에이전트 거래 시작\n"
     ]
    },
    {
     "data": {
      "application/vnd.jupyter.widget-view+json": {
       "model_id": "",
       "version_major": 2,
       "version_minor": 0
      },
      "text/plain": [
       "  0%|          | 0/5700 [00:00<?, ?it/s]"
      ]
     },
     "metadata": {},
     "output_type": "display_data"
    },
    {
     "name": "stdout",
     "output_type": "stream",
     "text": [
      "stock_code : 006400__episode : 12__에이전트 거래 시작\n"
     ]
    },
    {
     "data": {
      "application/vnd.jupyter.widget-view+json": {
       "model_id": "",
       "version_major": 2,
       "version_minor": 0
      },
      "text/plain": [
       "  0%|          | 0/5700 [00:00<?, ?it/s]"
      ]
     },
     "metadata": {},
     "output_type": "display_data"
    },
    {
     "name": "stdout",
     "output_type": "stream",
     "text": [
      "stock_code : 006400__episode : 13__에이전트 거래 시작\n"
     ]
    },
    {
     "data": {
      "application/vnd.jupyter.widget-view+json": {
       "model_id": "",
       "version_major": 2,
       "version_minor": 0
      },
      "text/plain": [
       "  0%|          | 0/5700 [00:00<?, ?it/s]"
      ]
     },
     "metadata": {},
     "output_type": "display_data"
    },
    {
     "name": "stdout",
     "output_type": "stream",
     "text": [
      "stock_code : 006400__episode : 14__에이전트 거래 시작\n"
     ]
    },
    {
     "data": {
      "application/vnd.jupyter.widget-view+json": {
       "model_id": "",
       "version_major": 2,
       "version_minor": 0
      },
      "text/plain": [
       "  0%|          | 0/5700 [00:00<?, ?it/s]"
      ]
     },
     "metadata": {},
     "output_type": "display_data"
    },
    {
     "name": "stdout",
     "output_type": "stream",
     "text": [
      "stock_code : 006400__episode : 15__에이전트 거래 시작\n"
     ]
    },
    {
     "data": {
      "application/vnd.jupyter.widget-view+json": {
       "model_id": "",
       "version_major": 2,
       "version_minor": 0
      },
      "text/plain": [
       "  0%|          | 0/5700 [00:00<?, ?it/s]"
      ]
     },
     "metadata": {},
     "output_type": "display_data"
    },
    {
     "name": "stdout",
     "output_type": "stream",
     "text": [
      "stock_code : 006400__episode : 16__에이전트 거래 시작\n"
     ]
    },
    {
     "data": {
      "application/vnd.jupyter.widget-view+json": {
       "model_id": "",
       "version_major": 2,
       "version_minor": 0
      },
      "text/plain": [
       "  0%|          | 0/5700 [00:00<?, ?it/s]"
      ]
     },
     "metadata": {},
     "output_type": "display_data"
    },
    {
     "name": "stdout",
     "output_type": "stream",
     "text": [
      "stock_code : 006400__episode : 17__에이전트 거래 시작\n"
     ]
    },
    {
     "data": {
      "application/vnd.jupyter.widget-view+json": {
       "model_id": "",
       "version_major": 2,
       "version_minor": 0
      },
      "text/plain": [
       "  0%|          | 0/5700 [00:00<?, ?it/s]"
      ]
     },
     "metadata": {},
     "output_type": "display_data"
    },
    {
     "name": "stdout",
     "output_type": "stream",
     "text": [
      "stock_code : 006400__episode : 18__에이전트 거래 시작\n"
     ]
    },
    {
     "data": {
      "application/vnd.jupyter.widget-view+json": {
       "model_id": "",
       "version_major": 2,
       "version_minor": 0
      },
      "text/plain": [
       "  0%|          | 0/5700 [00:00<?, ?it/s]"
      ]
     },
     "metadata": {},
     "output_type": "display_data"
    },
    {
     "name": "stdout",
     "output_type": "stream",
     "text": [
      "stock_code : 006400__episode : 19__에이전트 거래 시작\n"
     ]
    },
    {
     "data": {
      "application/vnd.jupyter.widget-view+json": {
       "model_id": "",
       "version_major": 2,
       "version_minor": 0
      },
      "text/plain": [
       "  0%|          | 0/5700 [00:00<?, ?it/s]"
      ]
     },
     "metadata": {},
     "output_type": "display_data"
    },
    {
     "name": "stdout",
     "output_type": "stream",
     "text": [
      "stock_code : 006400__episode : 20__에이전트 거래 시작\n"
     ]
    },
    {
     "data": {
      "application/vnd.jupyter.widget-view+json": {
       "model_id": "",
       "version_major": 2,
       "version_minor": 0
      },
      "text/plain": [
       "  0%|          | 0/5700 [00:00<?, ?it/s]"
      ]
     },
     "metadata": {},
     "output_type": "display_data"
    },
    {
     "name": "stdout",
     "output_type": "stream",
     "text": [
      "stock_code : 006400__episode : 21__에이전트 거래 시작\n"
     ]
    },
    {
     "data": {
      "application/vnd.jupyter.widget-view+json": {
       "model_id": "",
       "version_major": 2,
       "version_minor": 0
      },
      "text/plain": [
       "  0%|          | 0/5700 [00:00<?, ?it/s]"
      ]
     },
     "metadata": {},
     "output_type": "display_data"
    },
    {
     "name": "stdout",
     "output_type": "stream",
     "text": [
      "stock_code : 006400__episode : 22__에이전트 거래 시작\n"
     ]
    },
    {
     "data": {
      "application/vnd.jupyter.widget-view+json": {
       "model_id": "",
       "version_major": 2,
       "version_minor": 0
      },
      "text/plain": [
       "  0%|          | 0/5700 [00:00<?, ?it/s]"
      ]
     },
     "metadata": {},
     "output_type": "display_data"
    },
    {
     "name": "stdout",
     "output_type": "stream",
     "text": [
      "stock_code : 006400__episode : 23__에이전트 거래 시작\n"
     ]
    },
    {
     "data": {
      "application/vnd.jupyter.widget-view+json": {
       "model_id": "",
       "version_major": 2,
       "version_minor": 0
      },
      "text/plain": [
       "  0%|          | 0/5700 [00:00<?, ?it/s]"
      ]
     },
     "metadata": {},
     "output_type": "display_data"
    },
    {
     "name": "stdout",
     "output_type": "stream",
     "text": [
      "stock_code : 006400__episode : 24__에이전트 거래 시작\n"
     ]
    },
    {
     "data": {
      "application/vnd.jupyter.widget-view+json": {
       "model_id": "2cba73ac0c6145d8a0058001da26c24e",
       "version_major": 2,
       "version_minor": 0
      },
      "text/plain": [
       "  0%|          | 0/5700 [00:00<?, ?it/s]"
      ]
     },
     "metadata": {},
     "output_type": "display_data"
    },
    {
     "name": "stdout",
     "output_type": "stream",
     "text": [
      "stock_code : 006400__episode : 25__에이전트 거래 시작\n"
     ]
    },
    {
     "data": {
      "application/vnd.jupyter.widget-view+json": {
       "model_id": "f798012573bd41ba8dbfcd3bba7a620f",
       "version_major": 2,
       "version_minor": 0
      },
      "text/plain": [
       "  0%|          | 0/5700 [00:00<?, ?it/s]"
      ]
     },
     "metadata": {},
     "output_type": "display_data"
    },
    {
     "name": "stdout",
     "output_type": "stream",
     "text": [
      "stock_code : 006400__episode : 26__에이전트 거래 시작\n"
     ]
    },
    {
     "data": {
      "application/vnd.jupyter.widget-view+json": {
       "model_id": "37642f99f4be47b9b95d7d3202dbc9ee",
       "version_major": 2,
       "version_minor": 0
      },
      "text/plain": [
       "  0%|          | 0/5700 [00:00<?, ?it/s]"
      ]
     },
     "metadata": {},
     "output_type": "display_data"
    },
    {
     "name": "stdout",
     "output_type": "stream",
     "text": [
      "stock_code : 006400__episode : 27__에이전트 거래 시작\n"
     ]
    },
    {
     "data": {
      "application/vnd.jupyter.widget-view+json": {
       "model_id": "5b3747c6f8364e40a6437f42934541fc",
       "version_major": 2,
       "version_minor": 0
      },
      "text/plain": [
       "  0%|          | 0/5700 [00:00<?, ?it/s]"
      ]
     },
     "metadata": {},
     "output_type": "display_data"
    },
    {
     "name": "stdout",
     "output_type": "stream",
     "text": [
      "stock_code : 006400__episode : 28__에이전트 거래 시작\n"
     ]
    },
    {
     "data": {
      "application/vnd.jupyter.widget-view+json": {
       "model_id": "7c1a15bbd12444929064c57da26974ed",
       "version_major": 2,
       "version_minor": 0
      },
      "text/plain": [
       "  0%|          | 0/5700 [00:00<?, ?it/s]"
      ]
     },
     "metadata": {},
     "output_type": "display_data"
    },
    {
     "name": "stdout",
     "output_type": "stream",
     "text": [
      "stock_code : 006400__episode : 29__에이전트 거래 시작\n"
     ]
    },
    {
     "data": {
      "application/vnd.jupyter.widget-view+json": {
       "model_id": "75917a4f1b1345258e58622064752d69",
       "version_major": 2,
       "version_minor": 0
      },
      "text/plain": [
       "  0%|          | 0/5700 [00:00<?, ?it/s]"
      ]
     },
     "metadata": {},
     "output_type": "display_data"
    },
    {
     "name": "stdout",
     "output_type": "stream",
     "text": [
      "stock_code : 006400__episode : 30__에이전트 거래 시작\n"
     ]
    },
    {
     "data": {
      "application/vnd.jupyter.widget-view+json": {
       "model_id": "8cc7bc8b471d4b0db16ae583dc497bec",
       "version_major": 2,
       "version_minor": 0
      },
      "text/plain": [
       "  0%|          | 0/5700 [00:00<?, ?it/s]"
      ]
     },
     "metadata": {},
     "output_type": "display_data"
    },
    {
     "name": "stdout",
     "output_type": "stream",
     "text": [
      "stock_code : 006400__episode : 31__에이전트 거래 시작\n"
     ]
    },
    {
     "data": {
      "application/vnd.jupyter.widget-view+json": {
       "model_id": "b3c4348a59d941da9ac888be405a074c",
       "version_major": 2,
       "version_minor": 0
      },
      "text/plain": [
       "  0%|          | 0/5700 [00:00<?, ?it/s]"
      ]
     },
     "metadata": {},
     "output_type": "display_data"
    },
    {
     "name": "stdout",
     "output_type": "stream",
     "text": [
      "stock_code : 006400__episode : 32__에이전트 거래 시작\n"
     ]
    },
    {
     "data": {
      "application/vnd.jupyter.widget-view+json": {
       "model_id": "b3ae1a1a5bcb4a58b0f4a6bade277260",
       "version_major": 2,
       "version_minor": 0
      },
      "text/plain": [
       "  0%|          | 0/5700 [00:00<?, ?it/s]"
      ]
     },
     "metadata": {},
     "output_type": "display_data"
    },
    {
     "name": "stdout",
     "output_type": "stream",
     "text": [
      "stock_code : 006400__episode : 33__에이전트 거래 시작\n"
     ]
    },
    {
     "data": {
      "application/vnd.jupyter.widget-view+json": {
       "model_id": "01bc6a4a24884c8588d8c8f4cf002a08",
       "version_major": 2,
       "version_minor": 0
      },
      "text/plain": [
       "  0%|          | 0/5700 [00:00<?, ?it/s]"
      ]
     },
     "metadata": {},
     "output_type": "display_data"
    },
    {
     "name": "stdout",
     "output_type": "stream",
     "text": [
      "stock_code : 006400__episode : 34__에이전트 거래 시작\n"
     ]
    },
    {
     "data": {
      "application/vnd.jupyter.widget-view+json": {
       "model_id": "9199b4adfaca4dec8f8a398bb19748eb",
       "version_major": 2,
       "version_minor": 0
      },
      "text/plain": [
       "  0%|          | 0/5700 [00:00<?, ?it/s]"
      ]
     },
     "metadata": {},
     "output_type": "display_data"
    },
    {
     "name": "stdout",
     "output_type": "stream",
     "text": [
      "stock_code : 006400__episode : 35__에이전트 거래 시작\n"
     ]
    },
    {
     "data": {
      "application/vnd.jupyter.widget-view+json": {
       "model_id": "185ec387239a40f6a1bf8d66ea656354",
       "version_major": 2,
       "version_minor": 0
      },
      "text/plain": [
       "  0%|          | 0/5700 [00:00<?, ?it/s]"
      ]
     },
     "metadata": {},
     "output_type": "display_data"
    },
    {
     "name": "stdout",
     "output_type": "stream",
     "text": [
      "stock_code : 006400__episode : 36__에이전트 거래 시작\n"
     ]
    },
    {
     "data": {
      "application/vnd.jupyter.widget-view+json": {
       "model_id": "e05143fa265147abba1d35666d3ebec0",
       "version_major": 2,
       "version_minor": 0
      },
      "text/plain": [
       "  0%|          | 0/5700 [00:00<?, ?it/s]"
      ]
     },
     "metadata": {},
     "output_type": "display_data"
    },
    {
     "name": "stdout",
     "output_type": "stream",
     "text": [
      "stock_code : 006400__episode : 37__에이전트 거래 시작\n"
     ]
    },
    {
     "data": {
      "application/vnd.jupyter.widget-view+json": {
       "model_id": "a5c5ccc55af74735b7917851b25c9294",
       "version_major": 2,
       "version_minor": 0
      },
      "text/plain": [
       "  0%|          | 0/5700 [00:00<?, ?it/s]"
      ]
     },
     "metadata": {},
     "output_type": "display_data"
    },
    {
     "name": "stdout",
     "output_type": "stream",
     "text": [
      "stock_code : 006400__episode : 38__에이전트 거래 시작\n"
     ]
    },
    {
     "data": {
      "application/vnd.jupyter.widget-view+json": {
       "model_id": "9bd2cb0f534e4b908ce4cbc114881cf9",
       "version_major": 2,
       "version_minor": 0
      },
      "text/plain": [
       "  0%|          | 0/5700 [00:00<?, ?it/s]"
      ]
     },
     "metadata": {},
     "output_type": "display_data"
    },
    {
     "name": "stdout",
     "output_type": "stream",
     "text": [
      "stock_code : 006400__episode : 39__에이전트 거래 시작\n"
     ]
    },
    {
     "data": {
      "application/vnd.jupyter.widget-view+json": {
       "model_id": "4465bef2e5f944d6b995453bab4080d6",
       "version_major": 2,
       "version_minor": 0
      },
      "text/plain": [
       "  0%|          | 0/5700 [00:00<?, ?it/s]"
      ]
     },
     "metadata": {},
     "output_type": "display_data"
    },
    {
     "name": "stdout",
     "output_type": "stream",
     "text": [
      "stock_code : 006400__episode : 40__에이전트 거래 시작\n"
     ]
    },
    {
     "data": {
      "application/vnd.jupyter.widget-view+json": {
       "model_id": "3b17519d7d0444c285184497bfa4aaa7",
       "version_major": 2,
       "version_minor": 0
      },
      "text/plain": [
       "  0%|          | 0/5700 [00:00<?, ?it/s]"
      ]
     },
     "metadata": {},
     "output_type": "display_data"
    },
    {
     "name": "stdout",
     "output_type": "stream",
     "text": [
      "stock_code : 006400__episode : 41__에이전트 거래 시작\n"
     ]
    },
    {
     "data": {
      "application/vnd.jupyter.widget-view+json": {
       "model_id": "5adc41431b12402991c6a7db7b4cbc2f",
       "version_major": 2,
       "version_minor": 0
      },
      "text/plain": [
       "  0%|          | 0/5700 [00:00<?, ?it/s]"
      ]
     },
     "metadata": {},
     "output_type": "display_data"
    },
    {
     "name": "stdout",
     "output_type": "stream",
     "text": [
      "stock_code : 006400__episode : 42__에이전트 거래 시작\n"
     ]
    },
    {
     "data": {
      "application/vnd.jupyter.widget-view+json": {
       "model_id": "379327ebe0df403db6a1d92135ca43bd",
       "version_major": 2,
       "version_minor": 0
      },
      "text/plain": [
       "  0%|          | 0/5700 [00:00<?, ?it/s]"
      ]
     },
     "metadata": {},
     "output_type": "display_data"
    },
    {
     "name": "stdout",
     "output_type": "stream",
     "text": [
      "stock_code : 006400__episode : 43__에이전트 거래 시작\n"
     ]
    },
    {
     "data": {
      "application/vnd.jupyter.widget-view+json": {
       "model_id": "e71a45aadbd948ecb89604c710fe7c2d",
       "version_major": 2,
       "version_minor": 0
      },
      "text/plain": [
       "  0%|          | 0/5700 [00:00<?, ?it/s]"
      ]
     },
     "metadata": {},
     "output_type": "display_data"
    },
    {
     "name": "stdout",
     "output_type": "stream",
     "text": [
      "stock_code : 006400__episode : 44__에이전트 거래 시작\n"
     ]
    },
    {
     "data": {
      "application/vnd.jupyter.widget-view+json": {
       "model_id": "01dc6b5b5fb342bc9b0d4b2a9fad8e93",
       "version_major": 2,
       "version_minor": 0
      },
      "text/plain": [
       "  0%|          | 0/5700 [00:00<?, ?it/s]"
      ]
     },
     "metadata": {},
     "output_type": "display_data"
    },
    {
     "name": "stdout",
     "output_type": "stream",
     "text": [
      "stock_code : 006400__episode : 45__에이전트 거래 시작\n"
     ]
    },
    {
     "data": {
      "application/vnd.jupyter.widget-view+json": {
       "model_id": "",
       "version_major": 2,
       "version_minor": 0
      },
      "text/plain": [
       "  0%|          | 0/5700 [00:00<?, ?it/s]"
      ]
     },
     "metadata": {},
     "output_type": "display_data"
    },
    {
     "name": "stdout",
     "output_type": "stream",
     "text": [
      "stock_code : 006400__episode : 46__에이전트 거래 시작\n"
     ]
    },
    {
     "data": {
      "application/vnd.jupyter.widget-view+json": {
       "model_id": "",
       "version_major": 2,
       "version_minor": 0
      },
      "text/plain": [
       "  0%|          | 0/5700 [00:00<?, ?it/s]"
      ]
     },
     "metadata": {},
     "output_type": "display_data"
    },
    {
     "name": "stdout",
     "output_type": "stream",
     "text": [
      "stock_code : 006400__episode : 47__에이전트 거래 시작\n"
     ]
    },
    {
     "data": {
      "application/vnd.jupyter.widget-view+json": {
       "model_id": "",
       "version_major": 2,
       "version_minor": 0
      },
      "text/plain": [
       "  0%|          | 0/5700 [00:00<?, ?it/s]"
      ]
     },
     "metadata": {},
     "output_type": "display_data"
    },
    {
     "name": "stdout",
     "output_type": "stream",
     "text": [
      "stock_code : 006400__episode : 48__에이전트 거래 시작\n"
     ]
    },
    {
     "data": {
      "application/vnd.jupyter.widget-view+json": {
       "model_id": "",
       "version_major": 2,
       "version_minor": 0
      },
      "text/plain": [
       "  0%|          | 0/5700 [00:00<?, ?it/s]"
      ]
     },
     "metadata": {},
     "output_type": "display_data"
    },
    {
     "name": "stdout",
     "output_type": "stream",
     "text": [
      "stock_code : 006400__episode : 49__에이전트 거래 시작\n"
     ]
    },
    {
     "data": {
      "application/vnd.jupyter.widget-view+json": {
       "model_id": "",
       "version_major": 2,
       "version_minor": 0
      },
      "text/plain": [
       "  0%|          | 0/5700 [00:00<?, ?it/s]"
      ]
     },
     "metadata": {},
     "output_type": "display_data"
    },
    {
     "name": "stdout",
     "output_type": "stream",
     "text": [
      "stock_code : 006400__episode : 50__에이전트 거래 시작\n"
     ]
    },
    {
     "data": {
      "application/vnd.jupyter.widget-view+json": {
       "model_id": "",
       "version_major": 2,
       "version_minor": 0
      },
      "text/plain": [
       "  0%|          | 0/5700 [00:00<?, ?it/s]"
      ]
     },
     "metadata": {},
     "output_type": "display_data"
    },
    {
     "name": "stdout",
     "output_type": "stream",
     "text": [
      "stock_code : 006400__episode : 51__에이전트 거래 시작\n"
     ]
    },
    {
     "data": {
      "application/vnd.jupyter.widget-view+json": {
       "model_id": "",
       "version_major": 2,
       "version_minor": 0
      },
      "text/plain": [
       "  0%|          | 0/5700 [00:00<?, ?it/s]"
      ]
     },
     "metadata": {},
     "output_type": "display_data"
    },
    {
     "name": "stdout",
     "output_type": "stream",
     "text": [
      "stock_code : 006400__episode : 52__에이전트 거래 시작\n"
     ]
    },
    {
     "data": {
      "application/vnd.jupyter.widget-view+json": {
       "model_id": "",
       "version_major": 2,
       "version_minor": 0
      },
      "text/plain": [
       "  0%|          | 0/5700 [00:00<?, ?it/s]"
      ]
     },
     "metadata": {},
     "output_type": "display_data"
    },
    {
     "name": "stdout",
     "output_type": "stream",
     "text": [
      "stock_code : 006400__episode : 53__에이전트 거래 시작\n"
     ]
    },
    {
     "data": {
      "application/vnd.jupyter.widget-view+json": {
       "model_id": "",
       "version_major": 2,
       "version_minor": 0
      },
      "text/plain": [
       "  0%|          | 0/5700 [00:00<?, ?it/s]"
      ]
     },
     "metadata": {},
     "output_type": "display_data"
    },
    {
     "name": "stdout",
     "output_type": "stream",
     "text": [
      "stock_code : 006400__episode : 54__에이전트 거래 시작\n"
     ]
    },
    {
     "data": {
      "application/vnd.jupyter.widget-view+json": {
       "model_id": "",
       "version_major": 2,
       "version_minor": 0
      },
      "text/plain": [
       "  0%|          | 0/5700 [00:00<?, ?it/s]"
      ]
     },
     "metadata": {},
     "output_type": "display_data"
    },
    {
     "name": "stdout",
     "output_type": "stream",
     "text": [
      "stock_code : 006400__episode : 55__에이전트 거래 시작\n"
     ]
    },
    {
     "data": {
      "application/vnd.jupyter.widget-view+json": {
       "model_id": "",
       "version_major": 2,
       "version_minor": 0
      },
      "text/plain": [
       "  0%|          | 0/5700 [00:00<?, ?it/s]"
      ]
     },
     "metadata": {},
     "output_type": "display_data"
    },
    {
     "name": "stdout",
     "output_type": "stream",
     "text": [
      "stock_code : 006400__episode : 56__에이전트 거래 시작\n"
     ]
    },
    {
     "data": {
      "application/vnd.jupyter.widget-view+json": {
       "model_id": "",
       "version_major": 2,
       "version_minor": 0
      },
      "text/plain": [
       "  0%|          | 0/5700 [00:00<?, ?it/s]"
      ]
     },
     "metadata": {},
     "output_type": "display_data"
    },
    {
     "name": "stdout",
     "output_type": "stream",
     "text": [
      "stock_code : 006400__episode : 57__에이전트 거래 시작\n"
     ]
    },
    {
     "data": {
      "application/vnd.jupyter.widget-view+json": {
       "model_id": "",
       "version_major": 2,
       "version_minor": 0
      },
      "text/plain": [
       "  0%|          | 0/5700 [00:00<?, ?it/s]"
      ]
     },
     "metadata": {},
     "output_type": "display_data"
    },
    {
     "name": "stdout",
     "output_type": "stream",
     "text": [
      "stock_code : 006400__episode : 58__에이전트 거래 시작\n"
     ]
    },
    {
     "data": {
      "application/vnd.jupyter.widget-view+json": {
       "model_id": "",
       "version_major": 2,
       "version_minor": 0
      },
      "text/plain": [
       "  0%|          | 0/5700 [00:00<?, ?it/s]"
      ]
     },
     "metadata": {},
     "output_type": "display_data"
    },
    {
     "name": "stdout",
     "output_type": "stream",
     "text": [
      "stock_code : 006400__episode : 59__에이전트 거래 시작\n"
     ]
    },
    {
     "data": {
      "application/vnd.jupyter.widget-view+json": {
       "model_id": "",
       "version_major": 2,
       "version_minor": 0
      },
      "text/plain": [
       "  0%|          | 0/5700 [00:00<?, ?it/s]"
      ]
     },
     "metadata": {},
     "output_type": "display_data"
    },
    {
     "name": "stdout",
     "output_type": "stream",
     "text": [
      "stock_code : 006400__episode : 60__에이전트 거래 시작\n"
     ]
    },
    {
     "data": {
      "application/vnd.jupyter.widget-view+json": {
       "model_id": "",
       "version_major": 2,
       "version_minor": 0
      },
      "text/plain": [
       "  0%|          | 0/5700 [00:00<?, ?it/s]"
      ]
     },
     "metadata": {},
     "output_type": "display_data"
    },
    {
     "name": "stdout",
     "output_type": "stream",
     "text": [
      "stock_code : 006400__episode : 61__에이전트 거래 시작\n"
     ]
    },
    {
     "data": {
      "application/vnd.jupyter.widget-view+json": {
       "model_id": "",
       "version_major": 2,
       "version_minor": 0
      },
      "text/plain": [
       "  0%|          | 0/5700 [00:00<?, ?it/s]"
      ]
     },
     "metadata": {},
     "output_type": "display_data"
    },
    {
     "name": "stdout",
     "output_type": "stream",
     "text": [
      "stock_code : 006400__episode : 62__에이전트 거래 시작\n"
     ]
    },
    {
     "data": {
      "application/vnd.jupyter.widget-view+json": {
       "model_id": "",
       "version_major": 2,
       "version_minor": 0
      },
      "text/plain": [
       "  0%|          | 0/5700 [00:00<?, ?it/s]"
      ]
     },
     "metadata": {},
     "output_type": "display_data"
    },
    {
     "name": "stdout",
     "output_type": "stream",
     "text": [
      "stock_code : 006400__episode : 63__에이전트 거래 시작\n"
     ]
    },
    {
     "data": {
      "application/vnd.jupyter.widget-view+json": {
       "model_id": "",
       "version_major": 2,
       "version_minor": 0
      },
      "text/plain": [
       "  0%|          | 0/5700 [00:00<?, ?it/s]"
      ]
     },
     "metadata": {},
     "output_type": "display_data"
    },
    {
     "name": "stdout",
     "output_type": "stream",
     "text": [
      "stock_code : 006400__episode : 64__에이전트 거래 시작\n"
     ]
    },
    {
     "data": {
      "application/vnd.jupyter.widget-view+json": {
       "model_id": "",
       "version_major": 2,
       "version_minor": 0
      },
      "text/plain": [
       "  0%|          | 0/5700 [00:00<?, ?it/s]"
      ]
     },
     "metadata": {},
     "output_type": "display_data"
    },
    {
     "name": "stdout",
     "output_type": "stream",
     "text": [
      "stock_code : 006400__episode : 65__에이전트 거래 시작\n"
     ]
    },
    {
     "data": {
      "application/vnd.jupyter.widget-view+json": {
       "model_id": "",
       "version_major": 2,
       "version_minor": 0
      },
      "text/plain": [
       "  0%|          | 0/5700 [00:00<?, ?it/s]"
      ]
     },
     "metadata": {},
     "output_type": "display_data"
    },
    {
     "name": "stdout",
     "output_type": "stream",
     "text": [
      "stock_code : 006400__episode : 66__에이전트 거래 시작\n"
     ]
    },
    {
     "data": {
      "application/vnd.jupyter.widget-view+json": {
       "model_id": "",
       "version_major": 2,
       "version_minor": 0
      },
      "text/plain": [
       "  0%|          | 0/5700 [00:00<?, ?it/s]"
      ]
     },
     "metadata": {},
     "output_type": "display_data"
    },
    {
     "name": "stdout",
     "output_type": "stream",
     "text": [
      "stock_code : 006400__episode : 67__에이전트 거래 시작\n"
     ]
    },
    {
     "data": {
      "application/vnd.jupyter.widget-view+json": {
       "model_id": "",
       "version_major": 2,
       "version_minor": 0
      },
      "text/plain": [
       "  0%|          | 0/5700 [00:00<?, ?it/s]"
      ]
     },
     "metadata": {},
     "output_type": "display_data"
    },
    {
     "name": "stdout",
     "output_type": "stream",
     "text": [
      "stock_code : 006400__episode : 68__에이전트 거래 시작\n"
     ]
    },
    {
     "data": {
      "application/vnd.jupyter.widget-view+json": {
       "model_id": "",
       "version_major": 2,
       "version_minor": 0
      },
      "text/plain": [
       "  0%|          | 0/5700 [00:00<?, ?it/s]"
      ]
     },
     "metadata": {},
     "output_type": "display_data"
    },
    {
     "name": "stdout",
     "output_type": "stream",
     "text": [
      "stock_code : 006400__episode : 69__에이전트 거래 시작\n"
     ]
    },
    {
     "data": {
      "application/vnd.jupyter.widget-view+json": {
       "model_id": "",
       "version_major": 2,
       "version_minor": 0
      },
      "text/plain": [
       "  0%|          | 0/5700 [00:00<?, ?it/s]"
      ]
     },
     "metadata": {},
     "output_type": "display_data"
    },
    {
     "name": "stdout",
     "output_type": "stream",
     "text": [
      "stock_code : 006400__episode : 70__에이전트 거래 시작\n"
     ]
    },
    {
     "data": {
      "application/vnd.jupyter.widget-view+json": {
       "model_id": "",
       "version_major": 2,
       "version_minor": 0
      },
      "text/plain": [
       "  0%|          | 0/5700 [00:00<?, ?it/s]"
      ]
     },
     "metadata": {},
     "output_type": "display_data"
    },
    {
     "name": "stdout",
     "output_type": "stream",
     "text": [
      "stock_code : 006400__episode : 71__에이전트 거래 시작\n"
     ]
    },
    {
     "data": {
      "application/vnd.jupyter.widget-view+json": {
       "model_id": "",
       "version_major": 2,
       "version_minor": 0
      },
      "text/plain": [
       "  0%|          | 0/5700 [00:00<?, ?it/s]"
      ]
     },
     "metadata": {},
     "output_type": "display_data"
    },
    {
     "name": "stdout",
     "output_type": "stream",
     "text": [
      "stock_code : 006400__episode : 72__에이전트 거래 시작\n"
     ]
    },
    {
     "data": {
      "application/vnd.jupyter.widget-view+json": {
       "model_id": "",
       "version_major": 2,
       "version_minor": 0
      },
      "text/plain": [
       "  0%|          | 0/5700 [00:00<?, ?it/s]"
      ]
     },
     "metadata": {},
     "output_type": "display_data"
    },
    {
     "name": "stdout",
     "output_type": "stream",
     "text": [
      "stock_code : 006400__episode : 73__에이전트 거래 시작\n"
     ]
    },
    {
     "data": {
      "application/vnd.jupyter.widget-view+json": {
       "model_id": "",
       "version_major": 2,
       "version_minor": 0
      },
      "text/plain": [
       "  0%|          | 0/5700 [00:00<?, ?it/s]"
      ]
     },
     "metadata": {},
     "output_type": "display_data"
    },
    {
     "name": "stdout",
     "output_type": "stream",
     "text": [
      "stock_code : 006400__episode : 74__에이전트 거래 시작\n"
     ]
    },
    {
     "data": {
      "application/vnd.jupyter.widget-view+json": {
       "model_id": "",
       "version_major": 2,
       "version_minor": 0
      },
      "text/plain": [
       "  0%|          | 0/5700 [00:00<?, ?it/s]"
      ]
     },
     "metadata": {},
     "output_type": "display_data"
    },
    {
     "name": "stdout",
     "output_type": "stream",
     "text": [
      "stock_code : 006400__episode : 75__에이전트 거래 시작\n"
     ]
    },
    {
     "data": {
      "application/vnd.jupyter.widget-view+json": {
       "model_id": "",
       "version_major": 2,
       "version_minor": 0
      },
      "text/plain": [
       "  0%|          | 0/5700 [00:00<?, ?it/s]"
      ]
     },
     "metadata": {},
     "output_type": "display_data"
    },
    {
     "name": "stdout",
     "output_type": "stream",
     "text": [
      "stock_code : 006400__episode : 76__에이전트 거래 시작\n"
     ]
    },
    {
     "data": {
      "application/vnd.jupyter.widget-view+json": {
       "model_id": "",
       "version_major": 2,
       "version_minor": 0
      },
      "text/plain": [
       "  0%|          | 0/5700 [00:00<?, ?it/s]"
      ]
     },
     "metadata": {},
     "output_type": "display_data"
    },
    {
     "name": "stdout",
     "output_type": "stream",
     "text": [
      "stock_code : 006400__episode : 77__에이전트 거래 시작\n"
     ]
    },
    {
     "data": {
      "application/vnd.jupyter.widget-view+json": {
       "model_id": "",
       "version_major": 2,
       "version_minor": 0
      },
      "text/plain": [
       "  0%|          | 0/5700 [00:00<?, ?it/s]"
      ]
     },
     "metadata": {},
     "output_type": "display_data"
    },
    {
     "name": "stdout",
     "output_type": "stream",
     "text": [
      "stock_code : 006400__episode : 78__에이전트 거래 시작\n"
     ]
    },
    {
     "data": {
      "application/vnd.jupyter.widget-view+json": {
       "model_id": "",
       "version_major": 2,
       "version_minor": 0
      },
      "text/plain": [
       "  0%|          | 0/5700 [00:00<?, ?it/s]"
      ]
     },
     "metadata": {},
     "output_type": "display_data"
    },
    {
     "name": "stdout",
     "output_type": "stream",
     "text": [
      "stock_code : 006400__episode : 79__에이전트 거래 시작\n"
     ]
    },
    {
     "data": {
      "application/vnd.jupyter.widget-view+json": {
       "model_id": "",
       "version_major": 2,
       "version_minor": 0
      },
      "text/plain": [
       "  0%|          | 0/5700 [00:00<?, ?it/s]"
      ]
     },
     "metadata": {},
     "output_type": "display_data"
    },
    {
     "name": "stdout",
     "output_type": "stream",
     "text": [
      "stock_code : 006400__episode : 80__에이전트 거래 시작\n"
     ]
    },
    {
     "data": {
      "application/vnd.jupyter.widget-view+json": {
       "model_id": "",
       "version_major": 2,
       "version_minor": 0
      },
      "text/plain": [
       "  0%|          | 0/5700 [00:00<?, ?it/s]"
      ]
     },
     "metadata": {},
     "output_type": "display_data"
    },
    {
     "name": "stdout",
     "output_type": "stream",
     "text": [
      "stock_code : 006400__episode : 81__에이전트 거래 시작\n"
     ]
    },
    {
     "data": {
      "application/vnd.jupyter.widget-view+json": {
       "model_id": "",
       "version_major": 2,
       "version_minor": 0
      },
      "text/plain": [
       "  0%|          | 0/5700 [00:00<?, ?it/s]"
      ]
     },
     "metadata": {},
     "output_type": "display_data"
    },
    {
     "name": "stdout",
     "output_type": "stream",
     "text": [
      "stock_code : 006400__episode : 82__에이전트 거래 시작\n"
     ]
    },
    {
     "data": {
      "application/vnd.jupyter.widget-view+json": {
       "model_id": "",
       "version_major": 2,
       "version_minor": 0
      },
      "text/plain": [
       "  0%|          | 0/5700 [00:00<?, ?it/s]"
      ]
     },
     "metadata": {},
     "output_type": "display_data"
    },
    {
     "name": "stdout",
     "output_type": "stream",
     "text": [
      "stock_code : 006400__episode : 83__에이전트 거래 시작\n"
     ]
    },
    {
     "data": {
      "application/vnd.jupyter.widget-view+json": {
       "model_id": "",
       "version_major": 2,
       "version_minor": 0
      },
      "text/plain": [
       "  0%|          | 0/5700 [00:00<?, ?it/s]"
      ]
     },
     "metadata": {},
     "output_type": "display_data"
    },
    {
     "name": "stdout",
     "output_type": "stream",
     "text": [
      "stock_code : 006400__episode : 84__에이전트 거래 시작\n"
     ]
    },
    {
     "data": {
      "application/vnd.jupyter.widget-view+json": {
       "model_id": "",
       "version_major": 2,
       "version_minor": 0
      },
      "text/plain": [
       "  0%|          | 0/5700 [00:00<?, ?it/s]"
      ]
     },
     "metadata": {},
     "output_type": "display_data"
    },
    {
     "name": "stdout",
     "output_type": "stream",
     "text": [
      "stock_code : 006400__episode : 85__에이전트 거래 시작\n"
     ]
    },
    {
     "data": {
      "application/vnd.jupyter.widget-view+json": {
       "model_id": "",
       "version_major": 2,
       "version_minor": 0
      },
      "text/plain": [
       "  0%|          | 0/5700 [00:00<?, ?it/s]"
      ]
     },
     "metadata": {},
     "output_type": "display_data"
    },
    {
     "name": "stdout",
     "output_type": "stream",
     "text": [
      "stock_code : 006400__episode : 86__에이전트 거래 시작\n"
     ]
    },
    {
     "data": {
      "application/vnd.jupyter.widget-view+json": {
       "model_id": "",
       "version_major": 2,
       "version_minor": 0
      },
      "text/plain": [
       "  0%|          | 0/5700 [00:00<?, ?it/s]"
      ]
     },
     "metadata": {},
     "output_type": "display_data"
    },
    {
     "name": "stdout",
     "output_type": "stream",
     "text": [
      "stock_code : 006400__episode : 87__에이전트 거래 시작\n"
     ]
    },
    {
     "data": {
      "application/vnd.jupyter.widget-view+json": {
       "model_id": "",
       "version_major": 2,
       "version_minor": 0
      },
      "text/plain": [
       "  0%|          | 0/5700 [00:00<?, ?it/s]"
      ]
     },
     "metadata": {},
     "output_type": "display_data"
    },
    {
     "name": "stdout",
     "output_type": "stream",
     "text": [
      "stock_code : 006400__episode : 88__에이전트 거래 시작\n"
     ]
    },
    {
     "data": {
      "application/vnd.jupyter.widget-view+json": {
       "model_id": "",
       "version_major": 2,
       "version_minor": 0
      },
      "text/plain": [
       "  0%|          | 0/5700 [00:00<?, ?it/s]"
      ]
     },
     "metadata": {},
     "output_type": "display_data"
    },
    {
     "name": "stdout",
     "output_type": "stream",
     "text": [
      "stock_code : 006400__episode : 89__에이전트 거래 시작\n"
     ]
    },
    {
     "data": {
      "application/vnd.jupyter.widget-view+json": {
       "model_id": "",
       "version_major": 2,
       "version_minor": 0
      },
      "text/plain": [
       "  0%|          | 0/5700 [00:00<?, ?it/s]"
      ]
     },
     "metadata": {},
     "output_type": "display_data"
    },
    {
     "name": "stdout",
     "output_type": "stream",
     "text": [
      "stock_code : 006400__episode : 90__에이전트 거래 시작\n"
     ]
    },
    {
     "data": {
      "application/vnd.jupyter.widget-view+json": {
       "model_id": "",
       "version_major": 2,
       "version_minor": 0
      },
      "text/plain": [
       "  0%|          | 0/5700 [00:00<?, ?it/s]"
      ]
     },
     "metadata": {},
     "output_type": "display_data"
    },
    {
     "name": "stdout",
     "output_type": "stream",
     "text": [
      "stock_code : 006400__episode : 91__에이전트 거래 시작\n"
     ]
    },
    {
     "data": {
      "application/vnd.jupyter.widget-view+json": {
       "model_id": "",
       "version_major": 2,
       "version_minor": 0
      },
      "text/plain": [
       "  0%|          | 0/5700 [00:00<?, ?it/s]"
      ]
     },
     "metadata": {},
     "output_type": "display_data"
    },
    {
     "name": "stdout",
     "output_type": "stream",
     "text": [
      "stock_code : 006400__episode : 92__에이전트 거래 시작\n"
     ]
    },
    {
     "data": {
      "application/vnd.jupyter.widget-view+json": {
       "model_id": "",
       "version_major": 2,
       "version_minor": 0
      },
      "text/plain": [
       "  0%|          | 0/5700 [00:00<?, ?it/s]"
      ]
     },
     "metadata": {},
     "output_type": "display_data"
    },
    {
     "name": "stdout",
     "output_type": "stream",
     "text": [
      "stock_code : 006400__episode : 93__에이전트 거래 시작\n"
     ]
    },
    {
     "data": {
      "application/vnd.jupyter.widget-view+json": {
       "model_id": "",
       "version_major": 2,
       "version_minor": 0
      },
      "text/plain": [
       "  0%|          | 0/5700 [00:00<?, ?it/s]"
      ]
     },
     "metadata": {},
     "output_type": "display_data"
    },
    {
     "name": "stdout",
     "output_type": "stream",
     "text": [
      "stock_code : 006400__episode : 94__에이전트 거래 시작\n"
     ]
    },
    {
     "data": {
      "application/vnd.jupyter.widget-view+json": {
       "model_id": "",
       "version_major": 2,
       "version_minor": 0
      },
      "text/plain": [
       "  0%|          | 0/5700 [00:00<?, ?it/s]"
      ]
     },
     "metadata": {},
     "output_type": "display_data"
    },
    {
     "name": "stdout",
     "output_type": "stream",
     "text": [
      "stock_code : 006400__episode : 95__에이전트 거래 시작\n"
     ]
    },
    {
     "data": {
      "application/vnd.jupyter.widget-view+json": {
       "model_id": "",
       "version_major": 2,
       "version_minor": 0
      },
      "text/plain": [
       "  0%|          | 0/5700 [00:00<?, ?it/s]"
      ]
     },
     "metadata": {},
     "output_type": "display_data"
    },
    {
     "name": "stdout",
     "output_type": "stream",
     "text": [
      "stock_code : 006400__episode : 96__에이전트 거래 시작\n"
     ]
    },
    {
     "data": {
      "application/vnd.jupyter.widget-view+json": {
       "model_id": "",
       "version_major": 2,
       "version_minor": 0
      },
      "text/plain": [
       "  0%|          | 0/5700 [00:00<?, ?it/s]"
      ]
     },
     "metadata": {},
     "output_type": "display_data"
    },
    {
     "name": "stdout",
     "output_type": "stream",
     "text": [
      "stock_code : 006400__episode : 97__에이전트 거래 시작\n"
     ]
    },
    {
     "data": {
      "application/vnd.jupyter.widget-view+json": {
       "model_id": "",
       "version_major": 2,
       "version_minor": 0
      },
      "text/plain": [
       "  0%|          | 0/5700 [00:00<?, ?it/s]"
      ]
     },
     "metadata": {},
     "output_type": "display_data"
    },
    {
     "name": "stdout",
     "output_type": "stream",
     "text": [
      "stock_code : 006400__episode : 98__에이전트 거래 시작\n"
     ]
    },
    {
     "data": {
      "application/vnd.jupyter.widget-view+json": {
       "model_id": "",
       "version_major": 2,
       "version_minor": 0
      },
      "text/plain": [
       "  0%|          | 0/5700 [00:00<?, ?it/s]"
      ]
     },
     "metadata": {},
     "output_type": "display_data"
    },
    {
     "name": "stdout",
     "output_type": "stream",
     "text": [
      "stock_code : 006400__episode : 99__에이전트 거래 시작\n"
     ]
    },
    {
     "data": {
      "application/vnd.jupyter.widget-view+json": {
       "model_id": "",
       "version_major": 2,
       "version_minor": 0
      },
      "text/plain": [
       "  0%|          | 0/5700 [00:00<?, ?it/s]"
      ]
     },
     "metadata": {},
     "output_type": "display_data"
    }
   ],
   "source": [
    "lock = threading.Lock()\n",
    "learner_A2C.run()"
   ]
  },
  {
   "cell_type": "markdown",
   "metadata": {
    "id": "5_CBhN6OjmbH"
   },
   "source": [
    "## 학습된 모델로 예측하기\n"
   ]
  },
  {
   "cell_type": "code",
   "execution_count": 14,
   "metadata": {
    "colab": {
     "base_uri": "https://localhost:8080/"
    },
    "executionInfo": {
     "elapsed": 1492,
     "status": "ok",
     "timestamp": 1709205022807,
     "user": {
      "displayName": "sh s",
      "userId": "13494081880557974424"
     },
     "user_tz": -540
    },
    "id": "76QDqoeTO3VD",
    "outputId": "a98af40a-c68b-4321-d2c8-3caeded21253"
   },
   "outputs": [],
   "source": [
    "# test_chart, test_training =load_data().read_csv('005490',start_day='2023-07-24',end_day='2023-08-01')\n",
    "# test_value_net_path='/content/drive/MyDrive/rl_trading/models/20240229041412_A2C_lstm_value/epoch_summary_005490_value_network/value_network_95.h5'\n",
    "# test_policy_net_path='/content/drive/MyDrive/rl_trading/models/20240229041412_A2C_lstm_policy/epoch_summary_005490_policy_network/policy_network_95.h5'\n",
    "\n",
    "# # 최소/최대 단일 매매 금액 설정\n",
    "# min_trading_price = 5000000\n",
    "# max_trading_price = 50000000\n",
    "\n",
    "# # 공통 파라미터 설정\n",
    "# test_common_params={ 'rl_method':rl,\n",
    "#                'stock_code':'005490',\n",
    "#                 'chart_data':test_chart,\n",
    "#                 'training_data': test_training,\n",
    "#                 'min_trading_price':min_trading_price, 'max_trading_price':max_trading_price,\n",
    "#                 'net':net,'num_steps':num_steps, 'lr':0.001,\n",
    "#                 'discount_factor':0.9,\n",
    "#                 'num_epoches':1,\n",
    "#                 'balance':50000000,\n",
    "#                 'start_epsilon':0,\n",
    "#                 'output_path':'/content/drive/MyDrive/rl_trading/output/train_20240229041412_A2C_lstm',\n",
    "#                 'reuse_models':True\n",
    "#               }\n",
    "\n",
    "# # 강화학습 시작\n",
    "# test_learner_A2C = None\n",
    "# test_learner_A2C = A2CLearner(**{**test_common_params,\n",
    "#                     'value_network_path': test_value_net_path,\n",
    "#                     'policy_network_path': test_policy_net_path})"
   ]
  },
  {
   "cell_type": "code",
   "execution_count": 15,
   "metadata": {
    "colab": {
     "base_uri": "https://localhost:8080/"
    },
    "executionInfo": {
     "elapsed": 47182,
     "status": "ok",
     "timestamp": 1709205070414,
     "user": {
      "displayName": "sh s",
      "userId": "13494081880557974424"
     },
     "user_tz": -540
    },
    "id": "9aApvAQ_fN1l",
    "outputId": "83bb49d9-2319-4492-fe65-ab8fd85ac06b"
   },
   "outputs": [],
   "source": [
    "# lock = threading.Lock()\n",
    "# test_learner_A2C.predict()"
   ]
  },
  {
   "cell_type": "code",
   "execution_count": null,
   "metadata": {
    "id": "XUPvFrg-d3jH"
   },
   "outputs": [],
   "source": []
  },
  {
   "cell_type": "code",
   "execution_count": null,
   "metadata": {
    "id": "5ViTn0R-e5is"
   },
   "outputs": [],
   "source": []
  }
 ],
 "metadata": {
  "accelerator": "GPU",
  "colab": {
   "authorship_tag": "ABX9TyP3WrJlsXFylVHw1x9HFOIQ",
   "gpuType": "T4",
   "mount_file_id": "1lL1Z9GzpXDwOLMzBzs-n2jXCyH_iWJFS",
   "provenance": []
  },
  "kernelspec": {
   "display_name": "Python 3 (ipykernel)",
   "language": "python",
   "name": "python3"
  },
  "language_info": {
   "codemirror_mode": {
    "name": "ipython",
    "version": 3
   },
   "file_extension": ".py",
   "mimetype": "text/x-python",
   "name": "python",
   "nbconvert_exporter": "python",
   "pygments_lexer": "ipython3",
   "version": "3.8.10"
  },
  "widgets": {
   "application/vnd.jupyter.widget-state+json": {
    "06ee61c9c504428c80ef0a728827e98d": {
     "model_module": "@jupyter-widgets/base",
     "model_module_version": "1.2.0",
     "model_name": "LayoutModel",
     "state": {
      "_model_module": "@jupyter-widgets/base",
      "_model_module_version": "1.2.0",
      "_model_name": "LayoutModel",
      "_view_count": null,
      "_view_module": "@jupyter-widgets/base",
      "_view_module_version": "1.2.0",
      "_view_name": "LayoutView",
      "align_content": null,
      "align_items": null,
      "align_self": null,
      "border": null,
      "bottom": null,
      "display": null,
      "flex": null,
      "flex_flow": null,
      "grid_area": null,
      "grid_auto_columns": null,
      "grid_auto_flow": null,
      "grid_auto_rows": null,
      "grid_column": null,
      "grid_gap": null,
      "grid_row": null,
      "grid_template_areas": null,
      "grid_template_columns": null,
      "grid_template_rows": null,
      "height": null,
      "justify_content": null,
      "justify_items": null,
      "left": null,
      "margin": null,
      "max_height": null,
      "max_width": null,
      "min_height": null,
      "min_width": null,
      "object_fit": null,
      "object_position": null,
      "order": null,
      "overflow": null,
      "overflow_x": null,
      "overflow_y": null,
      "padding": null,
      "right": null,
      "top": null,
      "visibility": "hidden",
      "width": null
     }
    },
    "078288f12d734967803786869a57b073": {
     "model_module": "@jupyter-widgets/controls",
     "model_module_version": "1.5.0",
     "model_name": "HTMLModel",
     "state": {
      "_dom_classes": [],
      "_model_module": "@jupyter-widgets/controls",
      "_model_module_version": "1.5.0",
      "_model_name": "HTMLModel",
      "_view_count": null,
      "_view_module": "@jupyter-widgets/controls",
      "_view_module_version": "1.5.0",
      "_view_name": "HTMLView",
      "description": "",
      "description_tooltip": null,
      "layout": "IPY_MODEL_0994fa0a0081455eafa298a590c05627",
      "placeholder": "​",
      "style": "IPY_MODEL_d00b640eeefe4708ab3ed8533eb8e989",
      "value": "100%"
     }
    },
    "087b2145ca284e7ba6c63754fc581092": {
     "model_module": "@jupyter-widgets/base",
     "model_module_version": "1.2.0",
     "model_name": "LayoutModel",
     "state": {
      "_model_module": "@jupyter-widgets/base",
      "_model_module_version": "1.2.0",
      "_model_name": "LayoutModel",
      "_view_count": null,
      "_view_module": "@jupyter-widgets/base",
      "_view_module_version": "1.2.0",
      "_view_name": "LayoutView",
      "align_content": null,
      "align_items": null,
      "align_self": null,
      "border": null,
      "bottom": null,
      "display": null,
      "flex": null,
      "flex_flow": null,
      "grid_area": null,
      "grid_auto_columns": null,
      "grid_auto_flow": null,
      "grid_auto_rows": null,
      "grid_column": null,
      "grid_gap": null,
      "grid_row": null,
      "grid_template_areas": null,
      "grid_template_columns": null,
      "grid_template_rows": null,
      "height": null,
      "justify_content": null,
      "justify_items": null,
      "left": null,
      "margin": null,
      "max_height": null,
      "max_width": null,
      "min_height": null,
      "min_width": null,
      "object_fit": null,
      "object_position": null,
      "order": null,
      "overflow": null,
      "overflow_x": null,
      "overflow_y": null,
      "padding": null,
      "right": null,
      "top": null,
      "visibility": null,
      "width": null
     }
    },
    "088a3f07386844a998faf0927248d9ce": {
     "model_module": "@jupyter-widgets/base",
     "model_module_version": "1.2.0",
     "model_name": "LayoutModel",
     "state": {
      "_model_module": "@jupyter-widgets/base",
      "_model_module_version": "1.2.0",
      "_model_name": "LayoutModel",
      "_view_count": null,
      "_view_module": "@jupyter-widgets/base",
      "_view_module_version": "1.2.0",
      "_view_name": "LayoutView",
      "align_content": null,
      "align_items": null,
      "align_self": null,
      "border": null,
      "bottom": null,
      "display": null,
      "flex": null,
      "flex_flow": null,
      "grid_area": null,
      "grid_auto_columns": null,
      "grid_auto_flow": null,
      "grid_auto_rows": null,
      "grid_column": null,
      "grid_gap": null,
      "grid_row": null,
      "grid_template_areas": null,
      "grid_template_columns": null,
      "grid_template_rows": null,
      "height": null,
      "justify_content": null,
      "justify_items": null,
      "left": null,
      "margin": null,
      "max_height": null,
      "max_width": null,
      "min_height": null,
      "min_width": null,
      "object_fit": null,
      "object_position": null,
      "order": null,
      "overflow": null,
      "overflow_x": null,
      "overflow_y": null,
      "padding": null,
      "right": null,
      "top": null,
      "visibility": null,
      "width": null
     }
    },
    "0994fa0a0081455eafa298a590c05627": {
     "model_module": "@jupyter-widgets/base",
     "model_module_version": "1.2.0",
     "model_name": "LayoutModel",
     "state": {
      "_model_module": "@jupyter-widgets/base",
      "_model_module_version": "1.2.0",
      "_model_name": "LayoutModel",
      "_view_count": null,
      "_view_module": "@jupyter-widgets/base",
      "_view_module_version": "1.2.0",
      "_view_name": "LayoutView",
      "align_content": null,
      "align_items": null,
      "align_self": null,
      "border": null,
      "bottom": null,
      "display": null,
      "flex": null,
      "flex_flow": null,
      "grid_area": null,
      "grid_auto_columns": null,
      "grid_auto_flow": null,
      "grid_auto_rows": null,
      "grid_column": null,
      "grid_gap": null,
      "grid_row": null,
      "grid_template_areas": null,
      "grid_template_columns": null,
      "grid_template_rows": null,
      "height": null,
      "justify_content": null,
      "justify_items": null,
      "left": null,
      "margin": null,
      "max_height": null,
      "max_width": null,
      "min_height": null,
      "min_width": null,
      "object_fit": null,
      "object_position": null,
      "order": null,
      "overflow": null,
      "overflow_x": null,
      "overflow_y": null,
      "padding": null,
      "right": null,
      "top": null,
      "visibility": null,
      "width": null
     }
    },
    "0ad784116ce14593bb45b94d867c54a4": {
     "model_module": "@jupyter-widgets/base",
     "model_module_version": "1.2.0",
     "model_name": "LayoutModel",
     "state": {
      "_model_module": "@jupyter-widgets/base",
      "_model_module_version": "1.2.0",
      "_model_name": "LayoutModel",
      "_view_count": null,
      "_view_module": "@jupyter-widgets/base",
      "_view_module_version": "1.2.0",
      "_view_name": "LayoutView",
      "align_content": null,
      "align_items": null,
      "align_self": null,
      "border": null,
      "bottom": null,
      "display": null,
      "flex": null,
      "flex_flow": null,
      "grid_area": null,
      "grid_auto_columns": null,
      "grid_auto_flow": null,
      "grid_auto_rows": null,
      "grid_column": null,
      "grid_gap": null,
      "grid_row": null,
      "grid_template_areas": null,
      "grid_template_columns": null,
      "grid_template_rows": null,
      "height": null,
      "justify_content": null,
      "justify_items": null,
      "left": null,
      "margin": null,
      "max_height": null,
      "max_width": null,
      "min_height": null,
      "min_width": null,
      "object_fit": null,
      "object_position": null,
      "order": null,
      "overflow": null,
      "overflow_x": null,
      "overflow_y": null,
      "padding": null,
      "right": null,
      "top": null,
      "visibility": null,
      "width": null
     }
    },
    "0ce223f51b194c02a9cd2472d8d55c5c": {
     "model_module": "@jupyter-widgets/controls",
     "model_module_version": "1.5.0",
     "model_name": "HTMLModel",
     "state": {
      "_dom_classes": [],
      "_model_module": "@jupyter-widgets/controls",
      "_model_module_version": "1.5.0",
      "_model_name": "HTMLModel",
      "_view_count": null,
      "_view_module": "@jupyter-widgets/controls",
      "_view_module_version": "1.5.0",
      "_view_name": "HTMLView",
      "description": "",
      "description_tooltip": null,
      "layout": "IPY_MODEL_b60bd20268c24a92a1996864f770295c",
      "placeholder": "​",
      "style": "IPY_MODEL_9d14530191a04b82b6f6e300ab241b15",
      "value": " 5698/5699 [01:53&lt;00:00, 53.96it/s]"
     }
    },
    "124276e2e5a6464db238a7757c535904": {
     "model_module": "@jupyter-widgets/base",
     "model_module_version": "1.2.0",
     "model_name": "LayoutModel",
     "state": {
      "_model_module": "@jupyter-widgets/base",
      "_model_module_version": "1.2.0",
      "_model_name": "LayoutModel",
      "_view_count": null,
      "_view_module": "@jupyter-widgets/base",
      "_view_module_version": "1.2.0",
      "_view_name": "LayoutView",
      "align_content": null,
      "align_items": null,
      "align_self": null,
      "border": null,
      "bottom": null,
      "display": null,
      "flex": null,
      "flex_flow": null,
      "grid_area": null,
      "grid_auto_columns": null,
      "grid_auto_flow": null,
      "grid_auto_rows": null,
      "grid_column": null,
      "grid_gap": null,
      "grid_row": null,
      "grid_template_areas": null,
      "grid_template_columns": null,
      "grid_template_rows": null,
      "height": null,
      "justify_content": null,
      "justify_items": null,
      "left": null,
      "margin": null,
      "max_height": null,
      "max_width": null,
      "min_height": null,
      "min_width": null,
      "object_fit": null,
      "object_position": null,
      "order": null,
      "overflow": null,
      "overflow_x": null,
      "overflow_y": null,
      "padding": null,
      "right": null,
      "top": null,
      "visibility": null,
      "width": null
     }
    },
    "12bbd50d4ca249fea3f09cf6fe6e84c8": {
     "model_module": "@jupyter-widgets/base",
     "model_module_version": "1.2.0",
     "model_name": "LayoutModel",
     "state": {
      "_model_module": "@jupyter-widgets/base",
      "_model_module_version": "1.2.0",
      "_model_name": "LayoutModel",
      "_view_count": null,
      "_view_module": "@jupyter-widgets/base",
      "_view_module_version": "1.2.0",
      "_view_name": "LayoutView",
      "align_content": null,
      "align_items": null,
      "align_self": null,
      "border": null,
      "bottom": null,
      "display": null,
      "flex": null,
      "flex_flow": null,
      "grid_area": null,
      "grid_auto_columns": null,
      "grid_auto_flow": null,
      "grid_auto_rows": null,
      "grid_column": null,
      "grid_gap": null,
      "grid_row": null,
      "grid_template_areas": null,
      "grid_template_columns": null,
      "grid_template_rows": null,
      "height": null,
      "justify_content": null,
      "justify_items": null,
      "left": null,
      "margin": null,
      "max_height": null,
      "max_width": null,
      "min_height": null,
      "min_width": null,
      "object_fit": null,
      "object_position": null,
      "order": null,
      "overflow": null,
      "overflow_x": null,
      "overflow_y": null,
      "padding": null,
      "right": null,
      "top": null,
      "visibility": "hidden",
      "width": null
     }
    },
    "139b5e88533d4ea2973c15a01ae72085": {
     "model_module": "@jupyter-widgets/controls",
     "model_module_version": "1.5.0",
     "model_name": "DescriptionStyleModel",
     "state": {
      "_model_module": "@jupyter-widgets/controls",
      "_model_module_version": "1.5.0",
      "_model_name": "DescriptionStyleModel",
      "_view_count": null,
      "_view_module": "@jupyter-widgets/base",
      "_view_module_version": "1.2.0",
      "_view_name": "StyleView",
      "description_width": ""
     }
    },
    "165ca103f5b948749610ed063705b9e7": {
     "model_module": "@jupyter-widgets/controls",
     "model_module_version": "1.5.0",
     "model_name": "HTMLModel",
     "state": {
      "_dom_classes": [],
      "_model_module": "@jupyter-widgets/controls",
      "_model_module_version": "1.5.0",
      "_model_name": "HTMLModel",
      "_view_count": null,
      "_view_module": "@jupyter-widgets/controls",
      "_view_module_version": "1.5.0",
      "_view_name": "HTMLView",
      "description": "",
      "description_tooltip": null,
      "layout": "IPY_MODEL_232fb6207a7d486996b9941131f769ec",
      "placeholder": "​",
      "style": "IPY_MODEL_139b5e88533d4ea2973c15a01ae72085",
      "value": " 5696/5699 [01:49&lt;00:00, 56.98it/s]"
     }
    },
    "16c558935fe4495abda2ce770867481e": {
     "model_module": "@jupyter-widgets/controls",
     "model_module_version": "1.5.0",
     "model_name": "HBoxModel",
     "state": {
      "_dom_classes": [],
      "_model_module": "@jupyter-widgets/controls",
      "_model_module_version": "1.5.0",
      "_model_name": "HBoxModel",
      "_view_count": null,
      "_view_module": "@jupyter-widgets/controls",
      "_view_module_version": "1.5.0",
      "_view_name": "HBoxView",
      "box_style": "",
      "children": [
       "IPY_MODEL_45d5f85a95d241939840d1fbfc28a16a",
       "IPY_MODEL_a8736d2fae1b4343a39426aebf322380",
       "IPY_MODEL_348619ef19054af1a2afdacbf2c41dc9"
      ],
      "layout": "IPY_MODEL_7390f586df1e40998525c701a5c0c727"
     }
    },
    "18273679ec404c2883860b302b300380": {
     "model_module": "@jupyter-widgets/controls",
     "model_module_version": "1.5.0",
     "model_name": "HTMLModel",
     "state": {
      "_dom_classes": [],
      "_model_module": "@jupyter-widgets/controls",
      "_model_module_version": "1.5.0",
      "_model_name": "HTMLModel",
      "_view_count": null,
      "_view_module": "@jupyter-widgets/controls",
      "_view_module_version": "1.5.0",
      "_view_name": "HTMLView",
      "description": "",
      "description_tooltip": null,
      "layout": "IPY_MODEL_39e541737dba4ffcb2efcd33bb5854b8",
      "placeholder": "​",
      "style": "IPY_MODEL_1a79d56ce701413197a16785bfffda63",
      "value": "100%"
     }
    },
    "1a79d56ce701413197a16785bfffda63": {
     "model_module": "@jupyter-widgets/controls",
     "model_module_version": "1.5.0",
     "model_name": "DescriptionStyleModel",
     "state": {
      "_model_module": "@jupyter-widgets/controls",
      "_model_module_version": "1.5.0",
      "_model_name": "DescriptionStyleModel",
      "_view_count": null,
      "_view_module": "@jupyter-widgets/base",
      "_view_module_version": "1.2.0",
      "_view_name": "StyleView",
      "description_width": ""
     }
    },
    "232fb6207a7d486996b9941131f769ec": {
     "model_module": "@jupyter-widgets/base",
     "model_module_version": "1.2.0",
     "model_name": "LayoutModel",
     "state": {
      "_model_module": "@jupyter-widgets/base",
      "_model_module_version": "1.2.0",
      "_model_name": "LayoutModel",
      "_view_count": null,
      "_view_module": "@jupyter-widgets/base",
      "_view_module_version": "1.2.0",
      "_view_name": "LayoutView",
      "align_content": null,
      "align_items": null,
      "align_self": null,
      "border": null,
      "bottom": null,
      "display": null,
      "flex": null,
      "flex_flow": null,
      "grid_area": null,
      "grid_auto_columns": null,
      "grid_auto_flow": null,
      "grid_auto_rows": null,
      "grid_column": null,
      "grid_gap": null,
      "grid_row": null,
      "grid_template_areas": null,
      "grid_template_columns": null,
      "grid_template_rows": null,
      "height": null,
      "justify_content": null,
      "justify_items": null,
      "left": null,
      "margin": null,
      "max_height": null,
      "max_width": null,
      "min_height": null,
      "min_width": null,
      "object_fit": null,
      "object_position": null,
      "order": null,
      "overflow": null,
      "overflow_x": null,
      "overflow_y": null,
      "padding": null,
      "right": null,
      "top": null,
      "visibility": null,
      "width": null
     }
    },
    "25e246bbb8b14c2d903afc48aadd033b": {
     "model_module": "@jupyter-widgets/base",
     "model_module_version": "1.2.0",
     "model_name": "LayoutModel",
     "state": {
      "_model_module": "@jupyter-widgets/base",
      "_model_module_version": "1.2.0",
      "_model_name": "LayoutModel",
      "_view_count": null,
      "_view_module": "@jupyter-widgets/base",
      "_view_module_version": "1.2.0",
      "_view_name": "LayoutView",
      "align_content": null,
      "align_items": null,
      "align_self": null,
      "border": null,
      "bottom": null,
      "display": null,
      "flex": null,
      "flex_flow": null,
      "grid_area": null,
      "grid_auto_columns": null,
      "grid_auto_flow": null,
      "grid_auto_rows": null,
      "grid_column": null,
      "grid_gap": null,
      "grid_row": null,
      "grid_template_areas": null,
      "grid_template_columns": null,
      "grid_template_rows": null,
      "height": null,
      "justify_content": null,
      "justify_items": null,
      "left": null,
      "margin": null,
      "max_height": null,
      "max_width": null,
      "min_height": null,
      "min_width": null,
      "object_fit": null,
      "object_position": null,
      "order": null,
      "overflow": null,
      "overflow_x": null,
      "overflow_y": null,
      "padding": null,
      "right": null,
      "top": null,
      "visibility": null,
      "width": null
     }
    },
    "2c284da2d28645be8bcda61234acbeb2": {
     "model_module": "@jupyter-widgets/controls",
     "model_module_version": "1.5.0",
     "model_name": "ProgressStyleModel",
     "state": {
      "_model_module": "@jupyter-widgets/controls",
      "_model_module_version": "1.5.0",
      "_model_name": "ProgressStyleModel",
      "_view_count": null,
      "_view_module": "@jupyter-widgets/base",
      "_view_module_version": "1.2.0",
      "_view_name": "StyleView",
      "bar_color": null,
      "description_width": ""
     }
    },
    "2eae7af074d54b88909475e42c5a665a": {
     "model_module": "@jupyter-widgets/base",
     "model_module_version": "1.2.0",
     "model_name": "LayoutModel",
     "state": {
      "_model_module": "@jupyter-widgets/base",
      "_model_module_version": "1.2.0",
      "_model_name": "LayoutModel",
      "_view_count": null,
      "_view_module": "@jupyter-widgets/base",
      "_view_module_version": "1.2.0",
      "_view_name": "LayoutView",
      "align_content": null,
      "align_items": null,
      "align_self": null,
      "border": null,
      "bottom": null,
      "display": null,
      "flex": null,
      "flex_flow": null,
      "grid_area": null,
      "grid_auto_columns": null,
      "grid_auto_flow": null,
      "grid_auto_rows": null,
      "grid_column": null,
      "grid_gap": null,
      "grid_row": null,
      "grid_template_areas": null,
      "grid_template_columns": null,
      "grid_template_rows": null,
      "height": null,
      "justify_content": null,
      "justify_items": null,
      "left": null,
      "margin": null,
      "max_height": null,
      "max_width": null,
      "min_height": null,
      "min_width": null,
      "object_fit": null,
      "object_position": null,
      "order": null,
      "overflow": null,
      "overflow_x": null,
      "overflow_y": null,
      "padding": null,
      "right": null,
      "top": null,
      "visibility": null,
      "width": null
     }
    },
    "301a42eff7934b95bf88af75445ef012": {
     "model_module": "@jupyter-widgets/controls",
     "model_module_version": "1.5.0",
     "model_name": "HTMLModel",
     "state": {
      "_dom_classes": [],
      "_model_module": "@jupyter-widgets/controls",
      "_model_module_version": "1.5.0",
      "_model_name": "HTMLModel",
      "_view_count": null,
      "_view_module": "@jupyter-widgets/controls",
      "_view_module_version": "1.5.0",
      "_view_name": "HTMLView",
      "description": "",
      "description_tooltip": null,
      "layout": "IPY_MODEL_e45add6cc10440d1886f843f4d56eac6",
      "placeholder": "​",
      "style": "IPY_MODEL_ce308478a2494a058ebbb5d5701fcb3f",
      "value": " 5697/5699 [01:53&lt;00:00, 52.62it/s]"
     }
    },
    "339268e8569849d0aca4944f21838f49": {
     "model_module": "@jupyter-widgets/controls",
     "model_module_version": "1.5.0",
     "model_name": "HBoxModel",
     "state": {
      "_dom_classes": [],
      "_model_module": "@jupyter-widgets/controls",
      "_model_module_version": "1.5.0",
      "_model_name": "HBoxModel",
      "_view_count": null,
      "_view_module": "@jupyter-widgets/controls",
      "_view_module_version": "1.5.0",
      "_view_name": "HBoxView",
      "box_style": "",
      "children": [
       "IPY_MODEL_078288f12d734967803786869a57b073",
       "IPY_MODEL_fcb06018729645639117f9485555a55c",
       "IPY_MODEL_c5733a944b6743329135ede6311f37fe"
      ],
      "layout": "IPY_MODEL_e682f15653764663b3b2e79785f1033b"
     }
    },
    "348619ef19054af1a2afdacbf2c41dc9": {
     "model_module": "@jupyter-widgets/controls",
     "model_module_version": "1.5.0",
     "model_name": "HTMLModel",
     "state": {
      "_dom_classes": [],
      "_model_module": "@jupyter-widgets/controls",
      "_model_module_version": "1.5.0",
      "_model_name": "HTMLModel",
      "_view_count": null,
      "_view_module": "@jupyter-widgets/controls",
      "_view_module_version": "1.5.0",
      "_view_name": "HTMLView",
      "description": "",
      "description_tooltip": null,
      "layout": "IPY_MODEL_c43fd1c6873b437a9ab713707bfe94a1",
      "placeholder": "​",
      "style": "IPY_MODEL_6c04d439f56849a9a49aff1768e7ad9f",
      "value": " 5696/5699 [01:48&lt;00:00, 54.35it/s]"
     }
    },
    "39e541737dba4ffcb2efcd33bb5854b8": {
     "model_module": "@jupyter-widgets/base",
     "model_module_version": "1.2.0",
     "model_name": "LayoutModel",
     "state": {
      "_model_module": "@jupyter-widgets/base",
      "_model_module_version": "1.2.0",
      "_model_name": "LayoutModel",
      "_view_count": null,
      "_view_module": "@jupyter-widgets/base",
      "_view_module_version": "1.2.0",
      "_view_name": "LayoutView",
      "align_content": null,
      "align_items": null,
      "align_self": null,
      "border": null,
      "bottom": null,
      "display": null,
      "flex": null,
      "flex_flow": null,
      "grid_area": null,
      "grid_auto_columns": null,
      "grid_auto_flow": null,
      "grid_auto_rows": null,
      "grid_column": null,
      "grid_gap": null,
      "grid_row": null,
      "grid_template_areas": null,
      "grid_template_columns": null,
      "grid_template_rows": null,
      "height": null,
      "justify_content": null,
      "justify_items": null,
      "left": null,
      "margin": null,
      "max_height": null,
      "max_width": null,
      "min_height": null,
      "min_width": null,
      "object_fit": null,
      "object_position": null,
      "order": null,
      "overflow": null,
      "overflow_x": null,
      "overflow_y": null,
      "padding": null,
      "right": null,
      "top": null,
      "visibility": null,
      "width": null
     }
    },
    "3bd1889adc7440fa98f7afbc5c59c17f": {
     "model_module": "@jupyter-widgets/controls",
     "model_module_version": "1.5.0",
     "model_name": "DescriptionStyleModel",
     "state": {
      "_model_module": "@jupyter-widgets/controls",
      "_model_module_version": "1.5.0",
      "_model_name": "DescriptionStyleModel",
      "_view_count": null,
      "_view_module": "@jupyter-widgets/base",
      "_view_module_version": "1.2.0",
      "_view_name": "StyleView",
      "description_width": ""
     }
    },
    "3c29dd2a27ca4484bb4e9a8df5ef7835": {
     "model_module": "@jupyter-widgets/controls",
     "model_module_version": "1.5.0",
     "model_name": "DescriptionStyleModel",
     "state": {
      "_model_module": "@jupyter-widgets/controls",
      "_model_module_version": "1.5.0",
      "_model_name": "DescriptionStyleModel",
      "_view_count": null,
      "_view_module": "@jupyter-widgets/base",
      "_view_module_version": "1.2.0",
      "_view_name": "StyleView",
      "description_width": ""
     }
    },
    "3d5a122cf0b04c68887cecfbaafc8f3f": {
     "model_module": "@jupyter-widgets/controls",
     "model_module_version": "1.5.0",
     "model_name": "HBoxModel",
     "state": {
      "_dom_classes": [],
      "_model_module": "@jupyter-widgets/controls",
      "_model_module_version": "1.5.0",
      "_model_name": "HBoxModel",
      "_view_count": null,
      "_view_module": "@jupyter-widgets/controls",
      "_view_module_version": "1.5.0",
      "_view_name": "HBoxView",
      "box_style": "",
      "children": [
       "IPY_MODEL_7c5e6d1cadea4dc384b1b99bf8684af0",
       "IPY_MODEL_d539fdbbe5be497d9e094beff0f8592a",
       "IPY_MODEL_6ca9b5441d6c44628420f03fc4e81166"
      ],
      "layout": "IPY_MODEL_a7ea295f7889405a84b2fc415ae19eea"
     }
    },
    "3e224a21a0954c459a8f7e51a0886ad0": {
     "model_module": "@jupyter-widgets/controls",
     "model_module_version": "1.5.0",
     "model_name": "DescriptionStyleModel",
     "state": {
      "_model_module": "@jupyter-widgets/controls",
      "_model_module_version": "1.5.0",
      "_model_name": "DescriptionStyleModel",
      "_view_count": null,
      "_view_module": "@jupyter-widgets/base",
      "_view_module_version": "1.2.0",
      "_view_name": "StyleView",
      "description_width": ""
     }
    },
    "3ee0503b6c834ab383379b22731e8100": {
     "model_module": "@jupyter-widgets/controls",
     "model_module_version": "1.5.0",
     "model_name": "HTMLModel",
     "state": {
      "_dom_classes": [],
      "_model_module": "@jupyter-widgets/controls",
      "_model_module_version": "1.5.0",
      "_model_name": "HTMLModel",
      "_view_count": null,
      "_view_module": "@jupyter-widgets/controls",
      "_view_module_version": "1.5.0",
      "_view_name": "HTMLView",
      "description": "",
      "description_tooltip": null,
      "layout": "IPY_MODEL_416e682cc4774564b4b7f9462684671d",
      "placeholder": "​",
      "style": "IPY_MODEL_b320fff8c692460fb9753767efc4ed3b",
      "value": "100%"
     }
    },
    "3f0510fb47864e7c84c06cefea2aebc5": {
     "model_module": "@jupyter-widgets/controls",
     "model_module_version": "1.5.0",
     "model_name": "DescriptionStyleModel",
     "state": {
      "_model_module": "@jupyter-widgets/controls",
      "_model_module_version": "1.5.0",
      "_model_name": "DescriptionStyleModel",
      "_view_count": null,
      "_view_module": "@jupyter-widgets/base",
      "_view_module_version": "1.2.0",
      "_view_name": "StyleView",
      "description_width": ""
     }
    },
    "3f10ac3835ad4dc6b41de5b47200cac0": {
     "model_module": "@jupyter-widgets/base",
     "model_module_version": "1.2.0",
     "model_name": "LayoutModel",
     "state": {
      "_model_module": "@jupyter-widgets/base",
      "_model_module_version": "1.2.0",
      "_model_name": "LayoutModel",
      "_view_count": null,
      "_view_module": "@jupyter-widgets/base",
      "_view_module_version": "1.2.0",
      "_view_name": "LayoutView",
      "align_content": null,
      "align_items": null,
      "align_self": null,
      "border": null,
      "bottom": null,
      "display": null,
      "flex": null,
      "flex_flow": null,
      "grid_area": null,
      "grid_auto_columns": null,
      "grid_auto_flow": null,
      "grid_auto_rows": null,
      "grid_column": null,
      "grid_gap": null,
      "grid_row": null,
      "grid_template_areas": null,
      "grid_template_columns": null,
      "grid_template_rows": null,
      "height": null,
      "justify_content": null,
      "justify_items": null,
      "left": null,
      "margin": null,
      "max_height": null,
      "max_width": null,
      "min_height": null,
      "min_width": null,
      "object_fit": null,
      "object_position": null,
      "order": null,
      "overflow": null,
      "overflow_x": null,
      "overflow_y": null,
      "padding": null,
      "right": null,
      "top": null,
      "visibility": null,
      "width": null
     }
    },
    "41320a7d83cc40c68289d052fe4bbbd4": {
     "model_module": "@jupyter-widgets/controls",
     "model_module_version": "1.5.0",
     "model_name": "ProgressStyleModel",
     "state": {
      "_model_module": "@jupyter-widgets/controls",
      "_model_module_version": "1.5.0",
      "_model_name": "ProgressStyleModel",
      "_view_count": null,
      "_view_module": "@jupyter-widgets/base",
      "_view_module_version": "1.2.0",
      "_view_name": "StyleView",
      "bar_color": null,
      "description_width": ""
     }
    },
    "416e682cc4774564b4b7f9462684671d": {
     "model_module": "@jupyter-widgets/base",
     "model_module_version": "1.2.0",
     "model_name": "LayoutModel",
     "state": {
      "_model_module": "@jupyter-widgets/base",
      "_model_module_version": "1.2.0",
      "_model_name": "LayoutModel",
      "_view_count": null,
      "_view_module": "@jupyter-widgets/base",
      "_view_module_version": "1.2.0",
      "_view_name": "LayoutView",
      "align_content": null,
      "align_items": null,
      "align_self": null,
      "border": null,
      "bottom": null,
      "display": null,
      "flex": null,
      "flex_flow": null,
      "grid_area": null,
      "grid_auto_columns": null,
      "grid_auto_flow": null,
      "grid_auto_rows": null,
      "grid_column": null,
      "grid_gap": null,
      "grid_row": null,
      "grid_template_areas": null,
      "grid_template_columns": null,
      "grid_template_rows": null,
      "height": null,
      "justify_content": null,
      "justify_items": null,
      "left": null,
      "margin": null,
      "max_height": null,
      "max_width": null,
      "min_height": null,
      "min_width": null,
      "object_fit": null,
      "object_position": null,
      "order": null,
      "overflow": null,
      "overflow_x": null,
      "overflow_y": null,
      "padding": null,
      "right": null,
      "top": null,
      "visibility": null,
      "width": null
     }
    },
    "41fa98677fac4390bb36fe03da97f309": {
     "model_module": "@jupyter-widgets/base",
     "model_module_version": "1.2.0",
     "model_name": "LayoutModel",
     "state": {
      "_model_module": "@jupyter-widgets/base",
      "_model_module_version": "1.2.0",
      "_model_name": "LayoutModel",
      "_view_count": null,
      "_view_module": "@jupyter-widgets/base",
      "_view_module_version": "1.2.0",
      "_view_name": "LayoutView",
      "align_content": null,
      "align_items": null,
      "align_self": null,
      "border": null,
      "bottom": null,
      "display": null,
      "flex": null,
      "flex_flow": null,
      "grid_area": null,
      "grid_auto_columns": null,
      "grid_auto_flow": null,
      "grid_auto_rows": null,
      "grid_column": null,
      "grid_gap": null,
      "grid_row": null,
      "grid_template_areas": null,
      "grid_template_columns": null,
      "grid_template_rows": null,
      "height": null,
      "justify_content": null,
      "justify_items": null,
      "left": null,
      "margin": null,
      "max_height": null,
      "max_width": null,
      "min_height": null,
      "min_width": null,
      "object_fit": null,
      "object_position": null,
      "order": null,
      "overflow": null,
      "overflow_x": null,
      "overflow_y": null,
      "padding": null,
      "right": null,
      "top": null,
      "visibility": null,
      "width": null
     }
    },
    "443f56e135f54bf3b5b486cf524492a3": {
     "model_module": "@jupyter-widgets/base",
     "model_module_version": "1.2.0",
     "model_name": "LayoutModel",
     "state": {
      "_model_module": "@jupyter-widgets/base",
      "_model_module_version": "1.2.0",
      "_model_name": "LayoutModel",
      "_view_count": null,
      "_view_module": "@jupyter-widgets/base",
      "_view_module_version": "1.2.0",
      "_view_name": "LayoutView",
      "align_content": null,
      "align_items": null,
      "align_self": null,
      "border": null,
      "bottom": null,
      "display": null,
      "flex": null,
      "flex_flow": null,
      "grid_area": null,
      "grid_auto_columns": null,
      "grid_auto_flow": null,
      "grid_auto_rows": null,
      "grid_column": null,
      "grid_gap": null,
      "grid_row": null,
      "grid_template_areas": null,
      "grid_template_columns": null,
      "grid_template_rows": null,
      "height": null,
      "justify_content": null,
      "justify_items": null,
      "left": null,
      "margin": null,
      "max_height": null,
      "max_width": null,
      "min_height": null,
      "min_width": null,
      "object_fit": null,
      "object_position": null,
      "order": null,
      "overflow": null,
      "overflow_x": null,
      "overflow_y": null,
      "padding": null,
      "right": null,
      "top": null,
      "visibility": null,
      "width": null
     }
    },
    "45d5f85a95d241939840d1fbfc28a16a": {
     "model_module": "@jupyter-widgets/controls",
     "model_module_version": "1.5.0",
     "model_name": "HTMLModel",
     "state": {
      "_dom_classes": [],
      "_model_module": "@jupyter-widgets/controls",
      "_model_module_version": "1.5.0",
      "_model_name": "HTMLModel",
      "_view_count": null,
      "_view_module": "@jupyter-widgets/controls",
      "_view_module_version": "1.5.0",
      "_view_name": "HTMLView",
      "description": "",
      "description_tooltip": null,
      "layout": "IPY_MODEL_62c637c3bef4411e83991dbb5f00a9d2",
      "placeholder": "​",
      "style": "IPY_MODEL_7404ae2fdbfe40fea2fa1f8c902c532e",
      "value": "100%"
     }
    },
    "48cc814d4b024c258659bfc94f28a927": {
     "model_module": "@jupyter-widgets/base",
     "model_module_version": "1.2.0",
     "model_name": "LayoutModel",
     "state": {
      "_model_module": "@jupyter-widgets/base",
      "_model_module_version": "1.2.0",
      "_model_name": "LayoutModel",
      "_view_count": null,
      "_view_module": "@jupyter-widgets/base",
      "_view_module_version": "1.2.0",
      "_view_name": "LayoutView",
      "align_content": null,
      "align_items": null,
      "align_self": null,
      "border": null,
      "bottom": null,
      "display": null,
      "flex": null,
      "flex_flow": null,
      "grid_area": null,
      "grid_auto_columns": null,
      "grid_auto_flow": null,
      "grid_auto_rows": null,
      "grid_column": null,
      "grid_gap": null,
      "grid_row": null,
      "grid_template_areas": null,
      "grid_template_columns": null,
      "grid_template_rows": null,
      "height": null,
      "justify_content": null,
      "justify_items": null,
      "left": null,
      "margin": null,
      "max_height": null,
      "max_width": null,
      "min_height": null,
      "min_width": null,
      "object_fit": null,
      "object_position": null,
      "order": null,
      "overflow": null,
      "overflow_x": null,
      "overflow_y": null,
      "padding": null,
      "right": null,
      "top": null,
      "visibility": null,
      "width": null
     }
    },
    "4a48d212ac8c486aa95a67dc21437e93": {
     "model_module": "@jupyter-widgets/controls",
     "model_module_version": "1.5.0",
     "model_name": "HTMLModel",
     "state": {
      "_dom_classes": [],
      "_model_module": "@jupyter-widgets/controls",
      "_model_module_version": "1.5.0",
      "_model_name": "HTMLModel",
      "_view_count": null,
      "_view_module": "@jupyter-widgets/controls",
      "_view_module_version": "1.5.0",
      "_view_name": "HTMLView",
      "description": "",
      "description_tooltip": null,
      "layout": "IPY_MODEL_7ed932b87b3747ee80c7560171acda0d",
      "placeholder": "​",
      "style": "IPY_MODEL_3bd1889adc7440fa98f7afbc5c59c17f",
      "value": " 9/100 [29:26&lt;4:21:37, 172.51s/it]"
     }
    },
    "4c9849183844474385af7194d7b54584": {
     "model_module": "@jupyter-widgets/controls",
     "model_module_version": "1.5.0",
     "model_name": "FloatProgressModel",
     "state": {
      "_dom_classes": [],
      "_model_module": "@jupyter-widgets/controls",
      "_model_module_version": "1.5.0",
      "_model_name": "FloatProgressModel",
      "_view_count": null,
      "_view_module": "@jupyter-widgets/controls",
      "_view_module_version": "1.5.0",
      "_view_name": "ProgressView",
      "bar_style": "",
      "description": "",
      "description_tooltip": null,
      "layout": "IPY_MODEL_25e246bbb8b14c2d903afc48aadd033b",
      "max": 5699,
      "min": 0,
      "orientation": "horizontal",
      "style": "IPY_MODEL_7c5591bc7cef47539ea9fa756e67b49a",
      "value": 5699
     }
    },
    "5153ddd9fe4341cc81fac7a025fbe5bb": {
     "model_module": "@jupyter-widgets/controls",
     "model_module_version": "1.5.0",
     "model_name": "HTMLModel",
     "state": {
      "_dom_classes": [],
      "_model_module": "@jupyter-widgets/controls",
      "_model_module_version": "1.5.0",
      "_model_name": "HTMLModel",
      "_view_count": null,
      "_view_module": "@jupyter-widgets/controls",
      "_view_module_version": "1.5.0",
      "_view_name": "HTMLView",
      "description": "",
      "description_tooltip": null,
      "layout": "IPY_MODEL_48cc814d4b024c258659bfc94f28a927",
      "placeholder": "​",
      "style": "IPY_MODEL_d0ebf734996247409ce3d9c06751dbea",
      "value": "100%"
     }
    },
    "52b9ac664d674096a4bf8d28af9c4f8f": {
     "model_module": "@jupyter-widgets/base",
     "model_module_version": "1.2.0",
     "model_name": "LayoutModel",
     "state": {
      "_model_module": "@jupyter-widgets/base",
      "_model_module_version": "1.2.0",
      "_model_name": "LayoutModel",
      "_view_count": null,
      "_view_module": "@jupyter-widgets/base",
      "_view_module_version": "1.2.0",
      "_view_name": "LayoutView",
      "align_content": null,
      "align_items": null,
      "align_self": null,
      "border": null,
      "bottom": null,
      "display": null,
      "flex": null,
      "flex_flow": null,
      "grid_area": null,
      "grid_auto_columns": null,
      "grid_auto_flow": null,
      "grid_auto_rows": null,
      "grid_column": null,
      "grid_gap": null,
      "grid_row": null,
      "grid_template_areas": null,
      "grid_template_columns": null,
      "grid_template_rows": null,
      "height": null,
      "justify_content": null,
      "justify_items": null,
      "left": null,
      "margin": null,
      "max_height": null,
      "max_width": null,
      "min_height": null,
      "min_width": null,
      "object_fit": null,
      "object_position": null,
      "order": null,
      "overflow": null,
      "overflow_x": null,
      "overflow_y": null,
      "padding": null,
      "right": null,
      "top": null,
      "visibility": null,
      "width": null
     }
    },
    "53c8aaa925db4dc098a53b3323a295ee": {
     "model_module": "@jupyter-widgets/controls",
     "model_module_version": "1.5.0",
     "model_name": "FloatProgressModel",
     "state": {
      "_dom_classes": [],
      "_model_module": "@jupyter-widgets/controls",
      "_model_module_version": "1.5.0",
      "_model_name": "FloatProgressModel",
      "_view_count": null,
      "_view_module": "@jupyter-widgets/controls",
      "_view_module_version": "1.5.0",
      "_view_name": "ProgressView",
      "bar_style": "",
      "description": "",
      "description_tooltip": null,
      "layout": "IPY_MODEL_c7fb76c5686b4cf787aaf2eaed43a201",
      "max": 5699,
      "min": 0,
      "orientation": "horizontal",
      "style": "IPY_MODEL_cc732ae47ea24e47957477ceba24269e",
      "value": 5699
     }
    },
    "590c12319b6e4d9496cff501d6ed4348": {
     "model_module": "@jupyter-widgets/base",
     "model_module_version": "1.2.0",
     "model_name": "LayoutModel",
     "state": {
      "_model_module": "@jupyter-widgets/base",
      "_model_module_version": "1.2.0",
      "_model_name": "LayoutModel",
      "_view_count": null,
      "_view_module": "@jupyter-widgets/base",
      "_view_module_version": "1.2.0",
      "_view_name": "LayoutView",
      "align_content": null,
      "align_items": null,
      "align_self": null,
      "border": null,
      "bottom": null,
      "display": null,
      "flex": null,
      "flex_flow": null,
      "grid_area": null,
      "grid_auto_columns": null,
      "grid_auto_flow": null,
      "grid_auto_rows": null,
      "grid_column": null,
      "grid_gap": null,
      "grid_row": null,
      "grid_template_areas": null,
      "grid_template_columns": null,
      "grid_template_rows": null,
      "height": null,
      "justify_content": null,
      "justify_items": null,
      "left": null,
      "margin": null,
      "max_height": null,
      "max_width": null,
      "min_height": null,
      "min_width": null,
      "object_fit": null,
      "object_position": null,
      "order": null,
      "overflow": null,
      "overflow_x": null,
      "overflow_y": null,
      "padding": null,
      "right": null,
      "top": null,
      "visibility": null,
      "width": null
     }
    },
    "6256d8cb09ce4418aaed9f4d63b2d418": {
     "model_module": "@jupyter-widgets/controls",
     "model_module_version": "1.5.0",
     "model_name": "HBoxModel",
     "state": {
      "_dom_classes": [],
      "_model_module": "@jupyter-widgets/controls",
      "_model_module_version": "1.5.0",
      "_model_name": "HBoxModel",
      "_view_count": null,
      "_view_module": "@jupyter-widgets/controls",
      "_view_module_version": "1.5.0",
      "_view_name": "HBoxView",
      "box_style": "",
      "children": [
       "IPY_MODEL_9f0ae05bc373452793c3c3c2943a636f",
       "IPY_MODEL_4c9849183844474385af7194d7b54584",
       "IPY_MODEL_ed7e5477f34044999db5134ddf705265"
      ],
      "layout": "IPY_MODEL_06ee61c9c504428c80ef0a728827e98d"
     }
    },
    "62c637c3bef4411e83991dbb5f00a9d2": {
     "model_module": "@jupyter-widgets/base",
     "model_module_version": "1.2.0",
     "model_name": "LayoutModel",
     "state": {
      "_model_module": "@jupyter-widgets/base",
      "_model_module_version": "1.2.0",
      "_model_name": "LayoutModel",
      "_view_count": null,
      "_view_module": "@jupyter-widgets/base",
      "_view_module_version": "1.2.0",
      "_view_name": "LayoutView",
      "align_content": null,
      "align_items": null,
      "align_self": null,
      "border": null,
      "bottom": null,
      "display": null,
      "flex": null,
      "flex_flow": null,
      "grid_area": null,
      "grid_auto_columns": null,
      "grid_auto_flow": null,
      "grid_auto_rows": null,
      "grid_column": null,
      "grid_gap": null,
      "grid_row": null,
      "grid_template_areas": null,
      "grid_template_columns": null,
      "grid_template_rows": null,
      "height": null,
      "justify_content": null,
      "justify_items": null,
      "left": null,
      "margin": null,
      "max_height": null,
      "max_width": null,
      "min_height": null,
      "min_width": null,
      "object_fit": null,
      "object_position": null,
      "order": null,
      "overflow": null,
      "overflow_x": null,
      "overflow_y": null,
      "padding": null,
      "right": null,
      "top": null,
      "visibility": null,
      "width": null
     }
    },
    "65dc54691aab40cfa3c7c72139121f99": {
     "model_module": "@jupyter-widgets/controls",
     "model_module_version": "1.5.0",
     "model_name": "DescriptionStyleModel",
     "state": {
      "_model_module": "@jupyter-widgets/controls",
      "_model_module_version": "1.5.0",
      "_model_name": "DescriptionStyleModel",
      "_view_count": null,
      "_view_module": "@jupyter-widgets/base",
      "_view_module_version": "1.2.0",
      "_view_name": "StyleView",
      "description_width": ""
     }
    },
    "662256219a4047e782b4fc4a65b1b3dc": {
     "model_module": "@jupyter-widgets/controls",
     "model_module_version": "1.5.0",
     "model_name": "ProgressStyleModel",
     "state": {
      "_model_module": "@jupyter-widgets/controls",
      "_model_module_version": "1.5.0",
      "_model_name": "ProgressStyleModel",
      "_view_count": null,
      "_view_module": "@jupyter-widgets/base",
      "_view_module_version": "1.2.0",
      "_view_name": "StyleView",
      "bar_color": null,
      "description_width": ""
     }
    },
    "67d9b19ac89845b6a84147a2b022f046": {
     "model_module": "@jupyter-widgets/controls",
     "model_module_version": "1.5.0",
     "model_name": "HBoxModel",
     "state": {
      "_dom_classes": [],
      "_model_module": "@jupyter-widgets/controls",
      "_model_module_version": "1.5.0",
      "_model_name": "HBoxModel",
      "_view_count": null,
      "_view_module": "@jupyter-widgets/controls",
      "_view_module_version": "1.5.0",
      "_view_name": "HBoxView",
      "box_style": "",
      "children": [
       "IPY_MODEL_fc83d31b2d3d41af98cc52892e3c6a47",
       "IPY_MODEL_b32a0e74359e4513925e2e5c36c4a1cc",
       "IPY_MODEL_4a48d212ac8c486aa95a67dc21437e93"
      ],
      "layout": "IPY_MODEL_087b2145ca284e7ba6c63754fc581092"
     }
    },
    "6c04d439f56849a9a49aff1768e7ad9f": {
     "model_module": "@jupyter-widgets/controls",
     "model_module_version": "1.5.0",
     "model_name": "DescriptionStyleModel",
     "state": {
      "_model_module": "@jupyter-widgets/controls",
      "_model_module_version": "1.5.0",
      "_model_name": "DescriptionStyleModel",
      "_view_count": null,
      "_view_module": "@jupyter-widgets/base",
      "_view_module_version": "1.2.0",
      "_view_name": "StyleView",
      "description_width": ""
     }
    },
    "6c6024c923de47c1a7dad753f2028176": {
     "model_module": "@jupyter-widgets/base",
     "model_module_version": "1.2.0",
     "model_name": "LayoutModel",
     "state": {
      "_model_module": "@jupyter-widgets/base",
      "_model_module_version": "1.2.0",
      "_model_name": "LayoutModel",
      "_view_count": null,
      "_view_module": "@jupyter-widgets/base",
      "_view_module_version": "1.2.0",
      "_view_name": "LayoutView",
      "align_content": null,
      "align_items": null,
      "align_self": null,
      "border": null,
      "bottom": null,
      "display": null,
      "flex": null,
      "flex_flow": null,
      "grid_area": null,
      "grid_auto_columns": null,
      "grid_auto_flow": null,
      "grid_auto_rows": null,
      "grid_column": null,
      "grid_gap": null,
      "grid_row": null,
      "grid_template_areas": null,
      "grid_template_columns": null,
      "grid_template_rows": null,
      "height": null,
      "justify_content": null,
      "justify_items": null,
      "left": null,
      "margin": null,
      "max_height": null,
      "max_width": null,
      "min_height": null,
      "min_width": null,
      "object_fit": null,
      "object_position": null,
      "order": null,
      "overflow": null,
      "overflow_x": null,
      "overflow_y": null,
      "padding": null,
      "right": null,
      "top": null,
      "visibility": "hidden",
      "width": null
     }
    },
    "6ca9b5441d6c44628420f03fc4e81166": {
     "model_module": "@jupyter-widgets/controls",
     "model_module_version": "1.5.0",
     "model_name": "HTMLModel",
     "state": {
      "_dom_classes": [],
      "_model_module": "@jupyter-widgets/controls",
      "_model_module_version": "1.5.0",
      "_model_name": "HTMLModel",
      "_view_count": null,
      "_view_module": "@jupyter-widgets/controls",
      "_view_module_version": "1.5.0",
      "_view_name": "HTMLView",
      "description": "",
      "description_tooltip": null,
      "layout": "IPY_MODEL_3f10ac3835ad4dc6b41de5b47200cac0",
      "placeholder": "​",
      "style": "IPY_MODEL_72037bb10de2437a98e83a434ef8f495",
      "value": " 5694/5699 [01:53&lt;00:00, 58.34it/s]"
     }
    },
    "72037bb10de2437a98e83a434ef8f495": {
     "model_module": "@jupyter-widgets/controls",
     "model_module_version": "1.5.0",
     "model_name": "DescriptionStyleModel",
     "state": {
      "_model_module": "@jupyter-widgets/controls",
      "_model_module_version": "1.5.0",
      "_model_name": "DescriptionStyleModel",
      "_view_count": null,
      "_view_module": "@jupyter-widgets/base",
      "_view_module_version": "1.2.0",
      "_view_name": "StyleView",
      "description_width": ""
     }
    },
    "72c8c9cc92fb4f5ab6ca851272496879": {
     "model_module": "@jupyter-widgets/base",
     "model_module_version": "1.2.0",
     "model_name": "LayoutModel",
     "state": {
      "_model_module": "@jupyter-widgets/base",
      "_model_module_version": "1.2.0",
      "_model_name": "LayoutModel",
      "_view_count": null,
      "_view_module": "@jupyter-widgets/base",
      "_view_module_version": "1.2.0",
      "_view_name": "LayoutView",
      "align_content": null,
      "align_items": null,
      "align_self": null,
      "border": null,
      "bottom": null,
      "display": null,
      "flex": null,
      "flex_flow": null,
      "grid_area": null,
      "grid_auto_columns": null,
      "grid_auto_flow": null,
      "grid_auto_rows": null,
      "grid_column": null,
      "grid_gap": null,
      "grid_row": null,
      "grid_template_areas": null,
      "grid_template_columns": null,
      "grid_template_rows": null,
      "height": null,
      "justify_content": null,
      "justify_items": null,
      "left": null,
      "margin": null,
      "max_height": null,
      "max_width": null,
      "min_height": null,
      "min_width": null,
      "object_fit": null,
      "object_position": null,
      "order": null,
      "overflow": null,
      "overflow_x": null,
      "overflow_y": null,
      "padding": null,
      "right": null,
      "top": null,
      "visibility": null,
      "width": null
     }
    },
    "7390f586df1e40998525c701a5c0c727": {
     "model_module": "@jupyter-widgets/base",
     "model_module_version": "1.2.0",
     "model_name": "LayoutModel",
     "state": {
      "_model_module": "@jupyter-widgets/base",
      "_model_module_version": "1.2.0",
      "_model_name": "LayoutModel",
      "_view_count": null,
      "_view_module": "@jupyter-widgets/base",
      "_view_module_version": "1.2.0",
      "_view_name": "LayoutView",
      "align_content": null,
      "align_items": null,
      "align_self": null,
      "border": null,
      "bottom": null,
      "display": null,
      "flex": null,
      "flex_flow": null,
      "grid_area": null,
      "grid_auto_columns": null,
      "grid_auto_flow": null,
      "grid_auto_rows": null,
      "grid_column": null,
      "grid_gap": null,
      "grid_row": null,
      "grid_template_areas": null,
      "grid_template_columns": null,
      "grid_template_rows": null,
      "height": null,
      "justify_content": null,
      "justify_items": null,
      "left": null,
      "margin": null,
      "max_height": null,
      "max_width": null,
      "min_height": null,
      "min_width": null,
      "object_fit": null,
      "object_position": null,
      "order": null,
      "overflow": null,
      "overflow_x": null,
      "overflow_y": null,
      "padding": null,
      "right": null,
      "top": null,
      "visibility": "hidden",
      "width": null
     }
    },
    "7404ae2fdbfe40fea2fa1f8c902c532e": {
     "model_module": "@jupyter-widgets/controls",
     "model_module_version": "1.5.0",
     "model_name": "DescriptionStyleModel",
     "state": {
      "_model_module": "@jupyter-widgets/controls",
      "_model_module_version": "1.5.0",
      "_model_name": "DescriptionStyleModel",
      "_view_count": null,
      "_view_module": "@jupyter-widgets/base",
      "_view_module_version": "1.2.0",
      "_view_name": "StyleView",
      "description_width": ""
     }
    },
    "7a92f3f5d8de49d695c08724e225afde": {
     "model_module": "@jupyter-widgets/base",
     "model_module_version": "1.2.0",
     "model_name": "LayoutModel",
     "state": {
      "_model_module": "@jupyter-widgets/base",
      "_model_module_version": "1.2.0",
      "_model_name": "LayoutModel",
      "_view_count": null,
      "_view_module": "@jupyter-widgets/base",
      "_view_module_version": "1.2.0",
      "_view_name": "LayoutView",
      "align_content": null,
      "align_items": null,
      "align_self": null,
      "border": null,
      "bottom": null,
      "display": null,
      "flex": null,
      "flex_flow": null,
      "grid_area": null,
      "grid_auto_columns": null,
      "grid_auto_flow": null,
      "grid_auto_rows": null,
      "grid_column": null,
      "grid_gap": null,
      "grid_row": null,
      "grid_template_areas": null,
      "grid_template_columns": null,
      "grid_template_rows": null,
      "height": null,
      "justify_content": null,
      "justify_items": null,
      "left": null,
      "margin": null,
      "max_height": null,
      "max_width": null,
      "min_height": null,
      "min_width": null,
      "object_fit": null,
      "object_position": null,
      "order": null,
      "overflow": null,
      "overflow_x": null,
      "overflow_y": null,
      "padding": null,
      "right": null,
      "top": null,
      "visibility": null,
      "width": null
     }
    },
    "7c5591bc7cef47539ea9fa756e67b49a": {
     "model_module": "@jupyter-widgets/controls",
     "model_module_version": "1.5.0",
     "model_name": "ProgressStyleModel",
     "state": {
      "_model_module": "@jupyter-widgets/controls",
      "_model_module_version": "1.5.0",
      "_model_name": "ProgressStyleModel",
      "_view_count": null,
      "_view_module": "@jupyter-widgets/base",
      "_view_module_version": "1.2.0",
      "_view_name": "StyleView",
      "bar_color": null,
      "description_width": ""
     }
    },
    "7c5e6d1cadea4dc384b1b99bf8684af0": {
     "model_module": "@jupyter-widgets/controls",
     "model_module_version": "1.5.0",
     "model_name": "HTMLModel",
     "state": {
      "_dom_classes": [],
      "_model_module": "@jupyter-widgets/controls",
      "_model_module_version": "1.5.0",
      "_model_name": "HTMLModel",
      "_view_count": null,
      "_view_module": "@jupyter-widgets/controls",
      "_view_module_version": "1.5.0",
      "_view_name": "HTMLView",
      "description": "",
      "description_tooltip": null,
      "layout": "IPY_MODEL_52b9ac664d674096a4bf8d28af9c4f8f",
      "placeholder": "​",
      "style": "IPY_MODEL_b2648315fa7a42d08405d0b290b72884",
      "value": "100%"
     }
    },
    "7ed932b87b3747ee80c7560171acda0d": {
     "model_module": "@jupyter-widgets/base",
     "model_module_version": "1.2.0",
     "model_name": "LayoutModel",
     "state": {
      "_model_module": "@jupyter-widgets/base",
      "_model_module_version": "1.2.0",
      "_model_name": "LayoutModel",
      "_view_count": null,
      "_view_module": "@jupyter-widgets/base",
      "_view_module_version": "1.2.0",
      "_view_name": "LayoutView",
      "align_content": null,
      "align_items": null,
      "align_self": null,
      "border": null,
      "bottom": null,
      "display": null,
      "flex": null,
      "flex_flow": null,
      "grid_area": null,
      "grid_auto_columns": null,
      "grid_auto_flow": null,
      "grid_auto_rows": null,
      "grid_column": null,
      "grid_gap": null,
      "grid_row": null,
      "grid_template_areas": null,
      "grid_template_columns": null,
      "grid_template_rows": null,
      "height": null,
      "justify_content": null,
      "justify_items": null,
      "left": null,
      "margin": null,
      "max_height": null,
      "max_width": null,
      "min_height": null,
      "min_width": null,
      "object_fit": null,
      "object_position": null,
      "order": null,
      "overflow": null,
      "overflow_x": null,
      "overflow_y": null,
      "padding": null,
      "right": null,
      "top": null,
      "visibility": null,
      "width": null
     }
    },
    "806c869f82ed4fa09aafbf7b52b7a973": {
     "model_module": "@jupyter-widgets/controls",
     "model_module_version": "1.5.0",
     "model_name": "HBoxModel",
     "state": {
      "_dom_classes": [],
      "_model_module": "@jupyter-widgets/controls",
      "_model_module_version": "1.5.0",
      "_model_name": "HBoxModel",
      "_view_count": null,
      "_view_module": "@jupyter-widgets/controls",
      "_view_module_version": "1.5.0",
      "_view_name": "HBoxView",
      "box_style": "",
      "children": [
       "IPY_MODEL_bec1685afb784b3ab7c6ac7df0276ad6",
       "IPY_MODEL_b194c544bc2c4a91adbb1322ed82b508",
       "IPY_MODEL_e4e40292329246b5954c3fdb1d63fe86"
      ],
      "layout": "IPY_MODEL_c676333758aa4290a00b19b4ebc876a5"
     }
    },
    "8087c2370b664e56ad431069835bb8b1": {
     "model_module": "@jupyter-widgets/controls",
     "model_module_version": "1.5.0",
     "model_name": "HBoxModel",
     "state": {
      "_dom_classes": [],
      "_model_module": "@jupyter-widgets/controls",
      "_model_module_version": "1.5.0",
      "_model_name": "HBoxModel",
      "_view_count": null,
      "_view_module": "@jupyter-widgets/controls",
      "_view_module_version": "1.5.0",
      "_view_name": "HBoxView",
      "box_style": "",
      "children": [
       "IPY_MODEL_5153ddd9fe4341cc81fac7a025fbe5bb",
       "IPY_MODEL_53c8aaa925db4dc098a53b3323a295ee",
       "IPY_MODEL_165ca103f5b948749610ed063705b9e7"
      ],
      "layout": "IPY_MODEL_8674056e2b184b35bb219de6714699bc"
     }
    },
    "82cb4a7c0f2449ae92bddeeb1fd244e8": {
     "model_module": "@jupyter-widgets/controls",
     "model_module_version": "1.5.0",
     "model_name": "HBoxModel",
     "state": {
      "_dom_classes": [],
      "_model_module": "@jupyter-widgets/controls",
      "_model_module_version": "1.5.0",
      "_model_name": "HBoxModel",
      "_view_count": null,
      "_view_module": "@jupyter-widgets/controls",
      "_view_module_version": "1.5.0",
      "_view_name": "HBoxView",
      "box_style": "",
      "children": [
       "IPY_MODEL_c09f64224c8c497eb319105d6a6823eb",
       "IPY_MODEL_e16066f8a6734ba0b5a43d87b54b66fb",
       "IPY_MODEL_0ce223f51b194c02a9cd2472d8d55c5c"
      ],
      "layout": "IPY_MODEL_d598c6059f3f4dbe88f3c3cd67a75bbf"
     }
    },
    "83a28a06c06546b89e59667b1e8878ac": {
     "model_module": "@jupyter-widgets/controls",
     "model_module_version": "1.5.0",
     "model_name": "ProgressStyleModel",
     "state": {
      "_model_module": "@jupyter-widgets/controls",
      "_model_module_version": "1.5.0",
      "_model_name": "ProgressStyleModel",
      "_view_count": null,
      "_view_module": "@jupyter-widgets/base",
      "_view_module_version": "1.2.0",
      "_view_name": "StyleView",
      "bar_color": null,
      "description_width": ""
     }
    },
    "8554993902a7449da6f3a013b50d243a": {
     "model_module": "@jupyter-widgets/base",
     "model_module_version": "1.2.0",
     "model_name": "LayoutModel",
     "state": {
      "_model_module": "@jupyter-widgets/base",
      "_model_module_version": "1.2.0",
      "_model_name": "LayoutModel",
      "_view_count": null,
      "_view_module": "@jupyter-widgets/base",
      "_view_module_version": "1.2.0",
      "_view_name": "LayoutView",
      "align_content": null,
      "align_items": null,
      "align_self": null,
      "border": null,
      "bottom": null,
      "display": null,
      "flex": null,
      "flex_flow": null,
      "grid_area": null,
      "grid_auto_columns": null,
      "grid_auto_flow": null,
      "grid_auto_rows": null,
      "grid_column": null,
      "grid_gap": null,
      "grid_row": null,
      "grid_template_areas": null,
      "grid_template_columns": null,
      "grid_template_rows": null,
      "height": null,
      "justify_content": null,
      "justify_items": null,
      "left": null,
      "margin": null,
      "max_height": null,
      "max_width": null,
      "min_height": null,
      "min_width": null,
      "object_fit": null,
      "object_position": null,
      "order": null,
      "overflow": null,
      "overflow_x": null,
      "overflow_y": null,
      "padding": null,
      "right": null,
      "top": null,
      "visibility": null,
      "width": null
     }
    },
    "8674056e2b184b35bb219de6714699bc": {
     "model_module": "@jupyter-widgets/base",
     "model_module_version": "1.2.0",
     "model_name": "LayoutModel",
     "state": {
      "_model_module": "@jupyter-widgets/base",
      "_model_module_version": "1.2.0",
      "_model_name": "LayoutModel",
      "_view_count": null,
      "_view_module": "@jupyter-widgets/base",
      "_view_module_version": "1.2.0",
      "_view_name": "LayoutView",
      "align_content": null,
      "align_items": null,
      "align_self": null,
      "border": null,
      "bottom": null,
      "display": null,
      "flex": null,
      "flex_flow": null,
      "grid_area": null,
      "grid_auto_columns": null,
      "grid_auto_flow": null,
      "grid_auto_rows": null,
      "grid_column": null,
      "grid_gap": null,
      "grid_row": null,
      "grid_template_areas": null,
      "grid_template_columns": null,
      "grid_template_rows": null,
      "height": null,
      "justify_content": null,
      "justify_items": null,
      "left": null,
      "margin": null,
      "max_height": null,
      "max_width": null,
      "min_height": null,
      "min_width": null,
      "object_fit": null,
      "object_position": null,
      "order": null,
      "overflow": null,
      "overflow_x": null,
      "overflow_y": null,
      "padding": null,
      "right": null,
      "top": null,
      "visibility": "hidden",
      "width": null
     }
    },
    "87505370760247f2be532a1ff132b299": {
     "model_module": "@jupyter-widgets/controls",
     "model_module_version": "1.5.0",
     "model_name": "HTMLModel",
     "state": {
      "_dom_classes": [],
      "_model_module": "@jupyter-widgets/controls",
      "_model_module_version": "1.5.0",
      "_model_name": "HTMLModel",
      "_view_count": null,
      "_view_module": "@jupyter-widgets/controls",
      "_view_module_version": "1.5.0",
      "_view_name": "HTMLView",
      "description": "",
      "description_tooltip": null,
      "layout": "IPY_MODEL_c88dcf618acc47d5a6f3933482077e66",
      "placeholder": "​",
      "style": "IPY_MODEL_a991b39e37794ade8745430045f0a56d",
      "value": " 5499/5699 [01:45&lt;00:04, 46.49it/s]"
     }
    },
    "88cfbce9546d4a98aec7d8fc1e630288": {
     "model_module": "@jupyter-widgets/controls",
     "model_module_version": "1.5.0",
     "model_name": "HTMLModel",
     "state": {
      "_dom_classes": [],
      "_model_module": "@jupyter-widgets/controls",
      "_model_module_version": "1.5.0",
      "_model_name": "HTMLModel",
      "_view_count": null,
      "_view_module": "@jupyter-widgets/controls",
      "_view_module_version": "1.5.0",
      "_view_name": "HTMLView",
      "description": "",
      "description_tooltip": null,
      "layout": "IPY_MODEL_972937c771bb4cd1b9bdc5f2c482b694",
      "placeholder": "​",
      "style": "IPY_MODEL_3c29dd2a27ca4484bb4e9a8df5ef7835",
      "value": " 5696/5699 [01:45&lt;00:00, 62.63it/s]"
     }
    },
    "9266b2f19b3440b3a8ec89f892445cf6": {
     "model_module": "@jupyter-widgets/base",
     "model_module_version": "1.2.0",
     "model_name": "LayoutModel",
     "state": {
      "_model_module": "@jupyter-widgets/base",
      "_model_module_version": "1.2.0",
      "_model_name": "LayoutModel",
      "_view_count": null,
      "_view_module": "@jupyter-widgets/base",
      "_view_module_version": "1.2.0",
      "_view_name": "LayoutView",
      "align_content": null,
      "align_items": null,
      "align_self": null,
      "border": null,
      "bottom": null,
      "display": null,
      "flex": null,
      "flex_flow": null,
      "grid_area": null,
      "grid_auto_columns": null,
      "grid_auto_flow": null,
      "grid_auto_rows": null,
      "grid_column": null,
      "grid_gap": null,
      "grid_row": null,
      "grid_template_areas": null,
      "grid_template_columns": null,
      "grid_template_rows": null,
      "height": null,
      "justify_content": null,
      "justify_items": null,
      "left": null,
      "margin": null,
      "max_height": null,
      "max_width": null,
      "min_height": null,
      "min_width": null,
      "object_fit": null,
      "object_position": null,
      "order": null,
      "overflow": null,
      "overflow_x": null,
      "overflow_y": null,
      "padding": null,
      "right": null,
      "top": null,
      "visibility": null,
      "width": null
     }
    },
    "972937c771bb4cd1b9bdc5f2c482b694": {
     "model_module": "@jupyter-widgets/base",
     "model_module_version": "1.2.0",
     "model_name": "LayoutModel",
     "state": {
      "_model_module": "@jupyter-widgets/base",
      "_model_module_version": "1.2.0",
      "_model_name": "LayoutModel",
      "_view_count": null,
      "_view_module": "@jupyter-widgets/base",
      "_view_module_version": "1.2.0",
      "_view_name": "LayoutView",
      "align_content": null,
      "align_items": null,
      "align_self": null,
      "border": null,
      "bottom": null,
      "display": null,
      "flex": null,
      "flex_flow": null,
      "grid_area": null,
      "grid_auto_columns": null,
      "grid_auto_flow": null,
      "grid_auto_rows": null,
      "grid_column": null,
      "grid_gap": null,
      "grid_row": null,
      "grid_template_areas": null,
      "grid_template_columns": null,
      "grid_template_rows": null,
      "height": null,
      "justify_content": null,
      "justify_items": null,
      "left": null,
      "margin": null,
      "max_height": null,
      "max_width": null,
      "min_height": null,
      "min_width": null,
      "object_fit": null,
      "object_position": null,
      "order": null,
      "overflow": null,
      "overflow_x": null,
      "overflow_y": null,
      "padding": null,
      "right": null,
      "top": null,
      "visibility": null,
      "width": null
     }
    },
    "9a02d50f414a472d873f1fb5d9237954": {
     "model_module": "@jupyter-widgets/controls",
     "model_module_version": "1.5.0",
     "model_name": "ProgressStyleModel",
     "state": {
      "_model_module": "@jupyter-widgets/controls",
      "_model_module_version": "1.5.0",
      "_model_name": "ProgressStyleModel",
      "_view_count": null,
      "_view_module": "@jupyter-widgets/base",
      "_view_module_version": "1.2.0",
      "_view_name": "StyleView",
      "bar_color": null,
      "description_width": ""
     }
    },
    "9c2abaacfac94dcf8fcdcd850854d4d4": {
     "model_module": "@jupyter-widgets/controls",
     "model_module_version": "1.5.0",
     "model_name": "FloatProgressModel",
     "state": {
      "_dom_classes": [],
      "_model_module": "@jupyter-widgets/controls",
      "_model_module_version": "1.5.0",
      "_model_name": "FloatProgressModel",
      "_view_count": null,
      "_view_module": "@jupyter-widgets/controls",
      "_view_module_version": "1.5.0",
      "_view_name": "ProgressView",
      "bar_style": "",
      "description": "",
      "description_tooltip": null,
      "layout": "IPY_MODEL_590c12319b6e4d9496cff501d6ed4348",
      "max": 5699,
      "min": 0,
      "orientation": "horizontal",
      "style": "IPY_MODEL_2c284da2d28645be8bcda61234acbeb2",
      "value": 5699
     }
    },
    "9d14530191a04b82b6f6e300ab241b15": {
     "model_module": "@jupyter-widgets/controls",
     "model_module_version": "1.5.0",
     "model_name": "DescriptionStyleModel",
     "state": {
      "_model_module": "@jupyter-widgets/controls",
      "_model_module_version": "1.5.0",
      "_model_name": "DescriptionStyleModel",
      "_view_count": null,
      "_view_module": "@jupyter-widgets/base",
      "_view_module_version": "1.2.0",
      "_view_name": "StyleView",
      "description_width": ""
     }
    },
    "9d3f6777095343eabd74c2aef68e9f0e": {
     "model_module": "@jupyter-widgets/controls",
     "model_module_version": "1.5.0",
     "model_name": "HBoxModel",
     "state": {
      "_dom_classes": [],
      "_model_module": "@jupyter-widgets/controls",
      "_model_module_version": "1.5.0",
      "_model_name": "HBoxModel",
      "_view_count": null,
      "_view_module": "@jupyter-widgets/controls",
      "_view_module_version": "1.5.0",
      "_view_name": "HBoxView",
      "box_style": "",
      "children": [
       "IPY_MODEL_a6452da56b2c47dba0cac174f16f1c95",
       "IPY_MODEL_b25a028c97734864a4cff3ecb5e514a3",
       "IPY_MODEL_87505370760247f2be532a1ff132b299"
      ],
      "layout": "IPY_MODEL_8554993902a7449da6f3a013b50d243a"
     }
    },
    "9f0ae05bc373452793c3c3c2943a636f": {
     "model_module": "@jupyter-widgets/controls",
     "model_module_version": "1.5.0",
     "model_name": "HTMLModel",
     "state": {
      "_dom_classes": [],
      "_model_module": "@jupyter-widgets/controls",
      "_model_module_version": "1.5.0",
      "_model_name": "HTMLModel",
      "_view_count": null,
      "_view_module": "@jupyter-widgets/controls",
      "_view_module_version": "1.5.0",
      "_view_name": "HTMLView",
      "description": "",
      "description_tooltip": null,
      "layout": "IPY_MODEL_d46e0307d5f54b86adf6365a3ea63ba4",
      "placeholder": "​",
      "style": "IPY_MODEL_dc9ae8610a5a420f80b4ce50176efbcc",
      "value": "100%"
     }
    },
    "a6452da56b2c47dba0cac174f16f1c95": {
     "model_module": "@jupyter-widgets/controls",
     "model_module_version": "1.5.0",
     "model_name": "HTMLModel",
     "state": {
      "_dom_classes": [],
      "_model_module": "@jupyter-widgets/controls",
      "_model_module_version": "1.5.0",
      "_model_name": "HTMLModel",
      "_view_count": null,
      "_view_module": "@jupyter-widgets/controls",
      "_view_module_version": "1.5.0",
      "_view_name": "HTMLView",
      "description": "",
      "description_tooltip": null,
      "layout": "IPY_MODEL_f7ceb717fafe4b86a422c73154e88e19",
      "placeholder": "​",
      "style": "IPY_MODEL_d31efc12e7f04b4590fa1ea95cb370d2",
      "value": " 96%"
     }
    },
    "a7a59a41fdc940c4ac5e82815712c491": {
     "model_module": "@jupyter-widgets/controls",
     "model_module_version": "1.5.0",
     "model_name": "DescriptionStyleModel",
     "state": {
      "_model_module": "@jupyter-widgets/controls",
      "_model_module_version": "1.5.0",
      "_model_name": "DescriptionStyleModel",
      "_view_count": null,
      "_view_module": "@jupyter-widgets/base",
      "_view_module_version": "1.2.0",
      "_view_name": "StyleView",
      "description_width": ""
     }
    },
    "a7ea295f7889405a84b2fc415ae19eea": {
     "model_module": "@jupyter-widgets/base",
     "model_module_version": "1.2.0",
     "model_name": "LayoutModel",
     "state": {
      "_model_module": "@jupyter-widgets/base",
      "_model_module_version": "1.2.0",
      "_model_name": "LayoutModel",
      "_view_count": null,
      "_view_module": "@jupyter-widgets/base",
      "_view_module_version": "1.2.0",
      "_view_name": "LayoutView",
      "align_content": null,
      "align_items": null,
      "align_self": null,
      "border": null,
      "bottom": null,
      "display": null,
      "flex": null,
      "flex_flow": null,
      "grid_area": null,
      "grid_auto_columns": null,
      "grid_auto_flow": null,
      "grid_auto_rows": null,
      "grid_column": null,
      "grid_gap": null,
      "grid_row": null,
      "grid_template_areas": null,
      "grid_template_columns": null,
      "grid_template_rows": null,
      "height": null,
      "justify_content": null,
      "justify_items": null,
      "left": null,
      "margin": null,
      "max_height": null,
      "max_width": null,
      "min_height": null,
      "min_width": null,
      "object_fit": null,
      "object_position": null,
      "order": null,
      "overflow": null,
      "overflow_x": null,
      "overflow_y": null,
      "padding": null,
      "right": null,
      "top": null,
      "visibility": "hidden",
      "width": null
     }
    },
    "a8736d2fae1b4343a39426aebf322380": {
     "model_module": "@jupyter-widgets/controls",
     "model_module_version": "1.5.0",
     "model_name": "FloatProgressModel",
     "state": {
      "_dom_classes": [],
      "_model_module": "@jupyter-widgets/controls",
      "_model_module_version": "1.5.0",
      "_model_name": "FloatProgressModel",
      "_view_count": null,
      "_view_module": "@jupyter-widgets/controls",
      "_view_module_version": "1.5.0",
      "_view_name": "ProgressView",
      "bar_style": "",
      "description": "",
      "description_tooltip": null,
      "layout": "IPY_MODEL_443f56e135f54bf3b5b486cf524492a3",
      "max": 5699,
      "min": 0,
      "orientation": "horizontal",
      "style": "IPY_MODEL_fc386f422a18455ab9f8c911a4aebe03",
      "value": 5699
     }
    },
    "a991b39e37794ade8745430045f0a56d": {
     "model_module": "@jupyter-widgets/controls",
     "model_module_version": "1.5.0",
     "model_name": "DescriptionStyleModel",
     "state": {
      "_model_module": "@jupyter-widgets/controls",
      "_model_module_version": "1.5.0",
      "_model_name": "DescriptionStyleModel",
      "_view_count": null,
      "_view_module": "@jupyter-widgets/base",
      "_view_module_version": "1.2.0",
      "_view_name": "StyleView",
      "description_width": ""
     }
    },
    "add20b562cad46a3a165476ed4effe98": {
     "model_module": "@jupyter-widgets/controls",
     "model_module_version": "1.5.0",
     "model_name": "DescriptionStyleModel",
     "state": {
      "_model_module": "@jupyter-widgets/controls",
      "_model_module_version": "1.5.0",
      "_model_name": "DescriptionStyleModel",
      "_view_count": null,
      "_view_module": "@jupyter-widgets/base",
      "_view_module_version": "1.2.0",
      "_view_name": "StyleView",
      "description_width": ""
     }
    },
    "b189d0d06dea441b84b5557674d80db1": {
     "model_module": "@jupyter-widgets/base",
     "model_module_version": "1.2.0",
     "model_name": "LayoutModel",
     "state": {
      "_model_module": "@jupyter-widgets/base",
      "_model_module_version": "1.2.0",
      "_model_name": "LayoutModel",
      "_view_count": null,
      "_view_module": "@jupyter-widgets/base",
      "_view_module_version": "1.2.0",
      "_view_name": "LayoutView",
      "align_content": null,
      "align_items": null,
      "align_self": null,
      "border": null,
      "bottom": null,
      "display": null,
      "flex": null,
      "flex_flow": null,
      "grid_area": null,
      "grid_auto_columns": null,
      "grid_auto_flow": null,
      "grid_auto_rows": null,
      "grid_column": null,
      "grid_gap": null,
      "grid_row": null,
      "grid_template_areas": null,
      "grid_template_columns": null,
      "grid_template_rows": null,
      "height": null,
      "justify_content": null,
      "justify_items": null,
      "left": null,
      "margin": null,
      "max_height": null,
      "max_width": null,
      "min_height": null,
      "min_width": null,
      "object_fit": null,
      "object_position": null,
      "order": null,
      "overflow": null,
      "overflow_x": null,
      "overflow_y": null,
      "padding": null,
      "right": null,
      "top": null,
      "visibility": null,
      "width": null
     }
    },
    "b194c544bc2c4a91adbb1322ed82b508": {
     "model_module": "@jupyter-widgets/controls",
     "model_module_version": "1.5.0",
     "model_name": "FloatProgressModel",
     "state": {
      "_dom_classes": [],
      "_model_module": "@jupyter-widgets/controls",
      "_model_module_version": "1.5.0",
      "_model_name": "FloatProgressModel",
      "_view_count": null,
      "_view_module": "@jupyter-widgets/controls",
      "_view_module_version": "1.5.0",
      "_view_name": "ProgressView",
      "bar_style": "",
      "description": "",
      "description_tooltip": null,
      "layout": "IPY_MODEL_41fa98677fac4390bb36fe03da97f309",
      "max": 5699,
      "min": 0,
      "orientation": "horizontal",
      "style": "IPY_MODEL_f51ebd096db64d1daabee9026158e1c3",
      "value": 5699
     }
    },
    "b25a028c97734864a4cff3ecb5e514a3": {
     "model_module": "@jupyter-widgets/controls",
     "model_module_version": "1.5.0",
     "model_name": "FloatProgressModel",
     "state": {
      "_dom_classes": [],
      "_model_module": "@jupyter-widgets/controls",
      "_model_module_version": "1.5.0",
      "_model_name": "FloatProgressModel",
      "_view_count": null,
      "_view_module": "@jupyter-widgets/controls",
      "_view_module_version": "1.5.0",
      "_view_name": "ProgressView",
      "bar_style": "",
      "description": "",
      "description_tooltip": null,
      "layout": "IPY_MODEL_088a3f07386844a998faf0927248d9ce",
      "max": 5699,
      "min": 0,
      "orientation": "horizontal",
      "style": "IPY_MODEL_41320a7d83cc40c68289d052fe4bbbd4",
      "value": 5499
     }
    },
    "b2648315fa7a42d08405d0b290b72884": {
     "model_module": "@jupyter-widgets/controls",
     "model_module_version": "1.5.0",
     "model_name": "DescriptionStyleModel",
     "state": {
      "_model_module": "@jupyter-widgets/controls",
      "_model_module_version": "1.5.0",
      "_model_name": "DescriptionStyleModel",
      "_view_count": null,
      "_view_module": "@jupyter-widgets/base",
      "_view_module_version": "1.2.0",
      "_view_name": "StyleView",
      "description_width": ""
     }
    },
    "b320fff8c692460fb9753767efc4ed3b": {
     "model_module": "@jupyter-widgets/controls",
     "model_module_version": "1.5.0",
     "model_name": "DescriptionStyleModel",
     "state": {
      "_model_module": "@jupyter-widgets/controls",
      "_model_module_version": "1.5.0",
      "_model_name": "DescriptionStyleModel",
      "_view_count": null,
      "_view_module": "@jupyter-widgets/base",
      "_view_module_version": "1.2.0",
      "_view_name": "StyleView",
      "description_width": ""
     }
    },
    "b32a0e74359e4513925e2e5c36c4a1cc": {
     "model_module": "@jupyter-widgets/controls",
     "model_module_version": "1.5.0",
     "model_name": "FloatProgressModel",
     "state": {
      "_dom_classes": [],
      "_model_module": "@jupyter-widgets/controls",
      "_model_module_version": "1.5.0",
      "_model_name": "FloatProgressModel",
      "_view_count": null,
      "_view_module": "@jupyter-widgets/controls",
      "_view_module_version": "1.5.0",
      "_view_name": "ProgressView",
      "bar_style": "danger",
      "description": "",
      "description_tooltip": null,
      "layout": "IPY_MODEL_9266b2f19b3440b3a8ec89f892445cf6",
      "max": 100,
      "min": 0,
      "orientation": "horizontal",
      "style": "IPY_MODEL_83a28a06c06546b89e59667b1e8878ac",
      "value": 9
     }
    },
    "b60bd20268c24a92a1996864f770295c": {
     "model_module": "@jupyter-widgets/base",
     "model_module_version": "1.2.0",
     "model_name": "LayoutModel",
     "state": {
      "_model_module": "@jupyter-widgets/base",
      "_model_module_version": "1.2.0",
      "_model_name": "LayoutModel",
      "_view_count": null,
      "_view_module": "@jupyter-widgets/base",
      "_view_module_version": "1.2.0",
      "_view_name": "LayoutView",
      "align_content": null,
      "align_items": null,
      "align_self": null,
      "border": null,
      "bottom": null,
      "display": null,
      "flex": null,
      "flex_flow": null,
      "grid_area": null,
      "grid_auto_columns": null,
      "grid_auto_flow": null,
      "grid_auto_rows": null,
      "grid_column": null,
      "grid_gap": null,
      "grid_row": null,
      "grid_template_areas": null,
      "grid_template_columns": null,
      "grid_template_rows": null,
      "height": null,
      "justify_content": null,
      "justify_items": null,
      "left": null,
      "margin": null,
      "max_height": null,
      "max_width": null,
      "min_height": null,
      "min_width": null,
      "object_fit": null,
      "object_position": null,
      "order": null,
      "overflow": null,
      "overflow_x": null,
      "overflow_y": null,
      "padding": null,
      "right": null,
      "top": null,
      "visibility": null,
      "width": null
     }
    },
    "ba9efedb05b443c5a192a0861afb791a": {
     "model_module": "@jupyter-widgets/base",
     "model_module_version": "1.2.0",
     "model_name": "LayoutModel",
     "state": {
      "_model_module": "@jupyter-widgets/base",
      "_model_module_version": "1.2.0",
      "_model_name": "LayoutModel",
      "_view_count": null,
      "_view_module": "@jupyter-widgets/base",
      "_view_module_version": "1.2.0",
      "_view_name": "LayoutView",
      "align_content": null,
      "align_items": null,
      "align_self": null,
      "border": null,
      "bottom": null,
      "display": null,
      "flex": null,
      "flex_flow": null,
      "grid_area": null,
      "grid_auto_columns": null,
      "grid_auto_flow": null,
      "grid_auto_rows": null,
      "grid_column": null,
      "grid_gap": null,
      "grid_row": null,
      "grid_template_areas": null,
      "grid_template_columns": null,
      "grid_template_rows": null,
      "height": null,
      "justify_content": null,
      "justify_items": null,
      "left": null,
      "margin": null,
      "max_height": null,
      "max_width": null,
      "min_height": null,
      "min_width": null,
      "object_fit": null,
      "object_position": null,
      "order": null,
      "overflow": null,
      "overflow_x": null,
      "overflow_y": null,
      "padding": null,
      "right": null,
      "top": null,
      "visibility": null,
      "width": null
     }
    },
    "bb8f5821c345423394786317c5aba95b": {
     "model_module": "@jupyter-widgets/controls",
     "model_module_version": "1.5.0",
     "model_name": "ProgressStyleModel",
     "state": {
      "_model_module": "@jupyter-widgets/controls",
      "_model_module_version": "1.5.0",
      "_model_name": "ProgressStyleModel",
      "_view_count": null,
      "_view_module": "@jupyter-widgets/base",
      "_view_module_version": "1.2.0",
      "_view_name": "StyleView",
      "bar_color": null,
      "description_width": ""
     }
    },
    "bcec0221f9ad472a91d7833df3e09470": {
     "model_module": "@jupyter-widgets/base",
     "model_module_version": "1.2.0",
     "model_name": "LayoutModel",
     "state": {
      "_model_module": "@jupyter-widgets/base",
      "_model_module_version": "1.2.0",
      "_model_name": "LayoutModel",
      "_view_count": null,
      "_view_module": "@jupyter-widgets/base",
      "_view_module_version": "1.2.0",
      "_view_name": "LayoutView",
      "align_content": null,
      "align_items": null,
      "align_self": null,
      "border": null,
      "bottom": null,
      "display": null,
      "flex": null,
      "flex_flow": null,
      "grid_area": null,
      "grid_auto_columns": null,
      "grid_auto_flow": null,
      "grid_auto_rows": null,
      "grid_column": null,
      "grid_gap": null,
      "grid_row": null,
      "grid_template_areas": null,
      "grid_template_columns": null,
      "grid_template_rows": null,
      "height": null,
      "justify_content": null,
      "justify_items": null,
      "left": null,
      "margin": null,
      "max_height": null,
      "max_width": null,
      "min_height": null,
      "min_width": null,
      "object_fit": null,
      "object_position": null,
      "order": null,
      "overflow": null,
      "overflow_x": null,
      "overflow_y": null,
      "padding": null,
      "right": null,
      "top": null,
      "visibility": null,
      "width": null
     }
    },
    "bec1685afb784b3ab7c6ac7df0276ad6": {
     "model_module": "@jupyter-widgets/controls",
     "model_module_version": "1.5.0",
     "model_name": "HTMLModel",
     "state": {
      "_dom_classes": [],
      "_model_module": "@jupyter-widgets/controls",
      "_model_module_version": "1.5.0",
      "_model_name": "HTMLModel",
      "_view_count": null,
      "_view_module": "@jupyter-widgets/controls",
      "_view_module_version": "1.5.0",
      "_view_name": "HTMLView",
      "description": "",
      "description_tooltip": null,
      "layout": "IPY_MODEL_72c8c9cc92fb4f5ab6ca851272496879",
      "placeholder": "​",
      "style": "IPY_MODEL_3f0510fb47864e7c84c06cefea2aebc5",
      "value": "100%"
     }
    },
    "bff925786c234240917eaeb48545af7e": {
     "model_module": "@jupyter-widgets/controls",
     "model_module_version": "1.5.0",
     "model_name": "ProgressStyleModel",
     "state": {
      "_model_module": "@jupyter-widgets/controls",
      "_model_module_version": "1.5.0",
      "_model_name": "ProgressStyleModel",
      "_view_count": null,
      "_view_module": "@jupyter-widgets/base",
      "_view_module_version": "1.2.0",
      "_view_name": "StyleView",
      "bar_color": null,
      "description_width": ""
     }
    },
    "c09f64224c8c497eb319105d6a6823eb": {
     "model_module": "@jupyter-widgets/controls",
     "model_module_version": "1.5.0",
     "model_name": "HTMLModel",
     "state": {
      "_dom_classes": [],
      "_model_module": "@jupyter-widgets/controls",
      "_model_module_version": "1.5.0",
      "_model_name": "HTMLModel",
      "_view_count": null,
      "_view_module": "@jupyter-widgets/controls",
      "_view_module_version": "1.5.0",
      "_view_name": "HTMLView",
      "description": "",
      "description_tooltip": null,
      "layout": "IPY_MODEL_ea8c875afc2e4a29b1f8d38c64bd3899",
      "placeholder": "​",
      "style": "IPY_MODEL_a7a59a41fdc940c4ac5e82815712c491",
      "value": "100%"
     }
    },
    "c43fd1c6873b437a9ab713707bfe94a1": {
     "model_module": "@jupyter-widgets/base",
     "model_module_version": "1.2.0",
     "model_name": "LayoutModel",
     "state": {
      "_model_module": "@jupyter-widgets/base",
      "_model_module_version": "1.2.0",
      "_model_name": "LayoutModel",
      "_view_count": null,
      "_view_module": "@jupyter-widgets/base",
      "_view_module_version": "1.2.0",
      "_view_name": "LayoutView",
      "align_content": null,
      "align_items": null,
      "align_self": null,
      "border": null,
      "bottom": null,
      "display": null,
      "flex": null,
      "flex_flow": null,
      "grid_area": null,
      "grid_auto_columns": null,
      "grid_auto_flow": null,
      "grid_auto_rows": null,
      "grid_column": null,
      "grid_gap": null,
      "grid_row": null,
      "grid_template_areas": null,
      "grid_template_columns": null,
      "grid_template_rows": null,
      "height": null,
      "justify_content": null,
      "justify_items": null,
      "left": null,
      "margin": null,
      "max_height": null,
      "max_width": null,
      "min_height": null,
      "min_width": null,
      "object_fit": null,
      "object_position": null,
      "order": null,
      "overflow": null,
      "overflow_x": null,
      "overflow_y": null,
      "padding": null,
      "right": null,
      "top": null,
      "visibility": null,
      "width": null
     }
    },
    "c5733a944b6743329135ede6311f37fe": {
     "model_module": "@jupyter-widgets/controls",
     "model_module_version": "1.5.0",
     "model_name": "HTMLModel",
     "state": {
      "_dom_classes": [],
      "_model_module": "@jupyter-widgets/controls",
      "_model_module_version": "1.5.0",
      "_model_name": "HTMLModel",
      "_view_count": null,
      "_view_module": "@jupyter-widgets/controls",
      "_view_module_version": "1.5.0",
      "_view_name": "HTMLView",
      "description": "",
      "description_tooltip": null,
      "layout": "IPY_MODEL_2eae7af074d54b88909475e42c5a665a",
      "placeholder": "​",
      "style": "IPY_MODEL_add20b562cad46a3a165476ed4effe98",
      "value": " 5697/5699 [01:50&lt;00:00, 55.96it/s]"
     }
    },
    "c676333758aa4290a00b19b4ebc876a5": {
     "model_module": "@jupyter-widgets/base",
     "model_module_version": "1.2.0",
     "model_name": "LayoutModel",
     "state": {
      "_model_module": "@jupyter-widgets/base",
      "_model_module_version": "1.2.0",
      "_model_name": "LayoutModel",
      "_view_count": null,
      "_view_module": "@jupyter-widgets/base",
      "_view_module_version": "1.2.0",
      "_view_name": "LayoutView",
      "align_content": null,
      "align_items": null,
      "align_self": null,
      "border": null,
      "bottom": null,
      "display": null,
      "flex": null,
      "flex_flow": null,
      "grid_area": null,
      "grid_auto_columns": null,
      "grid_auto_flow": null,
      "grid_auto_rows": null,
      "grid_column": null,
      "grid_gap": null,
      "grid_row": null,
      "grid_template_areas": null,
      "grid_template_columns": null,
      "grid_template_rows": null,
      "height": null,
      "justify_content": null,
      "justify_items": null,
      "left": null,
      "margin": null,
      "max_height": null,
      "max_width": null,
      "min_height": null,
      "min_width": null,
      "object_fit": null,
      "object_position": null,
      "order": null,
      "overflow": null,
      "overflow_x": null,
      "overflow_y": null,
      "padding": null,
      "right": null,
      "top": null,
      "visibility": "hidden",
      "width": null
     }
    },
    "c7fb76c5686b4cf787aaf2eaed43a201": {
     "model_module": "@jupyter-widgets/base",
     "model_module_version": "1.2.0",
     "model_name": "LayoutModel",
     "state": {
      "_model_module": "@jupyter-widgets/base",
      "_model_module_version": "1.2.0",
      "_model_name": "LayoutModel",
      "_view_count": null,
      "_view_module": "@jupyter-widgets/base",
      "_view_module_version": "1.2.0",
      "_view_name": "LayoutView",
      "align_content": null,
      "align_items": null,
      "align_self": null,
      "border": null,
      "bottom": null,
      "display": null,
      "flex": null,
      "flex_flow": null,
      "grid_area": null,
      "grid_auto_columns": null,
      "grid_auto_flow": null,
      "grid_auto_rows": null,
      "grid_column": null,
      "grid_gap": null,
      "grid_row": null,
      "grid_template_areas": null,
      "grid_template_columns": null,
      "grid_template_rows": null,
      "height": null,
      "justify_content": null,
      "justify_items": null,
      "left": null,
      "margin": null,
      "max_height": null,
      "max_width": null,
      "min_height": null,
      "min_width": null,
      "object_fit": null,
      "object_position": null,
      "order": null,
      "overflow": null,
      "overflow_x": null,
      "overflow_y": null,
      "padding": null,
      "right": null,
      "top": null,
      "visibility": null,
      "width": null
     }
    },
    "c83f6904aece4c0a9ff38f5ad8d1604c": {
     "model_module": "@jupyter-widgets/base",
     "model_module_version": "1.2.0",
     "model_name": "LayoutModel",
     "state": {
      "_model_module": "@jupyter-widgets/base",
      "_model_module_version": "1.2.0",
      "_model_name": "LayoutModel",
      "_view_count": null,
      "_view_module": "@jupyter-widgets/base",
      "_view_module_version": "1.2.0",
      "_view_name": "LayoutView",
      "align_content": null,
      "align_items": null,
      "align_self": null,
      "border": null,
      "bottom": null,
      "display": null,
      "flex": null,
      "flex_flow": null,
      "grid_area": null,
      "grid_auto_columns": null,
      "grid_auto_flow": null,
      "grid_auto_rows": null,
      "grid_column": null,
      "grid_gap": null,
      "grid_row": null,
      "grid_template_areas": null,
      "grid_template_columns": null,
      "grid_template_rows": null,
      "height": null,
      "justify_content": null,
      "justify_items": null,
      "left": null,
      "margin": null,
      "max_height": null,
      "max_width": null,
      "min_height": null,
      "min_width": null,
      "object_fit": null,
      "object_position": null,
      "order": null,
      "overflow": null,
      "overflow_x": null,
      "overflow_y": null,
      "padding": null,
      "right": null,
      "top": null,
      "visibility": null,
      "width": null
     }
    },
    "c88dcf618acc47d5a6f3933482077e66": {
     "model_module": "@jupyter-widgets/base",
     "model_module_version": "1.2.0",
     "model_name": "LayoutModel",
     "state": {
      "_model_module": "@jupyter-widgets/base",
      "_model_module_version": "1.2.0",
      "_model_name": "LayoutModel",
      "_view_count": null,
      "_view_module": "@jupyter-widgets/base",
      "_view_module_version": "1.2.0",
      "_view_name": "LayoutView",
      "align_content": null,
      "align_items": null,
      "align_self": null,
      "border": null,
      "bottom": null,
      "display": null,
      "flex": null,
      "flex_flow": null,
      "grid_area": null,
      "grid_auto_columns": null,
      "grid_auto_flow": null,
      "grid_auto_rows": null,
      "grid_column": null,
      "grid_gap": null,
      "grid_row": null,
      "grid_template_areas": null,
      "grid_template_columns": null,
      "grid_template_rows": null,
      "height": null,
      "justify_content": null,
      "justify_items": null,
      "left": null,
      "margin": null,
      "max_height": null,
      "max_width": null,
      "min_height": null,
      "min_width": null,
      "object_fit": null,
      "object_position": null,
      "order": null,
      "overflow": null,
      "overflow_x": null,
      "overflow_y": null,
      "padding": null,
      "right": null,
      "top": null,
      "visibility": null,
      "width": null
     }
    },
    "cc732ae47ea24e47957477ceba24269e": {
     "model_module": "@jupyter-widgets/controls",
     "model_module_version": "1.5.0",
     "model_name": "ProgressStyleModel",
     "state": {
      "_model_module": "@jupyter-widgets/controls",
      "_model_module_version": "1.5.0",
      "_model_name": "ProgressStyleModel",
      "_view_count": null,
      "_view_module": "@jupyter-widgets/base",
      "_view_module_version": "1.2.0",
      "_view_name": "StyleView",
      "bar_color": null,
      "description_width": ""
     }
    },
    "ce308478a2494a058ebbb5d5701fcb3f": {
     "model_module": "@jupyter-widgets/controls",
     "model_module_version": "1.5.0",
     "model_name": "DescriptionStyleModel",
     "state": {
      "_model_module": "@jupyter-widgets/controls",
      "_model_module_version": "1.5.0",
      "_model_name": "DescriptionStyleModel",
      "_view_count": null,
      "_view_module": "@jupyter-widgets/base",
      "_view_module_version": "1.2.0",
      "_view_name": "StyleView",
      "description_width": ""
     }
    },
    "d00b640eeefe4708ab3ed8533eb8e989": {
     "model_module": "@jupyter-widgets/controls",
     "model_module_version": "1.5.0",
     "model_name": "DescriptionStyleModel",
     "state": {
      "_model_module": "@jupyter-widgets/controls",
      "_model_module_version": "1.5.0",
      "_model_name": "DescriptionStyleModel",
      "_view_count": null,
      "_view_module": "@jupyter-widgets/base",
      "_view_module_version": "1.2.0",
      "_view_name": "StyleView",
      "description_width": ""
     }
    },
    "d0ebf734996247409ce3d9c06751dbea": {
     "model_module": "@jupyter-widgets/controls",
     "model_module_version": "1.5.0",
     "model_name": "DescriptionStyleModel",
     "state": {
      "_model_module": "@jupyter-widgets/controls",
      "_model_module_version": "1.5.0",
      "_model_name": "DescriptionStyleModel",
      "_view_count": null,
      "_view_module": "@jupyter-widgets/base",
      "_view_module_version": "1.2.0",
      "_view_name": "StyleView",
      "description_width": ""
     }
    },
    "d31efc12e7f04b4590fa1ea95cb370d2": {
     "model_module": "@jupyter-widgets/controls",
     "model_module_version": "1.5.0",
     "model_name": "DescriptionStyleModel",
     "state": {
      "_model_module": "@jupyter-widgets/controls",
      "_model_module_version": "1.5.0",
      "_model_name": "DescriptionStyleModel",
      "_view_count": null,
      "_view_module": "@jupyter-widgets/base",
      "_view_module_version": "1.2.0",
      "_view_name": "StyleView",
      "description_width": ""
     }
    },
    "d46e0307d5f54b86adf6365a3ea63ba4": {
     "model_module": "@jupyter-widgets/base",
     "model_module_version": "1.2.0",
     "model_name": "LayoutModel",
     "state": {
      "_model_module": "@jupyter-widgets/base",
      "_model_module_version": "1.2.0",
      "_model_name": "LayoutModel",
      "_view_count": null,
      "_view_module": "@jupyter-widgets/base",
      "_view_module_version": "1.2.0",
      "_view_name": "LayoutView",
      "align_content": null,
      "align_items": null,
      "align_self": null,
      "border": null,
      "bottom": null,
      "display": null,
      "flex": null,
      "flex_flow": null,
      "grid_area": null,
      "grid_auto_columns": null,
      "grid_auto_flow": null,
      "grid_auto_rows": null,
      "grid_column": null,
      "grid_gap": null,
      "grid_row": null,
      "grid_template_areas": null,
      "grid_template_columns": null,
      "grid_template_rows": null,
      "height": null,
      "justify_content": null,
      "justify_items": null,
      "left": null,
      "margin": null,
      "max_height": null,
      "max_width": null,
      "min_height": null,
      "min_width": null,
      "object_fit": null,
      "object_position": null,
      "order": null,
      "overflow": null,
      "overflow_x": null,
      "overflow_y": null,
      "padding": null,
      "right": null,
      "top": null,
      "visibility": null,
      "width": null
     }
    },
    "d4e24170d87c40b98ca10e54928e52df": {
     "model_module": "@jupyter-widgets/controls",
     "model_module_version": "1.5.0",
     "model_name": "DescriptionStyleModel",
     "state": {
      "_model_module": "@jupyter-widgets/controls",
      "_model_module_version": "1.5.0",
      "_model_name": "DescriptionStyleModel",
      "_view_count": null,
      "_view_module": "@jupyter-widgets/base",
      "_view_module_version": "1.2.0",
      "_view_name": "StyleView",
      "description_width": ""
     }
    },
    "d539fdbbe5be497d9e094beff0f8592a": {
     "model_module": "@jupyter-widgets/controls",
     "model_module_version": "1.5.0",
     "model_name": "FloatProgressModel",
     "state": {
      "_dom_classes": [],
      "_model_module": "@jupyter-widgets/controls",
      "_model_module_version": "1.5.0",
      "_model_name": "FloatProgressModel",
      "_view_count": null,
      "_view_module": "@jupyter-widgets/controls",
      "_view_module_version": "1.5.0",
      "_view_name": "ProgressView",
      "bar_style": "",
      "description": "",
      "description_tooltip": null,
      "layout": "IPY_MODEL_ba9efedb05b443c5a192a0861afb791a",
      "max": 5699,
      "min": 0,
      "orientation": "horizontal",
      "style": "IPY_MODEL_bb8f5821c345423394786317c5aba95b",
      "value": 5699
     }
    },
    "d598c6059f3f4dbe88f3c3cd67a75bbf": {
     "model_module": "@jupyter-widgets/base",
     "model_module_version": "1.2.0",
     "model_name": "LayoutModel",
     "state": {
      "_model_module": "@jupyter-widgets/base",
      "_model_module_version": "1.2.0",
      "_model_name": "LayoutModel",
      "_view_count": null,
      "_view_module": "@jupyter-widgets/base",
      "_view_module_version": "1.2.0",
      "_view_name": "LayoutView",
      "align_content": null,
      "align_items": null,
      "align_self": null,
      "border": null,
      "bottom": null,
      "display": null,
      "flex": null,
      "flex_flow": null,
      "grid_area": null,
      "grid_auto_columns": null,
      "grid_auto_flow": null,
      "grid_auto_rows": null,
      "grid_column": null,
      "grid_gap": null,
      "grid_row": null,
      "grid_template_areas": null,
      "grid_template_columns": null,
      "grid_template_rows": null,
      "height": null,
      "justify_content": null,
      "justify_items": null,
      "left": null,
      "margin": null,
      "max_height": null,
      "max_width": null,
      "min_height": null,
      "min_width": null,
      "object_fit": null,
      "object_position": null,
      "order": null,
      "overflow": null,
      "overflow_x": null,
      "overflow_y": null,
      "padding": null,
      "right": null,
      "top": null,
      "visibility": "hidden",
      "width": null
     }
    },
    "dc9ae8610a5a420f80b4ce50176efbcc": {
     "model_module": "@jupyter-widgets/controls",
     "model_module_version": "1.5.0",
     "model_name": "DescriptionStyleModel",
     "state": {
      "_model_module": "@jupyter-widgets/controls",
      "_model_module_version": "1.5.0",
      "_model_name": "DescriptionStyleModel",
      "_view_count": null,
      "_view_module": "@jupyter-widgets/base",
      "_view_module_version": "1.2.0",
      "_view_name": "StyleView",
      "description_width": ""
     }
    },
    "df159202a3fb45399e0241c9ce26d4f5": {
     "model_module": "@jupyter-widgets/controls",
     "model_module_version": "1.5.0",
     "model_name": "FloatProgressModel",
     "state": {
      "_dom_classes": [],
      "_model_module": "@jupyter-widgets/controls",
      "_model_module_version": "1.5.0",
      "_model_name": "FloatProgressModel",
      "_view_count": null,
      "_view_module": "@jupyter-widgets/controls",
      "_view_module_version": "1.5.0",
      "_view_name": "ProgressView",
      "bar_style": "",
      "description": "",
      "description_tooltip": null,
      "layout": "IPY_MODEL_bcec0221f9ad472a91d7833df3e09470",
      "max": 5699,
      "min": 0,
      "orientation": "horizontal",
      "style": "IPY_MODEL_662256219a4047e782b4fc4a65b1b3dc",
      "value": 5699
     }
    },
    "e16066f8a6734ba0b5a43d87b54b66fb": {
     "model_module": "@jupyter-widgets/controls",
     "model_module_version": "1.5.0",
     "model_name": "FloatProgressModel",
     "state": {
      "_dom_classes": [],
      "_model_module": "@jupyter-widgets/controls",
      "_model_module_version": "1.5.0",
      "_model_name": "FloatProgressModel",
      "_view_count": null,
      "_view_module": "@jupyter-widgets/controls",
      "_view_module_version": "1.5.0",
      "_view_name": "ProgressView",
      "bar_style": "",
      "description": "",
      "description_tooltip": null,
      "layout": "IPY_MODEL_7a92f3f5d8de49d695c08724e225afde",
      "max": 5699,
      "min": 0,
      "orientation": "horizontal",
      "style": "IPY_MODEL_9a02d50f414a472d873f1fb5d9237954",
      "value": 5699
     }
    },
    "e45add6cc10440d1886f843f4d56eac6": {
     "model_module": "@jupyter-widgets/base",
     "model_module_version": "1.2.0",
     "model_name": "LayoutModel",
     "state": {
      "_model_module": "@jupyter-widgets/base",
      "_model_module_version": "1.2.0",
      "_model_name": "LayoutModel",
      "_view_count": null,
      "_view_module": "@jupyter-widgets/base",
      "_view_module_version": "1.2.0",
      "_view_name": "LayoutView",
      "align_content": null,
      "align_items": null,
      "align_self": null,
      "border": null,
      "bottom": null,
      "display": null,
      "flex": null,
      "flex_flow": null,
      "grid_area": null,
      "grid_auto_columns": null,
      "grid_auto_flow": null,
      "grid_auto_rows": null,
      "grid_column": null,
      "grid_gap": null,
      "grid_row": null,
      "grid_template_areas": null,
      "grid_template_columns": null,
      "grid_template_rows": null,
      "height": null,
      "justify_content": null,
      "justify_items": null,
      "left": null,
      "margin": null,
      "max_height": null,
      "max_width": null,
      "min_height": null,
      "min_width": null,
      "object_fit": null,
      "object_position": null,
      "order": null,
      "overflow": null,
      "overflow_x": null,
      "overflow_y": null,
      "padding": null,
      "right": null,
      "top": null,
      "visibility": null,
      "width": null
     }
    },
    "e4e40292329246b5954c3fdb1d63fe86": {
     "model_module": "@jupyter-widgets/controls",
     "model_module_version": "1.5.0",
     "model_name": "HTMLModel",
     "state": {
      "_dom_classes": [],
      "_model_module": "@jupyter-widgets/controls",
      "_model_module_version": "1.5.0",
      "_model_name": "HTMLModel",
      "_view_count": null,
      "_view_module": "@jupyter-widgets/controls",
      "_view_module_version": "1.5.0",
      "_view_name": "HTMLView",
      "description": "",
      "description_tooltip": null,
      "layout": "IPY_MODEL_124276e2e5a6464db238a7757c535904",
      "placeholder": "​",
      "style": "IPY_MODEL_3e224a21a0954c459a8f7e51a0886ad0",
      "value": " 5697/5699 [01:45&lt;00:00, 62.54it/s]"
     }
    },
    "e64f32552bcd43769a6cf1a56d53445c": {
     "model_module": "@jupyter-widgets/controls",
     "model_module_version": "1.5.0",
     "model_name": "HBoxModel",
     "state": {
      "_dom_classes": [],
      "_model_module": "@jupyter-widgets/controls",
      "_model_module_version": "1.5.0",
      "_model_name": "HBoxModel",
      "_view_count": null,
      "_view_module": "@jupyter-widgets/controls",
      "_view_module_version": "1.5.0",
      "_view_name": "HBoxView",
      "box_style": "",
      "children": [
       "IPY_MODEL_3ee0503b6c834ab383379b22731e8100",
       "IPY_MODEL_9c2abaacfac94dcf8fcdcd850854d4d4",
       "IPY_MODEL_301a42eff7934b95bf88af75445ef012"
      ],
      "layout": "IPY_MODEL_12bbd50d4ca249fea3f09cf6fe6e84c8"
     }
    },
    "e682f15653764663b3b2e79785f1033b": {
     "model_module": "@jupyter-widgets/base",
     "model_module_version": "1.2.0",
     "model_name": "LayoutModel",
     "state": {
      "_model_module": "@jupyter-widgets/base",
      "_model_module_version": "1.2.0",
      "_model_name": "LayoutModel",
      "_view_count": null,
      "_view_module": "@jupyter-widgets/base",
      "_view_module_version": "1.2.0",
      "_view_name": "LayoutView",
      "align_content": null,
      "align_items": null,
      "align_self": null,
      "border": null,
      "bottom": null,
      "display": null,
      "flex": null,
      "flex_flow": null,
      "grid_area": null,
      "grid_auto_columns": null,
      "grid_auto_flow": null,
      "grid_auto_rows": null,
      "grid_column": null,
      "grid_gap": null,
      "grid_row": null,
      "grid_template_areas": null,
      "grid_template_columns": null,
      "grid_template_rows": null,
      "height": null,
      "justify_content": null,
      "justify_items": null,
      "left": null,
      "margin": null,
      "max_height": null,
      "max_width": null,
      "min_height": null,
      "min_width": null,
      "object_fit": null,
      "object_position": null,
      "order": null,
      "overflow": null,
      "overflow_x": null,
      "overflow_y": null,
      "padding": null,
      "right": null,
      "top": null,
      "visibility": "hidden",
      "width": null
     }
    },
    "ea8c875afc2e4a29b1f8d38c64bd3899": {
     "model_module": "@jupyter-widgets/base",
     "model_module_version": "1.2.0",
     "model_name": "LayoutModel",
     "state": {
      "_model_module": "@jupyter-widgets/base",
      "_model_module_version": "1.2.0",
      "_model_name": "LayoutModel",
      "_view_count": null,
      "_view_module": "@jupyter-widgets/base",
      "_view_module_version": "1.2.0",
      "_view_name": "LayoutView",
      "align_content": null,
      "align_items": null,
      "align_self": null,
      "border": null,
      "bottom": null,
      "display": null,
      "flex": null,
      "flex_flow": null,
      "grid_area": null,
      "grid_auto_columns": null,
      "grid_auto_flow": null,
      "grid_auto_rows": null,
      "grid_column": null,
      "grid_gap": null,
      "grid_row": null,
      "grid_template_areas": null,
      "grid_template_columns": null,
      "grid_template_rows": null,
      "height": null,
      "justify_content": null,
      "justify_items": null,
      "left": null,
      "margin": null,
      "max_height": null,
      "max_width": null,
      "min_height": null,
      "min_width": null,
      "object_fit": null,
      "object_position": null,
      "order": null,
      "overflow": null,
      "overflow_x": null,
      "overflow_y": null,
      "padding": null,
      "right": null,
      "top": null,
      "visibility": null,
      "width": null
     }
    },
    "ed7e5477f34044999db5134ddf705265": {
     "model_module": "@jupyter-widgets/controls",
     "model_module_version": "1.5.0",
     "model_name": "HTMLModel",
     "state": {
      "_dom_classes": [],
      "_model_module": "@jupyter-widgets/controls",
      "_model_module_version": "1.5.0",
      "_model_name": "HTMLModel",
      "_view_count": null,
      "_view_module": "@jupyter-widgets/controls",
      "_view_module_version": "1.5.0",
      "_view_name": "HTMLView",
      "description": "",
      "description_tooltip": null,
      "layout": "IPY_MODEL_c83f6904aece4c0a9ff38f5ad8d1604c",
      "placeholder": "​",
      "style": "IPY_MODEL_d4e24170d87c40b98ca10e54928e52df",
      "value": " 5698/5699 [01:44&lt;00:00, 61.61it/s]"
     }
    },
    "f51ebd096db64d1daabee9026158e1c3": {
     "model_module": "@jupyter-widgets/controls",
     "model_module_version": "1.5.0",
     "model_name": "ProgressStyleModel",
     "state": {
      "_model_module": "@jupyter-widgets/controls",
      "_model_module_version": "1.5.0",
      "_model_name": "ProgressStyleModel",
      "_view_count": null,
      "_view_module": "@jupyter-widgets/base",
      "_view_module_version": "1.2.0",
      "_view_name": "StyleView",
      "bar_color": null,
      "description_width": ""
     }
    },
    "f7ceb717fafe4b86a422c73154e88e19": {
     "model_module": "@jupyter-widgets/base",
     "model_module_version": "1.2.0",
     "model_name": "LayoutModel",
     "state": {
      "_model_module": "@jupyter-widgets/base",
      "_model_module_version": "1.2.0",
      "_model_name": "LayoutModel",
      "_view_count": null,
      "_view_module": "@jupyter-widgets/base",
      "_view_module_version": "1.2.0",
      "_view_name": "LayoutView",
      "align_content": null,
      "align_items": null,
      "align_self": null,
      "border": null,
      "bottom": null,
      "display": null,
      "flex": null,
      "flex_flow": null,
      "grid_area": null,
      "grid_auto_columns": null,
      "grid_auto_flow": null,
      "grid_auto_rows": null,
      "grid_column": null,
      "grid_gap": null,
      "grid_row": null,
      "grid_template_areas": null,
      "grid_template_columns": null,
      "grid_template_rows": null,
      "height": null,
      "justify_content": null,
      "justify_items": null,
      "left": null,
      "margin": null,
      "max_height": null,
      "max_width": null,
      "min_height": null,
      "min_width": null,
      "object_fit": null,
      "object_position": null,
      "order": null,
      "overflow": null,
      "overflow_x": null,
      "overflow_y": null,
      "padding": null,
      "right": null,
      "top": null,
      "visibility": null,
      "width": null
     }
    },
    "fc386f422a18455ab9f8c911a4aebe03": {
     "model_module": "@jupyter-widgets/controls",
     "model_module_version": "1.5.0",
     "model_name": "ProgressStyleModel",
     "state": {
      "_model_module": "@jupyter-widgets/controls",
      "_model_module_version": "1.5.0",
      "_model_name": "ProgressStyleModel",
      "_view_count": null,
      "_view_module": "@jupyter-widgets/base",
      "_view_module_version": "1.2.0",
      "_view_name": "StyleView",
      "bar_color": null,
      "description_width": ""
     }
    },
    "fc83d31b2d3d41af98cc52892e3c6a47": {
     "model_module": "@jupyter-widgets/controls",
     "model_module_version": "1.5.0",
     "model_name": "HTMLModel",
     "state": {
      "_dom_classes": [],
      "_model_module": "@jupyter-widgets/controls",
      "_model_module_version": "1.5.0",
      "_model_name": "HTMLModel",
      "_view_count": null,
      "_view_module": "@jupyter-widgets/controls",
      "_view_module_version": "1.5.0",
      "_view_name": "HTMLView",
      "description": "",
      "description_tooltip": null,
      "layout": "IPY_MODEL_b189d0d06dea441b84b5557674d80db1",
      "placeholder": "​",
      "style": "IPY_MODEL_65dc54691aab40cfa3c7c72139121f99",
      "value": "  9%"
     }
    },
    "fcb06018729645639117f9485555a55c": {
     "model_module": "@jupyter-widgets/controls",
     "model_module_version": "1.5.0",
     "model_name": "FloatProgressModel",
     "state": {
      "_dom_classes": [],
      "_model_module": "@jupyter-widgets/controls",
      "_model_module_version": "1.5.0",
      "_model_name": "FloatProgressModel",
      "_view_count": null,
      "_view_module": "@jupyter-widgets/controls",
      "_view_module_version": "1.5.0",
      "_view_name": "ProgressView",
      "bar_style": "",
      "description": "",
      "description_tooltip": null,
      "layout": "IPY_MODEL_0ad784116ce14593bb45b94d867c54a4",
      "max": 5699,
      "min": 0,
      "orientation": "horizontal",
      "style": "IPY_MODEL_bff925786c234240917eaeb48545af7e",
      "value": 5699
     }
    },
    "ff1bb3c1735446a182c7b1394d9142f1": {
     "model_module": "@jupyter-widgets/controls",
     "model_module_version": "1.5.0",
     "model_name": "HBoxModel",
     "state": {
      "_dom_classes": [],
      "_model_module": "@jupyter-widgets/controls",
      "_model_module_version": "1.5.0",
      "_model_name": "HBoxModel",
      "_view_count": null,
      "_view_module": "@jupyter-widgets/controls",
      "_view_module_version": "1.5.0",
      "_view_name": "HBoxView",
      "box_style": "",
      "children": [
       "IPY_MODEL_18273679ec404c2883860b302b300380",
       "IPY_MODEL_df159202a3fb45399e0241c9ce26d4f5",
       "IPY_MODEL_88cfbce9546d4a98aec7d8fc1e630288"
      ],
      "layout": "IPY_MODEL_6c6024c923de47c1a7dad753f2028176"
     }
    }
   }
  }
 },
 "nbformat": 4,
 "nbformat_minor": 4
}
