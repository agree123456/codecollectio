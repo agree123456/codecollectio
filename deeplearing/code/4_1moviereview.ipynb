{
 "cells": [
  {
   "cell_type": "code",
   "execution_count": 3,
   "metadata": {},
   "outputs": [
    {
     "name": "stdout",
     "output_type": "stream",
     "text": [
      "WARNING:tensorflow:From c:\\ProgramData\\anaconda3\\envs\\ml-dev\\lib\\site-packages\\keras\\src\\losses.py:2976: The name tf.losses.sparse_softmax_cross_entropy is deprecated. Please use tf.compat.v1.losses.sparse_softmax_cross_entropy instead.\n",
      "\n"
     ]
    }
   ],
   "source": [
    "from tensorflow.keras.datasets import imdb \n",
    "from tensorflow.keras import layers\n",
    "from tensorflow import keras\n",
    "import numpy as np \n",
    "import pandas as pd \n",
    "import matplotlib.pyplot  as plt"
   ]
  },
  {
   "cell_type": "code",
   "execution_count": 4,
   "metadata": {},
   "outputs": [],
   "source": [
    "# num_word = 10000 단어사전에서 10000개 단어만 가져오겟다.\n",
    "(train_data , train_labels),  (test_data , test_labels) = imdb.load_data(num_words=10000)\n"
   ]
  },
  {
   "cell_type": "code",
   "execution_count": 5,
   "metadata": {},
   "outputs": [
    {
     "data": {
      "text/plain": [
       "[1,\n",
       " 14,\n",
       " 22,\n",
       " 16,\n",
       " 43,\n",
       " 530,\n",
       " 973,\n",
       " 1622,\n",
       " 1385,\n",
       " 65,\n",
       " 458,\n",
       " 4468,\n",
       " 66,\n",
       " 3941,\n",
       " 4,\n",
       " 173,\n",
       " 36,\n",
       " 256,\n",
       " 5,\n",
       " 25,\n",
       " 100,\n",
       " 43,\n",
       " 838,\n",
       " 112,\n",
       " 50,\n",
       " 670,\n",
       " 2,\n",
       " 9,\n",
       " 35,\n",
       " 480,\n",
       " 284,\n",
       " 5,\n",
       " 150,\n",
       " 4,\n",
       " 172,\n",
       " 112,\n",
       " 167,\n",
       " 2,\n",
       " 336,\n",
       " 385,\n",
       " 39,\n",
       " 4,\n",
       " 172,\n",
       " 4536,\n",
       " 1111,\n",
       " 17,\n",
       " 546,\n",
       " 38,\n",
       " 13,\n",
       " 447,\n",
       " 4,\n",
       " 192,\n",
       " 50,\n",
       " 16,\n",
       " 6,\n",
       " 147,\n",
       " 2025,\n",
       " 19,\n",
       " 14,\n",
       " 22,\n",
       " 4,\n",
       " 1920,\n",
       " 4613,\n",
       " 469,\n",
       " 4,\n",
       " 22,\n",
       " 71,\n",
       " 87,\n",
       " 12,\n",
       " 16,\n",
       " 43,\n",
       " 530,\n",
       " 38,\n",
       " 76,\n",
       " 15,\n",
       " 13,\n",
       " 1247,\n",
       " 4,\n",
       " 22,\n",
       " 17,\n",
       " 515,\n",
       " 17,\n",
       " 12,\n",
       " 16,\n",
       " 626,\n",
       " 18,\n",
       " 2,\n",
       " 5,\n",
       " 62,\n",
       " 386,\n",
       " 12,\n",
       " 8,\n",
       " 316,\n",
       " 8,\n",
       " 106,\n",
       " 5,\n",
       " 4,\n",
       " 2223,\n",
       " 5244,\n",
       " 16,\n",
       " 480,\n",
       " 66,\n",
       " 3785,\n",
       " 33,\n",
       " 4,\n",
       " 130,\n",
       " 12,\n",
       " 16,\n",
       " 38,\n",
       " 619,\n",
       " 5,\n",
       " 25,\n",
       " 124,\n",
       " 51,\n",
       " 36,\n",
       " 135,\n",
       " 48,\n",
       " 25,\n",
       " 1415,\n",
       " 33,\n",
       " 6,\n",
       " 22,\n",
       " 12,\n",
       " 215,\n",
       " 28,\n",
       " 77,\n",
       " 52,\n",
       " 5,\n",
       " 14,\n",
       " 407,\n",
       " 16,\n",
       " 82,\n",
       " 2,\n",
       " 8,\n",
       " 4,\n",
       " 107,\n",
       " 117,\n",
       " 5952,\n",
       " 15,\n",
       " 256,\n",
       " 4,\n",
       " 2,\n",
       " 7,\n",
       " 3766,\n",
       " 5,\n",
       " 723,\n",
       " 36,\n",
       " 71,\n",
       " 43,\n",
       " 530,\n",
       " 476,\n",
       " 26,\n",
       " 400,\n",
       " 317,\n",
       " 46,\n",
       " 7,\n",
       " 4,\n",
       " 2,\n",
       " 1029,\n",
       " 13,\n",
       " 104,\n",
       " 88,\n",
       " 4,\n",
       " 381,\n",
       " 15,\n",
       " 297,\n",
       " 98,\n",
       " 32,\n",
       " 2071,\n",
       " 56,\n",
       " 26,\n",
       " 141,\n",
       " 6,\n",
       " 194,\n",
       " 7486,\n",
       " 18,\n",
       " 4,\n",
       " 226,\n",
       " 22,\n",
       " 21,\n",
       " 134,\n",
       " 476,\n",
       " 26,\n",
       " 480,\n",
       " 5,\n",
       " 144,\n",
       " 30,\n",
       " 5535,\n",
       " 18,\n",
       " 51,\n",
       " 36,\n",
       " 28,\n",
       " 224,\n",
       " 92,\n",
       " 25,\n",
       " 104,\n",
       " 4,\n",
       " 226,\n",
       " 65,\n",
       " 16,\n",
       " 38,\n",
       " 1334,\n",
       " 88,\n",
       " 12,\n",
       " 16,\n",
       " 283,\n",
       " 5,\n",
       " 16,\n",
       " 4472,\n",
       " 113,\n",
       " 103,\n",
       " 32,\n",
       " 15,\n",
       " 16,\n",
       " 5345,\n",
       " 19,\n",
       " 178,\n",
       " 32]"
      ]
     },
     "execution_count": 5,
     "metadata": {},
     "output_type": "execute_result"
    }
   ],
   "source": [
    "train_data[0]"
   ]
  },
  {
   "cell_type": "code",
   "execution_count": 6,
   "metadata": {},
   "outputs": [
    {
     "data": {
      "text/plain": [
       "218"
      ]
     },
     "execution_count": 6,
     "metadata": {},
     "output_type": "execute_result"
    }
   ],
   "source": [
    "len(train_data[0])"
   ]
  },
  {
   "cell_type": "code",
   "execution_count": 7,
   "metadata": {},
   "outputs": [
    {
     "data": {
      "text/plain": [
       "1"
      ]
     },
     "execution_count": 7,
     "metadata": {},
     "output_type": "execute_result"
    }
   ],
   "source": [
    "# 긍정 1 부정 0 \n",
    "# 첫번째 리뷰의 답 확인 \n",
    "train_labels[0]"
   ]
  },
  {
   "cell_type": "code",
   "execution_count": 8,
   "metadata": {},
   "outputs": [
    {
     "data": {
      "text/plain": [
       "9999"
      ]
     },
     "execution_count": 8,
     "metadata": {},
     "output_type": "execute_result"
    }
   ],
   "source": [
    "# 리뷰가운데 최대길이\n",
    "# 리뷰들의 길이 \n",
    "# 만단어 이내로 들어가 있는\n",
    "max([max(seq) for seq in train_data])"
   ]
  },
  {
   "cell_type": "code",
   "execution_count": 9,
   "metadata": {},
   "outputs": [],
   "source": [
    "word_index= imdb.get_word_index() \n",
    "reverse_word_index = dict(\n",
    "    [(value,key) for (key,value) in word_index.items()]\n",
    ")\n",
    "decoded_review =  \" \".join(\n",
    "    [reverse_word_index.get(i-3,\"?\") for i in train_data[0]]\n",
    ")"
   ]
  },
  {
   "cell_type": "code",
   "execution_count": 10,
   "metadata": {},
   "outputs": [
    {
     "data": {
      "text/plain": [
       "\"? this film was just brilliant casting location scenery story direction everyone's really suited the part they played and you could just imagine being there robert ? is an amazing actor and now the same being director ? father came from the same scottish island as myself so i loved the fact there was a real connection with this film the witty remarks throughout the film were great it was just brilliant so much that i bought the film as soon as it was released for ? and would recommend it to everyone to watch and the fly fishing was amazing really cried at the end it was so sad and you know what they say if you cry at a film it must have been good and this definitely was also ? to the two little boy's that played the ? of norman and paul they were just brilliant children are often left out of the ? list i think because the stars that play them all grown up are such a big profile for the whole film but these children are amazing and should be praised for what they have done don't you think the whole story was so lovely because it was true and was someone's life after all that was shared with us all\""
      ]
     },
     "execution_count": 10,
     "metadata": {},
     "output_type": "execute_result"
    }
   ],
   "source": [
    "decoded_review"
   ]
  },
  {
   "cell_type": "code",
   "execution_count": 11,
   "metadata": {},
   "outputs": [],
   "source": [
    "def vectorize_seqs(seqs,dims = 10000):\n",
    "    results = np.zeros((len(seqs),dims))\n",
    "    for i ,seq in enumerate(seqs):\n",
    "        for j in seq:\n",
    "            results[i,j] = 1\n",
    "    return results"
   ]
  },
  {
   "cell_type": "code",
   "execution_count": 12,
   "metadata": {},
   "outputs": [
    {
     "data": {
      "text/plain": [
       "((25000, 10000), (25000, 10000))"
      ]
     },
     "execution_count": 12,
     "metadata": {},
     "output_type": "execute_result"
    }
   ],
   "source": [
    "x_train = vectorize_seqs(train_data)\n",
    "x_test = vectorize_seqs(test_data)\n",
    "x_train.shape ,x_test.shape"
   ]
  },
  {
   "cell_type": "code",
   "execution_count": 13,
   "metadata": {},
   "outputs": [
    {
     "data": {
      "text/plain": [
       "array([0., 1., 1., ..., 0., 0., 0.])"
      ]
     },
     "execution_count": 13,
     "metadata": {},
     "output_type": "execute_result"
    }
   ],
   "source": [
    "x_train[0]"
   ]
  },
  {
   "cell_type": "code",
   "execution_count": 14,
   "metadata": {},
   "outputs": [
    {
     "data": {
      "text/plain": [
       "numpy.ndarray"
      ]
     },
     "execution_count": 14,
     "metadata": {},
     "output_type": "execute_result"
    }
   ],
   "source": [
    "type(train_labels)"
   ]
  },
  {
   "cell_type": "code",
   "execution_count": 15,
   "metadata": {},
   "outputs": [
    {
     "data": {
      "text/plain": [
       "array([0., 1., 1., ..., 0., 0., 0.], dtype=float32)"
      ]
     },
     "execution_count": 15,
     "metadata": {},
     "output_type": "execute_result"
    }
   ],
   "source": [
    "np.asarray(train_labels).astype('float32')\n",
    "np.asarray(test_labels).astype('float32')"
   ]
  },
  {
   "cell_type": "code",
   "execution_count": 16,
   "metadata": {},
   "outputs": [
    {
     "name": "stdout",
     "output_type": "stream",
     "text": [
      "WARNING:tensorflow:From c:\\ProgramData\\anaconda3\\envs\\ml-dev\\lib\\site-packages\\keras\\src\\backend.py:873: The name tf.get_default_graph is deprecated. Please use tf.compat.v1.get_default_graph instead.\n",
      "\n"
     ]
    }
   ],
   "source": [
    "model = keras.Sequential([\n",
    "    layers.Dense(16,activation = 'relu')\n",
    "    ,layers.Dense(16,activation = 'relu')\n",
    "    ,layers.Dense(1,activation = 'sigmoid')\n",
    "])\n",
    "# 0-1까지 백터센트 로 만든다.\n",
    "# 유닛이 하나일경우이기에 시그모이드를 사용한다\n",
    "# 유닛이 한개인이유는 원래답이 0-1 d이여서 그렇다\n",
    "# 타겟의 범위를 맞춰준다. 시그모이드펑션에 태운다\n",
    "# 0에 가까워진다\n",
    "# 오차도 연속값이기에 계속나와야한다\n",
    "# 소프트맥스가 맞다\n",
    "# 원래답을 수정하는것이니까.\n"
   ]
  },
  {
   "cell_type": "code",
   "execution_count": 17,
   "metadata": {},
   "outputs": [
    {
     "name": "stdout",
     "output_type": "stream",
     "text": [
      "WARNING:tensorflow:From c:\\ProgramData\\anaconda3\\envs\\ml-dev\\lib\\site-packages\\keras\\src\\optimizers\\__init__.py:309: The name tf.train.Optimizer is deprecated. Please use tf.compat.v1.train.Optimizer instead.\n",
      "\n"
     ]
    }
   ],
   "source": [
    "model.compile(optimizer=\"rmsprop\",\n",
    "              loss=\"binary_crossentropy\",\n",
    "              metrics=[\"accuracy\"])\n"
   ]
  },
  {
   "cell_type": "code",
   "execution_count": 18,
   "metadata": {},
   "outputs": [],
   "source": [
    "y_train = np.asarray(train_labels).astype(\"float32\")\n",
    "y_test = np.asarray(test_labels).astype(\"float32\")"
   ]
  },
  {
   "cell_type": "code",
   "execution_count": 19,
   "metadata": {},
   "outputs": [],
   "source": [
    "x_val = x_train[:10000]\n",
    "partial_x_train = x_train[10000:]\n",
    "y_val = y_train[:10000]\n",
    "partial_y_train = y_train[10000:]\n"
   ]
  },
  {
   "cell_type": "code",
   "execution_count": 20,
   "metadata": {},
   "outputs": [
    {
     "name": "stdout",
     "output_type": "stream",
     "text": [
      "Epoch 1/20\n",
      "WARNING:tensorflow:From c:\\ProgramData\\anaconda3\\envs\\ml-dev\\lib\\site-packages\\keras\\src\\utils\\tf_utils.py:492: The name tf.ragged.RaggedTensorValue is deprecated. Please use tf.compat.v1.ragged.RaggedTensorValue instead.\n",
      "\n",
      "WARNING:tensorflow:From c:\\ProgramData\\anaconda3\\envs\\ml-dev\\lib\\site-packages\\keras\\src\\engine\\base_layer_utils.py:384: The name tf.executing_eagerly_outside_functions is deprecated. Please use tf.compat.v1.executing_eagerly_outside_functions instead.\n",
      "\n",
      "30/30 [==============================] - 2s 29ms/step - loss: 0.5229 - accuracy: 0.7868 - val_loss: 0.3983 - val_accuracy: 0.8628\n",
      "Epoch 2/20\n",
      "30/30 [==============================] - 0s 10ms/step - loss: 0.3282 - accuracy: 0.8939 - val_loss: 0.3627 - val_accuracy: 0.8509\n",
      "Epoch 3/20\n",
      "30/30 [==============================] - 0s 11ms/step - loss: 0.2506 - accuracy: 0.9162 - val_loss: 0.2927 - val_accuracy: 0.8855\n",
      "Epoch 4/20\n",
      "30/30 [==============================] - 0s 11ms/step - loss: 0.2024 - accuracy: 0.9329 - val_loss: 0.2963 - val_accuracy: 0.8814\n",
      "Epoch 5/20\n",
      "30/30 [==============================] - 0s 11ms/step - loss: 0.1704 - accuracy: 0.9444 - val_loss: 0.2746 - val_accuracy: 0.8886\n",
      "Epoch 6/20\n",
      "30/30 [==============================] - 0s 11ms/step - loss: 0.1449 - accuracy: 0.9521 - val_loss: 0.2804 - val_accuracy: 0.8875\n",
      "Epoch 7/20\n",
      "30/30 [==============================] - 0s 11ms/step - loss: 0.1232 - accuracy: 0.9617 - val_loss: 0.3046 - val_accuracy: 0.8797\n",
      "Epoch 8/20\n",
      "30/30 [==============================] - 0s 11ms/step - loss: 0.1041 - accuracy: 0.9715 - val_loss: 0.3002 - val_accuracy: 0.8835\n",
      "Epoch 9/20\n",
      "30/30 [==============================] - 0s 11ms/step - loss: 0.0873 - accuracy: 0.9763 - val_loss: 0.3325 - val_accuracy: 0.8828\n",
      "Epoch 10/20\n",
      "30/30 [==============================] - 0s 11ms/step - loss: 0.0775 - accuracy: 0.9803 - val_loss: 0.3297 - val_accuracy: 0.8798\n",
      "Epoch 11/20\n",
      "30/30 [==============================] - 0s 11ms/step - loss: 0.0649 - accuracy: 0.9839 - val_loss: 0.3603 - val_accuracy: 0.8739\n",
      "Epoch 12/20\n",
      "30/30 [==============================] - 0s 11ms/step - loss: 0.0521 - accuracy: 0.9890 - val_loss: 0.4301 - val_accuracy: 0.8670\n",
      "Epoch 13/20\n",
      "30/30 [==============================] - 0s 11ms/step - loss: 0.0455 - accuracy: 0.9913 - val_loss: 0.3854 - val_accuracy: 0.8784\n",
      "Epoch 14/20\n",
      "30/30 [==============================] - 0s 11ms/step - loss: 0.0403 - accuracy: 0.9915 - val_loss: 0.4047 - val_accuracy: 0.8789\n",
      "Epoch 15/20\n",
      "30/30 [==============================] - 0s 11ms/step - loss: 0.0292 - accuracy: 0.9956 - val_loss: 0.4248 - val_accuracy: 0.8728\n",
      "Epoch 16/20\n",
      "30/30 [==============================] - 0s 12ms/step - loss: 0.0268 - accuracy: 0.9966 - val_loss: 0.4454 - val_accuracy: 0.8756\n",
      "Epoch 17/20\n",
      "30/30 [==============================] - 0s 13ms/step - loss: 0.0219 - accuracy: 0.9967 - val_loss: 0.4710 - val_accuracy: 0.8705\n",
      "Epoch 18/20\n",
      "30/30 [==============================] - 0s 12ms/step - loss: 0.0187 - accuracy: 0.9973 - val_loss: 0.4888 - val_accuracy: 0.8754\n",
      "Epoch 19/20\n",
      "30/30 [==============================] - 0s 11ms/step - loss: 0.0134 - accuracy: 0.9991 - val_loss: 0.5045 - val_accuracy: 0.8735\n",
      "Epoch 20/20\n",
      "30/30 [==============================] - 0s 10ms/step - loss: 0.0137 - accuracy: 0.9982 - val_loss: 0.5215 - val_accuracy: 0.8732\n"
     ]
    }
   ],
   "source": [
    "history = model.fit(partial_x_train,\n",
    "                    partial_y_train,\n",
    "                    epochs=20,\n",
    "                    batch_size=512,\n",
    "                    validation_data=(x_val, y_val))"
   ]
  },
  {
   "cell_type": "code",
   "execution_count": 21,
   "metadata": {},
   "outputs": [
    {
     "data": {
      "text/plain": [
       "{'loss': [0.5228787660598755,\n",
       "  0.3281809687614441,\n",
       "  0.2506042718887329,\n",
       "  0.20235195755958557,\n",
       "  0.17036741971969604,\n",
       "  0.14494891464710236,\n",
       "  0.12319013476371765,\n",
       "  0.10407119989395142,\n",
       "  0.0873209536075592,\n",
       "  0.07754269987344742,\n",
       "  0.06485094130039215,\n",
       "  0.052076686173677444,\n",
       "  0.04553791508078575,\n",
       "  0.04025230184197426,\n",
       "  0.02923744171857834,\n",
       "  0.02680380642414093,\n",
       "  0.0218609981238842,\n",
       "  0.018669575452804565,\n",
       "  0.013367650099098682,\n",
       "  0.013741511851549149],\n",
       " 'accuracy': [0.7868000268936157,\n",
       "  0.8939333558082581,\n",
       "  0.9161999821662903,\n",
       "  0.9329333305358887,\n",
       "  0.9444000124931335,\n",
       "  0.9520666599273682,\n",
       "  0.961733341217041,\n",
       "  0.9715333580970764,\n",
       "  0.9762666821479797,\n",
       "  0.9802666902542114,\n",
       "  0.9839333295822144,\n",
       "  0.9890000224113464,\n",
       "  0.991266667842865,\n",
       "  0.9914666414260864,\n",
       "  0.9955999851226807,\n",
       "  0.9965999722480774,\n",
       "  0.996666669845581,\n",
       "  0.9972666501998901,\n",
       "  0.9991333484649658,\n",
       "  0.998199999332428],\n",
       " 'val_loss': [0.3982980251312256,\n",
       "  0.3627176880836487,\n",
       "  0.2927345335483551,\n",
       "  0.2963153123855591,\n",
       "  0.2745891511440277,\n",
       "  0.28040868043899536,\n",
       "  0.30455684661865234,\n",
       "  0.300175279378891,\n",
       "  0.3325204849243164,\n",
       "  0.32973426580429077,\n",
       "  0.3602765202522278,\n",
       "  0.4301302134990692,\n",
       "  0.385390043258667,\n",
       "  0.40470176935195923,\n",
       "  0.42481011152267456,\n",
       "  0.4454338848590851,\n",
       "  0.4709849953651428,\n",
       "  0.48877161741256714,\n",
       "  0.5044716596603394,\n",
       "  0.5215274691581726],\n",
       " 'val_accuracy': [0.8628000020980835,\n",
       "  0.8508999943733215,\n",
       "  0.8855000138282776,\n",
       "  0.8813999891281128,\n",
       "  0.8885999917984009,\n",
       "  0.887499988079071,\n",
       "  0.8797000050544739,\n",
       "  0.8834999799728394,\n",
       "  0.8827999830245972,\n",
       "  0.879800021648407,\n",
       "  0.8738999962806702,\n",
       "  0.8669999837875366,\n",
       "  0.8784000277519226,\n",
       "  0.8788999915122986,\n",
       "  0.8727999925613403,\n",
       "  0.8755999803543091,\n",
       "  0.8705000281333923,\n",
       "  0.8754000067710876,\n",
       "  0.8734999895095825,\n",
       "  0.873199999332428]}"
      ]
     },
     "execution_count": 21,
     "metadata": {},
     "output_type": "execute_result"
    }
   ],
   "source": [
    "history.history\n",
    "# 대기하는 함수# 딕션너리 학습데이터에 대한"
   ]
  },
  {
   "cell_type": "code",
   "execution_count": 22,
   "metadata": {},
   "outputs": [
    {
     "data": {
      "text/plain": [
       "dict_keys(['loss', 'accuracy', 'val_loss', 'val_accuracy'])"
      ]
     },
     "execution_count": 22,
     "metadata": {},
     "output_type": "execute_result"
    }
   ],
   "source": [
    "history_dict = history.history\n",
    "history_dict.keys()"
   ]
  },
  {
   "cell_type": "code",
   "execution_count": 25,
   "metadata": {},
   "outputs": [
    {
     "data": {
      "image/png": "[encoded data removed]",
      "text/plain": [
       "<Figure size 640x480 with 1 Axes>"
      ]
     },
     "metadata": {},
     "output_type": "display_data"
    }
   ],
   "source": [
    "# 시각화\n",
    "# 유닛\n",
    "import matplotlib.pyplot as plt \n",
    "loss_values = history_dict['loss']\n",
    "val_loss_values = history_dict['val_loss']\n",
    "epochs = range(1,len(loss_values)+1)\n",
    "plt.plot(\n",
    "    epochs\n",
    "    ,loss_values\n",
    "    ,'bo'\n",
    "    , label = 'Training loss'\n",
    ")\n",
    "plt.plot(\n",
    "    epochs\n",
    "    ,val_loss_values\n",
    "    ,'b'\n",
    "    ,label = 'Validation loss'\n",
    ")\n",
    "plt.title('Traomomg and validation loss')\n",
    "plt.xlabel('Epochs')\n",
    "plt.ylabel('Loss')\n",
    "plt.legend()\n",
    "plt.show()# \n",
    "#print(loss_values,end=',')"
   ]
  },
  {
   "cell_type": "code",
   "execution_count": 24,
   "metadata": {},
   "outputs": [
    {
     "ename": "NameError",
     "evalue": "name 'ᅲ' is not defined",
     "output_type": "error",
     "traceback": [
      "\u001b[1;31m---------------------------------------------------------------------------\u001b[0m",
      "\u001b[1;31mNameError\u001b[0m                                 Traceback (most recent call last)",
      "Cell \u001b[1;32mIn[24], line 5\u001b[0m\n\u001b[0;32m      1\u001b[0m \u001b[38;5;66;03m# 이진분류가 크로스 엔트로피를 사용해야 좋다\u001b[39;00m\n\u001b[0;32m      2\u001b[0m \u001b[38;5;66;03m# 오차함수 오차값 크로스엔트로피에 대한 분류에선 무조건 확률가지고 한다. 뺏는데 변화가 없으면 학습이 완료된다.\u001b[39;00m\n\u001b[0;32m      3\u001b[0m \u001b[38;5;66;03m# 왕창빼기신경망웨이트가 어떻게수정되는지 \u001b[39;00m\n\u001b[0;32m      4\u001b[0m \u001b[38;5;66;03m# 크로스될오차함수이다. 반대ㅠㅕㄴ의 mse는오차만 구하는데 crosse트로피는 오차를 ㅗㄱㅂ하는것 \u001b[39;00m\n\u001b[1;32m----> 5\u001b[0m \u001b[43mㅠ\u001b[49m\n",
      "\u001b[1;31mNameError\u001b[0m: name 'ᅲ' is not defined"
     ]
    }
   ],
   "source": [
    "# 이진분류가 크로스 엔트로피를 사용해야 좋다\n",
    "# 오차함수 오차값 크로스엔트로피에 대한 분류에선 무조건 확률가지고 한다. 뺏는데 변화가 없으면 학습이 완료된다.\n",
    "# 왕창빼기신경망웨이트가 어떻게수정되는지 \n",
    "# 크로스될오차함수이다. 반대ㅠㅕㄴ의 mse는오차만 구하는데 crosse트로피는 오차를 ㅗㄱㅂ하는것 \n",
    "ㅠ"
   ]
  },
  {
   "cell_type": "code",
   "execution_count": 26,
   "metadata": {},
   "outputs": [
    {
     "data": {
      "text/plain": [
       "{'loss': [0.5228787660598755,\n",
       "  0.3281809687614441,\n",
       "  0.2506042718887329,\n",
       "  0.20235195755958557,\n",
       "  0.17036741971969604,\n",
       "  0.14494891464710236,\n",
       "  0.12319013476371765,\n",
       "  0.10407119989395142,\n",
       "  0.0873209536075592,\n",
       "  0.07754269987344742,\n",
       "  0.06485094130039215,\n",
       "  0.052076686173677444,\n",
       "  0.04553791508078575,\n",
       "  0.04025230184197426,\n",
       "  0.02923744171857834,\n",
       "  0.02680380642414093,\n",
       "  0.0218609981238842,\n",
       "  0.018669575452804565,\n",
       "  0.013367650099098682,\n",
       "  0.013741511851549149],\n",
       " 'accuracy': [0.7868000268936157,\n",
       "  0.8939333558082581,\n",
       "  0.9161999821662903,\n",
       "  0.9329333305358887,\n",
       "  0.9444000124931335,\n",
       "  0.9520666599273682,\n",
       "  0.961733341217041,\n",
       "  0.9715333580970764,\n",
       "  0.9762666821479797,\n",
       "  0.9802666902542114,\n",
       "  0.9839333295822144,\n",
       "  0.9890000224113464,\n",
       "  0.991266667842865,\n",
       "  0.9914666414260864,\n",
       "  0.9955999851226807,\n",
       "  0.9965999722480774,\n",
       "  0.996666669845581,\n",
       "  0.9972666501998901,\n",
       "  0.9991333484649658,\n",
       "  0.998199999332428],\n",
       " 'val_loss': [0.3982980251312256,\n",
       "  0.3627176880836487,\n",
       "  0.2927345335483551,\n",
       "  0.2963153123855591,\n",
       "  0.2745891511440277,\n",
       "  0.28040868043899536,\n",
       "  0.30455684661865234,\n",
       "  0.300175279378891,\n",
       "  0.3325204849243164,\n",
       "  0.32973426580429077,\n",
       "  0.3602765202522278,\n",
       "  0.4301302134990692,\n",
       "  0.385390043258667,\n",
       "  0.40470176935195923,\n",
       "  0.42481011152267456,\n",
       "  0.4454338848590851,\n",
       "  0.4709849953651428,\n",
       "  0.48877161741256714,\n",
       "  0.5044716596603394,\n",
       "  0.5215274691581726],\n",
       " 'val_accuracy': [0.8628000020980835,\n",
       "  0.8508999943733215,\n",
       "  0.8855000138282776,\n",
       "  0.8813999891281128,\n",
       "  0.8885999917984009,\n",
       "  0.887499988079071,\n",
       "  0.8797000050544739,\n",
       "  0.8834999799728394,\n",
       "  0.8827999830245972,\n",
       "  0.879800021648407,\n",
       "  0.8738999962806702,\n",
       "  0.8669999837875366,\n",
       "  0.8784000277519226,\n",
       "  0.8788999915122986,\n",
       "  0.8727999925613403,\n",
       "  0.8755999803543091,\n",
       "  0.8705000281333923,\n",
       "  0.8754000067710876,\n",
       "  0.8734999895095825,\n",
       "  0.873199999332428]}"
      ]
     },
     "execution_count": 26,
     "metadata": {},
     "output_type": "execute_result"
    }
   ],
   "source": [
    "history.history"
   ]
  },
  {
   "cell_type": "code",
   "execution_count": null,
   "metadata": {},
   "outputs": [],
   "source": [
    "loss_values = history_dict['loss']\n",
    "acc = history_dict['validation']\n",
    "epochs = range(1,len(loss_values)+1)\n",
    "plt.plot(\n",
    "    epochs\n",
    "    ,loss_values\n",
    "    ,'bo'\n",
    "    , label = 'Training loss'\n",
    ")\n",
    "plt.plot(\n",
    "    epochs\n",
    "    ,val_loss_values\n",
    "    ,'b'\n",
    "    ,label = 'Validation loss'\n",
    ")\n",
    "plt.title('Traomomg and validation loss')\n",
    "plt.xlabel('Epochs')\n",
    "plt.ylabel('Loss')\n",
    "plt.legend()\n",
    "plt.show()# \n"
   ]
  },
  {
   "cell_type": "code",
   "execution_count": null,
   "metadata": {},
   "outputs": [],
   "source": [
    "# 3500rodml flqb\n",
    "# 시그모이드를 태워서 영부터 1까지 1에 가깝다\n",
    "# 어정쩡한 데이터는  0.1가까워지면 부정\n",
    "# 1에 대한 키운다 크로스 엔 트로피\n",
    "# 0.65이0.9나 92크로스한0.65가 긍부정이 아니다, 쓰레기 예측값\n",
    "# 0.01또는 0.99이상이때 확실하다. \n",
    "# 정보의 확실성 교차검증을 했다. \n",
    "# 0.5에 가까워질수록 안좋다......................\n",
    "# 레이어는 재표현층이다. \n",
    "# 오차는 그안에서 오차만때려잡는다. 확률적인 것을 잡는다.\n",
    "# 미리 이야기하자면 이진 분류가 바이너리 크로스벨류  마이너스 무한대부터 +무한대까지\n",
    "# 마이너스 1 부터 플러스 1까지 \n",
    "# 렐루는 정규화\n",
    "# 데이터 빼면 크로스엔트로피가 핵심이다\n",
    "# .\n"
   ]
  },
  {
   "cell_type": "code",
   "execution_count": null,
   "metadata": {},
   "outputs": [],
   "source": []
  },
  {
   "cell_type": "code",
   "execution_count": null,
   "metadata": {},
   "outputs": [],
   "source": []
  },
  {
   "cell_type": "code",
   "execution_count": null,
   "metadata": {},
   "outputs": [],
   "source": []
  },
  {
   "cell_type": "code",
   "execution_count": null,
   "metadata": {},
   "outputs": [],
   "source": []
  },
  {
   "cell_type": "code",
   "execution_count": null,
   "metadata": {},
   "outputs": [],
   "source": []
  },
  {
   "cell_type": "code",
   "execution_count": null,
   "metadata": {},
   "outputs": [],
   "source": []
  }
 ],
 "metadata": {
  "kernelspec": {
   "display_name": "ml-dev",
   "language": "python",
   "name": "python3"
  },
  "language_info": {
   "codemirror_mode": {
    "name": "ipython",
    "version": 3
   },
   "file_extension": ".py",
   "mimetype": "text/x-python",
   "name": "python",
   "nbconvert_exporter": "python",
   "pygments_lexer": "ipython3",
   "version": "3.10.13"
  }
 },
 "nbformat": 4,
 "nbformat_minor": 2
}
